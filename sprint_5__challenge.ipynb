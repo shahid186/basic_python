{
 "cells": [
  {
   "cell_type": "markdown",
   "id": "5849faf4",
   "metadata": {},
   "source": [
    "# task 1"
   ]
  },
  {
   "cell_type": "code",
   "execution_count": 1,
   "id": "5ebdf2ae",
   "metadata": {},
   "outputs": [],
   "source": [
    "import math"
   ]
  },
  {
   "cell_type": "code",
   "execution_count": 1,
   "id": "c2a137d9",
   "metadata": {},
   "outputs": [
    {
     "name": "stdout",
     "output_type": "stream",
     "text": [
      "enter the value7\n",
      "7 x 1 = 7\n",
      "7 x 2 = 14\n",
      "7 x 3 = 21\n",
      "7 x 4 = 28\n",
      "7 x 5 = 35\n",
      "7 x 6 = 42\n",
      "7 x 7 = 49\n",
      "7 x 8 = 56\n",
      "7 x 9 = 63\n",
      "7 x 10 = 70\n"
     ]
    }
   ],
   "source": [
    "m=int(input('enter the value'))\n",
    "for i in range(1,11):\n",
    "    print(m,'x',i,'=',m*i)"
   ]
  },
  {
   "cell_type": "code",
   "execution_count": 2,
   "id": "ac0488f5",
   "metadata": {},
   "outputs": [
    {
     "name": "stdout",
     "output_type": "stream",
     "text": [
      "enter the value3\n",
      "3 x 1 = 3\n",
      "3 x 2 = 6\n",
      "3 x 3 = 9\n",
      "3 x 4 = 12\n",
      "3 x 5 = 15\n",
      "3 x 6 = 18\n",
      "3 x 7 = 21\n",
      "3 x 8 = 24\n",
      "3 x 9 = 27\n",
      "3 x 10 = 30\n"
     ]
    }
   ],
   "source": [
    "b=int(input('enter the value'))\n",
    "for i in range (1,11):\n",
    "    print(b,'x',i,'=',b*i)"
   ]
  },
  {
   "cell_type": "code",
   "execution_count": 1,
   "id": "3fb086ac",
   "metadata": {},
   "outputs": [
    {
     "name": "stdout",
     "output_type": "stream",
     "text": [
      "enter the number6\n",
      "6 x 1 = 6\n",
      "6 x 2 = 12\n",
      "6 x 3 = 18\n",
      "6 x 4 = 24\n",
      "6 x 5 = 30\n",
      "6 x 6 = 36\n",
      "6 x 7 = 42\n",
      "6 x 8 = 48\n",
      "6 x 9 = 54\n",
      "6 x 10 = 60\n"
     ]
    }
   ],
   "source": [
    "m=int(input('enter the number'))\n",
    "for i in range(1,11):\n",
    "    print(m,'x',i,'=',m*i)"
   ]
  },
  {
   "cell_type": "code",
   "execution_count": 2,
   "id": "19331522",
   "metadata": {},
   "outputs": [
    {
     "name": "stdout",
     "output_type": "stream",
     "text": [
      "enter the table5\n",
      "5 x 1 = 5\n",
      "5 x 2 = 10\n",
      "5 x 3 = 15\n",
      "5 x 4 = 20\n",
      "5 x 5 = 25\n",
      "5 x 6 = 30\n",
      "5 x 7 = 35\n",
      "5 x 8 = 40\n",
      "5 x 9 = 45\n",
      "5 x 10 = 50\n"
     ]
    }
   ],
   "source": [
    "bv=int(input('enter the table'))\n",
    "for i in range (1,11):\n",
    "    print(bv,'x',i,'=',bv*i)"
   ]
  },
  {
   "cell_type": "code",
   "execution_count": 1,
   "id": "be963a77",
   "metadata": {},
   "outputs": [
    {
     "name": "stdout",
     "output_type": "stream",
     "text": [
      "enter the name7\n",
      "7 x 1 = 7\n",
      "7 x 2 = 14\n",
      "7 x 3 = 21\n",
      "7 x 4 = 28\n",
      "7 x 5 = 35\n",
      "7 x 6 = 42\n",
      "7 x 7 = 49\n",
      "7 x 8 = 56\n",
      "7 x 9 = 63\n",
      "7 x 10 = 70\n"
     ]
    }
   ],
   "source": [
    "s=int(input('enter the name'))\n",
    "for i in range(1,11):\n",
    "    print(s,'x',i,'=',s*i)"
   ]
  },
  {
   "cell_type": "code",
   "execution_count": null,
   "id": "cc97a624",
   "metadata": {},
   "outputs": [],
   "source": [
    "def radian_degree(x):\n",
    "    "
   ]
  },
  {
   "cell_type": "code",
   "execution_count": 3,
   "id": "cfebec19",
   "metadata": {},
   "outputs": [
    {
     "ename": "SyntaxError",
     "evalue": "incomplete input (1712311330.py, line 1)",
     "output_type": "error",
     "traceback": [
      "\u001b[1;36m  Cell \u001b[1;32mIn[3], line 1\u001b[1;36m\u001b[0m\n\u001b[1;33m    def randian_degree(x):\u001b[0m\n\u001b[1;37m                          ^\u001b[0m\n\u001b[1;31mSyntaxError\u001b[0m\u001b[1;31m:\u001b[0m incomplete input\n"
     ]
    }
   ],
   "source": [
    "def randian_degree(x):"
   ]
  },
  {
   "cell_type": "code",
   "execution_count": 4,
   "id": "ea9460bb",
   "metadata": {},
   "outputs": [],
   "source": [
    "#1\n",
    "def radian_degree(x):\n",
    "    return (x*180)/math.pi\n"
   ]
  },
  {
   "cell_type": "code",
   "execution_count": 2,
   "id": "53dd499d",
   "metadata": {},
   "outputs": [],
   "source": [
    "def shahid(x):\n",
    "    return(x*180)"
   ]
  },
  {
   "cell_type": "code",
   "execution_count": 3,
   "id": "b6977d5f",
   "metadata": {},
   "outputs": [
    {
     "ename": "NameError",
     "evalue": "name 'x' is not defined",
     "output_type": "error",
     "traceback": [
      "\u001b[1;31m---------------------------------------------------------------------------\u001b[0m",
      "\u001b[1;31mNameError\u001b[0m                                 Traceback (most recent call last)",
      "Cell \u001b[1;32mIn[3], line 1\u001b[0m\n\u001b[1;32m----> 1\u001b[0m shahid(\u001b[43mx\u001b[49m)\n",
      "\u001b[1;31mNameError\u001b[0m: name 'x' is not defined"
     ]
    }
   ],
   "source": [
    "shahid(x)"
   ]
  },
  {
   "cell_type": "code",
   "execution_count": 5,
   "id": "b2d49b32",
   "metadata": {},
   "outputs": [],
   "source": [
    "#2\n",
    "def degree_radians(x):\n",
    "    return x *(math.pi/180)"
   ]
  },
  {
   "cell_type": "code",
   "execution_count": 4,
   "id": "12e37d97",
   "metadata": {},
   "outputs": [],
   "source": [
    "def no_factorial(x):\n",
    "    return x*(math.pi/180)"
   ]
  },
  {
   "cell_type": "code",
   "execution_count": 7,
   "id": "a417718a",
   "metadata": {},
   "outputs": [
    {
     "data": {
      "text/plain": [
       "<function __main__.no_factorial(x)>"
      ]
     },
     "execution_count": 7,
     "metadata": {},
     "output_type": "execute_result"
    }
   ],
   "source": [
    "no_factorial"
   ]
  },
  {
   "cell_type": "code",
   "execution_count": 6,
   "id": "a06e6f11",
   "metadata": {},
   "outputs": [],
   "source": [
    "#3\n",
    "def no_factorial(x):\n",
    "    f=1\n",
    "    for i in range (1,x+1):\n",
    "        f=f*i\n",
    "    return f \n",
    "\n",
    "    "
   ]
  },
  {
   "cell_type": "code",
   "execution_count": 5,
   "id": "89691141",
   "metadata": {},
   "outputs": [],
   "source": [
    "def no_factorial(x):\n",
    "    f=1\n",
    "    for i in range (1,x+1):\n",
    "        f=f*i\n",
    "    return f"
   ]
  },
  {
   "cell_type": "code",
   "execution_count": 10,
   "id": "0791a62b",
   "metadata": {},
   "outputs": [
    {
     "data": {
      "text/plain": [
       "230843697339241380472092742683027581083278564571807941132288000000000000"
      ]
     },
     "execution_count": 10,
     "metadata": {},
     "output_type": "execute_result"
    }
   ],
   "source": [
    "no_factorial(54)"
   ]
  },
  {
   "cell_type": "code",
   "execution_count": 7,
   "id": "aaf96e76",
   "metadata": {},
   "outputs": [],
   "source": [
    "#4\n",
    "def number_squarroot(x):\n",
    "    return math.sqrt(x)\n",
    "    \n",
    "    \n",
    "    \n",
    "    "
   ]
  },
  {
   "cell_type": "code",
   "execution_count": null,
   "id": "0c3967ee",
   "metadata": {},
   "outputs": [],
   "source": []
  },
  {
   "cell_type": "code",
   "execution_count": 8,
   "id": "96dd41a9",
   "metadata": {},
   "outputs": [],
   "source": [
    "#5\n",
    "def no_megabyte_nibble(x):\n",
    "    return x*2097152\n",
    "    \n",
    "    "
   ]
  },
  {
   "cell_type": "code",
   "execution_count": 9,
   "id": "8d4708f0",
   "metadata": {},
   "outputs": [],
   "source": [
    "#6\n",
    "def fraction_decimal(x,y):\n",
    "    \n",
    "    return x/y\n",
    "    \n",
    "    \n",
    "    "
   ]
  },
  {
   "cell_type": "code",
   "execution_count": 66,
   "id": "f1d705cc",
   "metadata": {},
   "outputs": [
    {
     "data": {
      "text/plain": [
       "0.3333333333333333"
      ]
     },
     "execution_count": 66,
     "metadata": {},
     "output_type": "execute_result"
    }
   ],
   "source": [
    "fraction_decimal(1,3)"
   ]
  },
  {
   "cell_type": "code",
   "execution_count": 10,
   "id": "b32846b3",
   "metadata": {},
   "outputs": [],
   "source": [
    "#7\n",
    "def kilometer_second(x):\n",
    "    return x*(5/18)\n",
    "    \n",
    "    \n",
    "    \n",
    "    "
   ]
  },
  {
   "cell_type": "code",
   "execution_count": 11,
   "id": "724c21db",
   "metadata": {},
   "outputs": [],
   "source": [
    "#8\n",
    "def sec_kilometer(x):\n",
    "    return x*(18/5)\n",
    "    \n",
    "    "
   ]
  },
  {
   "cell_type": "code",
   "execution_count": 12,
   "id": "de61ad2a",
   "metadata": {},
   "outputs": [],
   "source": [
    "#9\n",
    "def integer_float(x):\n",
    "    return float(x)"
   ]
  },
  {
   "cell_type": "code",
   "execution_count": 13,
   "id": "737633dc",
   "metadata": {},
   "outputs": [],
   "source": [
    "#10\n",
    "def float_integer(x):\n",
    "    return int(x)"
   ]
  },
  {
   "cell_type": "code",
   "execution_count": 14,
   "id": "47a2bd41",
   "metadata": {},
   "outputs": [],
   "source": [
    "#11\n",
    "def decimal_octal(x):\n",
    "    return oct(x)\n",
    "    \n",
    "    "
   ]
  },
  {
   "cell_type": "code",
   "execution_count": 15,
   "id": "5961818b",
   "metadata": {},
   "outputs": [],
   "source": [
    "#12\n",
    "def octa_decimal(x):\n",
    "    return int(str(x),8)\n",
    "    "
   ]
  },
  {
   "cell_type": "code",
   "execution_count": 16,
   "id": "24ecd071",
   "metadata": {},
   "outputs": [],
   "source": [
    "#13\n",
    "def decimal_hexadecimal(x):\n",
    "    return oct(x)\n",
    "    "
   ]
  },
  {
   "cell_type": "code",
   "execution_count": 17,
   "id": "447257b1",
   "metadata": {},
   "outputs": [],
   "source": [
    "#14\n",
    "def hexadecimal_decimal(x):\n",
    "    return int(str(x),16)\n",
    "    "
   ]
  },
  {
   "cell_type": "code",
   "execution_count": 18,
   "id": "ec7d1d51",
   "metadata": {},
   "outputs": [],
   "source": [
    "#15\n",
    "def decimal_binary(x):\n",
    "    return ord(x)\n",
    "    "
   ]
  },
  {
   "cell_type": "code",
   "execution_count": 19,
   "id": "e241adea",
   "metadata": {},
   "outputs": [],
   "source": [
    "#16\n",
    "def binary_decimal(x):\n",
    "    return int(str(x),2)\n",
    "    "
   ]
  },
  {
   "cell_type": "code",
   "execution_count": 20,
   "id": "d7061b09",
   "metadata": {},
   "outputs": [],
   "source": [
    "#17\n",
    "def character_ascii(x):\n",
    "    return ord(x)\n",
    "    "
   ]
  },
  {
   "cell_type": "code",
   "execution_count": 21,
   "id": "a7ba80b7",
   "metadata": {},
   "outputs": [],
   "source": [
    "#18\n",
    "def ascii_character(x):\n",
    "     return chr(x)\n",
    "    \n",
    "    "
   ]
  },
  {
   "cell_type": "code",
   "execution_count": 22,
   "id": "5bb30de8",
   "metadata": {},
   "outputs": [],
   "source": [
    "#19\n",
    "def celsius_fahrenheit(x):\n",
    "    return(x*1.8) +32\n",
    "    "
   ]
  },
  {
   "cell_type": "code",
   "execution_count": 23,
   "id": "c114edd3",
   "metadata": {},
   "outputs": [],
   "source": [
    "#20\n",
    "def fahrenheit_celsius(x):\n",
    "    return (x-32)/1.8     \n",
    "    \n",
    "    "
   ]
  },
  {
   "cell_type": "code",
   "execution_count": null,
   "id": "40ce38b9",
   "metadata": {
    "scrolled": false
   },
   "outputs": [
    {
     "name": "stdout",
     "output_type": "stream",
     "text": [
      "press 1 for radian degree\n",
      "press 2 for degree radian\n",
      "press 3 for number to factorial\n",
      "press 4 for number to square root\n",
      "press 5 for megabyte to nibble\n",
      "press 6 for fraction to decimal\n",
      "press 7 for k/h to m/s\n",
      "press 8 for m/s to k/m \n",
      "press 9 forinteger to float  \n",
      "press 10 for float to integer \n",
      "press 11 for deciml to octal\n",
      "press 12 for octal to decimal\n",
      "press 13 for decimal to hexadecimal\n",
      "press 14 for hexadecimal to decimal\n",
      "press 15 for decimal to binary\n",
      "press 16 for binary to decimal\n",
      "press 17 for character to ascii\n",
      "press 18 for ascii to character\n",
      "press 19 celsius to fahranhite\n",
      "press 20 faharanhite to celsius\n",
      "----------------------------\n",
      "enter the choice1\n",
      "enter radian12\n",
      "degree: 687.5493541569879\n",
      "----------------------------\n",
      "enter the choice2\n",
      "enter degree33\n",
      "radian: 0.5759586531581288\n",
      "----------------------------\n",
      "enter the choice3\n",
      "enter number45\n",
      "factoria: 119622220865480194561963161495657715064383733760000000000\n",
      "----------------------------\n",
      "enter the choice4\n",
      "enter number67\n",
      "squareroot: 8.18535277187245\n",
      "----------------------------\n",
      "enter the choice5\n",
      "enter megabyte78\n",
      "nibble: 163577856\n",
      "----------------------------\n",
      "enter the choice7\n",
      "enter kilometer34\n",
      "second: 9.444444444444445\n",
      "----------------------------\n",
      "enter the choice8\n",
      "enter second34\n",
      "kilometer: 122.4\n",
      "----------------------------\n",
      "enter the choice9\n",
      "enter integer12\n",
      "float: 12.0\n",
      "----------------------------\n",
      "enter the choice10\n",
      "enter float45\n",
      "integer: 45\n",
      "----------------------------\n",
      "enter the choice11\n",
      "enter decimal14\n",
      "octal: 0o16\n",
      "----------------------------\n",
      "enter the choice12\n",
      "enter octa34\n",
      "decimal: 28\n",
      "----------------------------\n",
      "enter the choice13\n",
      "enter decimal 56\n",
      "hexadecima: 0o70\n",
      "----------------------------\n",
      "enter the choice14\n",
      "enter hexadecimal234\n",
      "decimal: 564\n",
      "----------------------------\n",
      "enter the choice16\n",
      "enter binary0\n",
      "decimal: 0\n",
      "----------------------------\n",
      "enter the choice19\n",
      "enter celsius34\n",
      "faharhite: 93.2\n",
      "----------------------------\n",
      "enter the choice20\n",
      "enter celsius56\n",
      "celsius: 13.333333333333332\n",
      "----------------------------\n"
     ]
    }
   ],
   "source": [
    "print (\"press 1 for radian degree\")\n",
    "print (\"press 2 for degree radian\")\n",
    "print (\"press 3 for number to factorial\")\n",
    "print (\"press 4 for number to square root\")\n",
    "print (\"press 5 for megabyte to nibble\")\n",
    "print (\"press 6 for fraction to decimal\")\n",
    "print (\"press 7 for k/h to m/s\")\n",
    "print (\"press 8 for m/s to k/m \")\n",
    "print (\"press 9 forinteger to float  \")\n",
    "print (\"press 10 for float to integer \")\n",
    "print (\"press 11 for deciml to octal\")\n",
    "print (\"press 12 for octal to decimal\")\n",
    "print (\"press 13 for decimal to hexadecimal\")\n",
    "print (\"press 14 for hexadecimal to decimal\")\n",
    "print (\"press 15 for decimal to binary\")\n",
    "print (\"press 16 for binary to decimal\")\n",
    "print (\"press 17 for character to ascii\")\n",
    "print (\"press 18 for ascii to character\")\n",
    "print (\"press 19 celsius to fahranhite\")\n",
    "print (\"press 20 faharanhite to celsius\")\n",
    "\n",
    "while True:\n",
    "    print('----------------------------')\n",
    "    choice=int(input('enter the choice'))\n",
    "    if choice==1:\n",
    "        print('degree:',radian_degree(float(input('enter radian'))))\n",
    "    elif choice==2:\n",
    "        print('radian:',degree_radians(int(input('enter degree'))))\n",
    "    elif choice==3:\n",
    "        \n",
    "        print('factoria:',no_factorial(int(input('enter number'))))   \n",
    "    elif choice==4:\n",
    "        print('squareroot:',number_squarroot(int(input('enter number'))))   \n",
    "    \n",
    "    elif choice==5:\n",
    "        print('nibble:',no_megabyte_nibble(int(input('enter megabyte'))))   \n",
    "    elif choice==6:\n",
    "        print('decimal:',fraction_decimal(int(input('enter fraction'))))\n",
    "              \n",
    "    elif choice==7:\n",
    "        print('second:',kilometer_second(int(input('enter kilometer'))))\n",
    "    \n",
    "    elif choice==8:\n",
    "        print('kilometer:',sec_kilometer(int(input('enter second'))))\n",
    "    elif choice==9:\n",
    "        print('float:',integer_float(int(input('enter integer'))))\n",
    "              \n",
    "    elif choice==10:\n",
    "        print('integer:',float_integer(int(input('enter float'))))         \n",
    "              \n",
    "    elif choice==11:\n",
    "        print('octal:',decimal_octal(int(input('enter decimal'))))                   \n",
    "              \n",
    "    elif choice==12:\n",
    "        print('decimal:',octa_decimal(int(input('enter octa'))))          \n",
    "              \n",
    "    elif choice==13:\n",
    "         print('hexadecima:',decimal_hexadecimal(int(input('enter decimal '))))          \n",
    "                        \n",
    "    elif choice==14:\n",
    "        print('decimal:',hexadecimal_decimal(int(input('enter hexadecimal'))))          \n",
    "    elif choice==15:\n",
    "        print('binary:',decimal_binary (int(input('enter decimal'))))                                 \n",
    "              \n",
    "    elif choice==16:\n",
    "         print('decimal:',binary_decimal(int(input('enter binary'))))                                   \n",
    "    elif choice==17:\n",
    "        print('ascii:',character_ascii(int(input('enter character'))))  \n",
    "    elif choice==18:\n",
    "                      \n",
    "        print('character:',ascii_character(int(input('enter ascii'))))            \n",
    "    elif choice==19:\n",
    "        print('faharhite:',celsius_fahrenheit(int(input('enter celsius'))))                 \n",
    "    elif choice==20:\n",
    "        print('celsius:',fahrenheit_celsius(int(input('enter celsius'))))                     \n",
    "    else:\n",
    "\n",
    "         break       \n",
    "              \n",
    "        \n",
    "              \n"
   ]
  },
  {
   "cell_type": "code",
   "execution_count": null,
   "id": "54ccc318",
   "metadata": {},
   "outputs": [],
   "source": []
  },
  {
   "cell_type": "code",
   "execution_count": null,
   "id": "6913cb3f",
   "metadata": {},
   "outputs": [],
   "source": []
  },
  {
   "cell_type": "code",
   "execution_count": null,
   "id": "463116d7",
   "metadata": {},
   "outputs": [],
   "source": []
  },
  {
   "cell_type": "code",
   "execution_count": null,
   "id": "8badc4e3",
   "metadata": {},
   "outputs": [],
   "source": []
  },
  {
   "cell_type": "code",
   "execution_count": null,
   "id": "162d0834",
   "metadata": {},
   "outputs": [],
   "source": []
  },
  {
   "cell_type": "code",
   "execution_count": null,
   "id": "7bb3fcb9",
   "metadata": {},
   "outputs": [],
   "source": []
  },
  {
   "cell_type": "code",
   "execution_count": null,
   "id": "fd97cd0a",
   "metadata": {},
   "outputs": [],
   "source": []
  },
  {
   "cell_type": "code",
   "execution_count": null,
   "id": "3f683a8e",
   "metadata": {},
   "outputs": [],
   "source": []
  },
  {
   "cell_type": "code",
   "execution_count": null,
   "id": "a336e225",
   "metadata": {},
   "outputs": [],
   "source": []
  },
  {
   "cell_type": "code",
   "execution_count": null,
   "id": "db3da3c8",
   "metadata": {},
   "outputs": [],
   "source": []
  },
  {
   "cell_type": "code",
   "execution_count": null,
   "id": "3839c2f6",
   "metadata": {},
   "outputs": [],
   "source": []
  },
  {
   "cell_type": "code",
   "execution_count": null,
   "id": "734ea8b5",
   "metadata": {},
   "outputs": [],
   "source": []
  },
  {
   "cell_type": "code",
   "execution_count": null,
   "id": "7dbf9594",
   "metadata": {},
   "outputs": [],
   "source": []
  }
 ],
 "metadata": {
  "kernelspec": {
   "display_name": "Python 3 (ipykernel)",
   "language": "python",
   "name": "python3"
  },
  "language_info": {
   "codemirror_mode": {
    "name": "ipython",
    "version": 3
   },
   "file_extension": ".py",
   "mimetype": "text/x-python",
   "name": "python",
   "nbconvert_exporter": "python",
   "pygments_lexer": "ipython3",
   "version": "3.10.9"
  }
 },
 "nbformat": 4,
 "nbformat_minor": 5
}
