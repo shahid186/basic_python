{
 "cells": [
  {
   "cell_type": "markdown",
   "id": "d494646e",
   "metadata": {},
   "source": [
    "# TASK1"
   ]
  },
  {
   "cell_type": "code",
   "execution_count": 2,
   "id": "b251ad78",
   "metadata": {},
   "outputs": [
    {
     "name": "stdout",
     "output_type": "stream",
     "text": [
      "false\n"
     ]
    }
   ],
   "source": [
    "myname=[\"joe\",\"zoe\",\"world\",\"brad\",\"angelina\",\"world\",\"zuki\",\"tom\",\"paris\",\"world\",\"magic\"]\n",
    "if myname==\"usa\":\n",
    "    print(\"true\")\n",
    "else:\n",
    "    print(\"false\")\n",
    "    "
   ]
  },
  {
   "cell_type": "code",
   "execution_count": 1,
   "id": "765014dc",
   "metadata": {},
   "outputs": [
    {
     "name": "stdout",
     "output_type": "stream",
     "text": [
      "false\n"
     ]
    }
   ],
   "source": [
    "my=['shahid','danish','cocl','haks','shahid']\n",
    "if my=='shahid':\n",
    "    print('true')\n",
    "else:\n",
    "    print('false')\n",
    "        "
   ]
  },
  {
   "cell_type": "code",
   "execution_count": 2,
   "id": "30812422",
   "metadata": {},
   "outputs": [
    {
     "data": {
      "text/plain": [
       "2"
      ]
     },
     "execution_count": 2,
     "metadata": {},
     "output_type": "execute_result"
    }
   ],
   "source": [
    "my.count('shahid')"
   ]
  },
  {
   "cell_type": "code",
   "execution_count": null,
   "id": "2311b864",
   "metadata": {},
   "outputs": [],
   "source": [
    "my=['joe','zoe',]"
   ]
  },
  {
   "cell_type": "code",
   "execution_count": 1,
   "id": "52e30e14",
   "metadata": {},
   "outputs": [
    {
     "name": "stdout",
     "output_type": "stream",
     "text": [
      "false\n"
     ]
    }
   ],
   "source": [
    "my=['shahid','irtiza','mango','danish','us','about','new']\n",
    "if my=='us':\n",
    "    print('true')\n",
    "else:\n",
    "    print('false')\n",
    "    \n",
    "    "
   ]
  },
  {
   "cell_type": "code",
   "execution_count": null,
   "id": "634c3250",
   "metadata": {},
   "outputs": [],
   "source": []
  },
  {
   "cell_type": "code",
   "execution_count": null,
   "id": "fcd6602a",
   "metadata": {},
   "outputs": [],
   "source": []
  },
  {
   "cell_type": "code",
   "execution_count": null,
   "id": "a01e5c24",
   "metadata": {},
   "outputs": [],
   "source": []
  },
  {
   "cell_type": "code",
   "execution_count": 14,
   "id": "52dc1d52",
   "metadata": {},
   "outputs": [
    {
     "name": "stdout",
     "output_type": "stream",
     "text": [
      "false\n"
     ]
    }
   ],
   "source": [
    "myname=[\"joe\",\"zoe\",\"world\",\"brad\",\"angelina\",\"world\",\"zuki\",\"tom\",\"paris\",\"world\",\"magic\"]\n",
    "if myname=='usa':\n",
    "    print('true')\n",
    "else:\n",
    "    print('false')"
   ]
  },
  {
   "cell_type": "code",
   "execution_count": 2,
   "id": "e0c9e4f7",
   "metadata": {},
   "outputs": [
    {
     "name": "stdout",
     "output_type": "stream",
     "text": [
      "false\n"
     ]
    }
   ],
   "source": [
    "myname=[\"joe\",\"zoe\",\"world\",\"brad\",\"angelina\",\"world\",\"zuki\",\"tom\",\"paris\",\"world\",\"magic\"]\n",
    "if myname=='joe':\n",
    "    print('true')\n",
    "else:\n",
    "    print('false')"
   ]
  },
  {
   "cell_type": "code",
   "execution_count": null,
   "id": "2e178d83",
   "metadata": {},
   "outputs": [],
   "source": []
  },
  {
   "cell_type": "code",
   "execution_count": null,
   "id": "5c291e76",
   "metadata": {},
   "outputs": [],
   "source": []
  },
  {
   "cell_type": "code",
   "execution_count": null,
   "id": "e307c9cb",
   "metadata": {},
   "outputs": [],
   "source": []
  },
  {
   "cell_type": "code",
   "execution_count": null,
   "id": "040e3437",
   "metadata": {},
   "outputs": [],
   "source": []
  },
  {
   "cell_type": "code",
   "execution_count": null,
   "id": "803da5d4",
   "metadata": {},
   "outputs": [],
   "source": []
  },
  {
   "cell_type": "code",
   "execution_count": 5,
   "id": "aa84988c",
   "metadata": {},
   "outputs": [
    {
     "name": "stdout",
     "output_type": "stream",
     "text": [
      "2\n"
     ]
    }
   ],
   "source": [
    "my=['shahid','irtiza','mango','shahid','danish','us','about','new']\n",
    "c=my.count('shahid')\n",
    "print(c)"
   ]
  },
  {
   "cell_type": "markdown",
   "id": "3250c498",
   "metadata": {},
   "source": [
    "# task 2"
   ]
  },
  {
   "cell_type": "code",
   "execution_count": 8,
   "id": "bde069fe",
   "metadata": {},
   "outputs": [
    {
     "name": "stdout",
     "output_type": "stream",
     "text": [
      "3\n"
     ]
    }
   ],
   "source": [
    "mynames=[\"joe\",\"zoe\",\"world\",\"brad\",\"angelina\",\"world\",\"zuki\",\"tom\",\"paris\",\"world\",\"magic\"]\n",
    "count=mynames.count(\"world\")\n",
    "print(count)\n",
    "\n",
    "\n",
    "\n",
    "\n",
    "\n"
   ]
  },
  {
   "cell_type": "code",
   "execution_count": 5,
   "id": "20b31796",
   "metadata": {},
   "outputs": [],
   "source": [
    "mynames=[\"joe\",\"zoe\",\"world\",\"brad\",\"angelina\",\"world\",\"zuki\",\"tom\",\"paris\",\"world\",\"magic\"]"
   ]
  },
  {
   "cell_type": "code",
   "execution_count": 6,
   "id": "3706b700",
   "metadata": {},
   "outputs": [
    {
     "ename": "NameError",
     "evalue": "name 'myname' is not defined",
     "output_type": "error",
     "traceback": [
      "\u001b[1;31m---------------------------------------------------------------------------\u001b[0m",
      "\u001b[1;31mNameError\u001b[0m                                 Traceback (most recent call last)",
      "Cell \u001b[1;32mIn[6], line 1\u001b[0m\n\u001b[1;32m----> 1\u001b[0m count\u001b[38;5;241m=\u001b[39m\u001b[43mmyname\u001b[49m\u001b[38;5;241m.\u001b[39mcount(\u001b[38;5;124m'\u001b[39m\u001b[38;5;124mjoe\u001b[39m\u001b[38;5;124m'\u001b[39m)\n\u001b[0;32m      2\u001b[0m \u001b[38;5;28mprint\u001b[39m(count)\n",
      "\u001b[1;31mNameError\u001b[0m: name 'myname' is not defined"
     ]
    }
   ],
   "source": [
    "count=myname.count('joe')\n",
    "print(count)"
   ]
  },
  {
   "cell_type": "code",
   "execution_count": null,
   "id": "1209bdc0",
   "metadata": {},
   "outputs": [],
   "source": []
  },
  {
   "cell_type": "code",
   "execution_count": null,
   "id": "0e6cd799",
   "metadata": {},
   "outputs": [],
   "source": []
  },
  {
   "cell_type": "code",
   "execution_count": null,
   "id": "fc953f79",
   "metadata": {},
   "outputs": [],
   "source": []
  },
  {
   "cell_type": "markdown",
   "id": "f37668f2",
   "metadata": {},
   "source": [
    "# task 3"
   ]
  },
  {
   "cell_type": "code",
   "execution_count": 9,
   "id": "41cc35a8",
   "metadata": {},
   "outputs": [
    {
     "name": "stdout",
     "output_type": "stream",
     "text": [
      "[1, 2, 3, 4, 5, 6, 7, 8, 9, 10, 11, 12, 13, 14, 15, 16, 17, 18, 19, 20, 21, 22, 23, 24, 25, 26, 27, 28, 29]\n",
      "no of odd 14\n",
      "no of even 15\n"
     ]
    }
   ],
   "source": [
    "f=list(range(1,30))\n",
    "odd=0\n",
    "even=0\n",
    "for i in f:\n",
    "    if i%2==0:\n",
    "        odd=odd+1\n",
    "    else:\n",
    "        even=even+1\n",
    "print(f)  \n",
    "print('no of odd {}'.format(odd))\n",
    "print('no of even {}'.format(even))"
   ]
  },
  {
   "cell_type": "code",
   "execution_count": 16,
   "id": "0e1ffa0d",
   "metadata": {},
   "outputs": [
    {
     "name": "stdout",
     "output_type": "stream",
     "text": [
      "[1, 2, 3, 4, 5, 6, 7, 8, 9, 10, 11, 12, 13, 14, 15, 16, 17, 18, 19, 20, 21, 22, 23, 24, 25, 26, 27, 28, 29]\n",
      "no of odd 14\n",
      "no fo even 1\n"
     ]
    }
   ],
   "source": [
    "h=list(range(1,30))\n",
    "odd=0\n",
    "even=0\n",
    "for i in h:\n",
    "    if i%2==0:\n",
    "        odd=odd+1\n",
    "else:\n",
    "        even=even+1\n",
    "print(h)\n",
    "print('no of odd {}'.format(odd))\n",
    "print('no fo even {}'.format(even))\n",
    "\n",
    "\n",
    "\n",
    "\n",
    "\n",
    "\n"
   ]
  },
  {
   "cell_type": "code",
   "execution_count": null,
   "id": "c41a8afd",
   "metadata": {},
   "outputs": [],
   "source": []
  },
  {
   "cell_type": "code",
   "execution_count": 17,
   "id": "5712f444",
   "metadata": {},
   "outputs": [
    {
     "name": "stdout",
     "output_type": "stream",
     "text": [
      "[1, 2, 3, 4, 5, 6, 7, 8, 9, 10, 11, 12, 13, 14, 15, 16, 17, 18, 19, 20, 21, 22, 23, 24, 25, 26, 27, 28, 29]\n",
      "no of odd 14\n",
      "no of even 15\n"
     ]
    }
   ],
   "source": [
    "data=list(range(1,30))\n",
    "odd=0\n",
    "even=0\n",
    "for i in data:\n",
    "    if  i%2==0:\n",
    "        odd=odd+1\n",
    "    else:\n",
    "        even=even+1\n",
    "print(data)\n",
    "print('no of odd {}'.format(odd))\n",
    "print('no of even {}'.format(even))"
   ]
  },
  {
   "cell_type": "code",
   "execution_count": 3,
   "id": "8ac529b4",
   "metadata": {},
   "outputs": [
    {
     "name": "stdout",
     "output_type": "stream",
     "text": [
      "[1, 2, 3, 4, 5, 6, 7, 8, 9, 10, 11, 12, 13, 14, 15, 16, 17, 18, 19, 20, 21, 22, 23, 24, 25, 26, 27, 28, 29]\n",
      "no of odd = 14 \n",
      "no of even = 15\n"
     ]
    }
   ],
   "source": [
    "data=list(range(1,30))\n",
    "odd=0\n",
    "even=0\n",
    "for i in data:\n",
    "    if i%2==0:\n",
    "        odd=odd+1\n",
    "    else:\n",
    "        even=even+1\n",
    "print(data) \n",
    "print('no of odd = {} '.format(odd))\n",
    "print('no of even = {}'.format(even))"
   ]
  },
  {
   "cell_type": "code",
   "execution_count": 2,
   "id": "3db433a8",
   "metadata": {},
   "outputs": [
    {
     "name": "stdout",
     "output_type": "stream",
     "text": [
      "[1, 2, 3, 4, 5, 6, 7, 8, 9, 10, 11, 12, 13, 14, 15, 16, 17, 18, 19, 20, 21, 22, 23, 24, 25, 26, 27, 28, 29]\n",
      "no of odd =14\n",
      "no of even=15\n"
     ]
    }
   ],
   "source": [
    "data=list(range(1,30))\n",
    "odd=0\n",
    "even=0\n",
    "for i in data:\n",
    "    if i%2==0:\n",
    "        odd=odd+1\n",
    "    else:\n",
    "        even=even+1\n",
    "print(data) \n",
    "print('no of odd ={}'.format(odd))\n",
    "print('no of even={}'.format(even))"
   ]
  },
  {
   "cell_type": "code",
   "execution_count": 16,
   "id": "50b9889f",
   "metadata": {},
   "outputs": [
    {
     "name": "stdout",
     "output_type": "stream",
     "text": [
      "[1, 2, 3, 4, 5, 6, 7, 8, 9, 10, 11, 12, 13, 14, 15, 16, 17, 18, 19, 20, 21, 22, 23, 24, 25, 26, 27, 28, 29]\n",
      "no of odd =\n",
      "no of eve=\n"
     ]
    }
   ],
   "source": [
    "dataset=list(range(1,30))\n",
    "odd=0\n",
    "even=0\n",
    "for i in dataset:\n",
    "    if i%2==0:\n",
    "        odd=odd+1\n",
    "    else:\n",
    "        even=even+1\n",
    "print(dataset) \n",
    "print('no of odd ='.format(odd))\n",
    "print('no of eve='.format(even))\n",
    "        \n",
    "        \n",
    "        "
   ]
  },
  {
   "cell_type": "code",
   "execution_count": 6,
   "id": "52b8d203",
   "metadata": {},
   "outputs": [
    {
     "name": "stdout",
     "output_type": "stream",
     "text": [
      "[1, 2, 3, 4, 5, 6, 7, 8, 9, 10, 11, 12, 13, 14, 15, 16, 17, 18, 19, 20, 21, 22, 23, 24, 25, 26, 27, 28, 29]\n",
      "no of odd=14\n",
      "no of even=15\n"
     ]
    }
   ],
   "source": [
    "d=list(range(1,30))\n",
    "odd=0\n",
    "even=0\n",
    "for i in d:\n",
    "    if i%2==0:\n",
    "        odd=odd+1\n",
    "    else:\n",
    "        even=even+1\n",
    "print(d)\n",
    "print('no of odd={}'.format(odd))\n",
    "print('no of even={}'.format(even))\n",
    "        "
   ]
  },
  {
   "cell_type": "code",
   "execution_count": 7,
   "id": "488b6a83",
   "metadata": {},
   "outputs": [
    {
     "name": "stdout",
     "output_type": "stream",
     "text": [
      "[1, 2, 3, 4, 5, 6, 7, 8, 9, 10, 11, 12, 13, 14, 15, 16, 17, 18, 19, 20, 21, 22, 23, 24, 25, 26, 27, 28, 29, 30, 31, 32, 33, 34, 35, 36, 37, 38, 39]\n",
      "no of odd =19\n",
      "no of even =20\n"
     ]
    }
   ],
   "source": [
    "f=list(range(1,40))\n",
    "odd=0\n",
    "even=0\n",
    "for i in f:\n",
    "    if i%2==0:\n",
    "        odd=odd+1\n",
    "    else:\n",
    "        even=even+1\n",
    "print(f) \n",
    "print('no of odd ={}'.format(odd))\n",
    "print('no of even ={}'.format(even))\n",
    "        \n",
    "        \n",
    "        "
   ]
  },
  {
   "cell_type": "code",
   "execution_count": null,
   "id": "cd0400ec",
   "metadata": {},
   "outputs": [],
   "source": []
  },
  {
   "cell_type": "code",
   "execution_count": 21,
   "id": "3f7f95df",
   "metadata": {},
   "outputs": [
    {
     "name": "stdout",
     "output_type": "stream",
     "text": [
      "[1, 2, 3, 4, 5, 6, 7, 8, 9, 10, 11, 12, 13, 14, 15, 16, 17, 18, 19, 20, 21, 22, 23, 24, 25, 26, 27, 28, 29]\n",
      "no of odd=14\n",
      "no of eve=15\n"
     ]
    }
   ],
   "source": [
    "d=list(range(1,30))\n",
    "odd=0\n",
    "even=0\n",
    "for i in d:\n",
    "    if i%2==0:\n",
    "        odd=odd+1\n",
    "    else:\n",
    "        even=even+1\n",
    "print(d) \n",
    "print('no of odd={}'.format(odd))\n",
    "print('no of eve={}'.format(even))\n",
    "        \n",
    "    "
   ]
  },
  {
   "cell_type": "code",
   "execution_count": 7,
   "id": "a91fa73c",
   "metadata": {},
   "outputs": [
    {
     "name": "stdout",
     "output_type": "stream",
     "text": [
      "[1, 2, 3, 4, 5, 6, 7, 8, 9, 10, 11, 12, 13, 14, 15, 16, 17, 18, 19, 20, 21, 22, 23, 24, 25, 26, 27, 28, 29]\n",
      "no of odd=14\n",
      "no of even=15\n"
     ]
    }
   ],
   "source": [
    "m=list(range(1,30))\n",
    "odd=0\n",
    "even=0\n",
    "for i in m:\n",
    "    if i%2==0:\n",
    "        odd=odd+1\n",
    "    else:\n",
    "        even=even+1\n",
    "print(m)   \n",
    "print('no of odd={}'.format(odd))\n",
    "print('no of even={}'.format(even))"
   ]
  },
  {
   "cell_type": "code",
   "execution_count": null,
   "id": "6f3a4829",
   "metadata": {},
   "outputs": [],
   "source": []
  },
  {
   "cell_type": "code",
   "execution_count": 4,
   "id": "c1c29f28",
   "metadata": {},
   "outputs": [
    {
     "name": "stdout",
     "output_type": "stream",
     "text": [
      "[1, 2, 3, 4, 5, 6, 7, 8, 9, 10, 11, 12, 13, 14, 15, 16, 17, 18, 19, 20, 21, 22, 23, 24, 25, 26, 27, 28, 29]\n",
      "no of odd=14\n",
      "no of even=15\n"
     ]
    }
   ],
   "source": [
    "h=list(range(1,30))\n",
    "odd=0\n",
    "even=0\n",
    "for i in h:\n",
    "    if i%2==0:\n",
    "        odd=odd+1\n",
    "    else:\n",
    "        even=even+1\n",
    "print(h)\n",
    "print('no of odd={}'.format(odd))\n",
    "print('no of even={}'.format(even))\n",
    "        \n",
    "        "
   ]
  },
  {
   "cell_type": "code",
   "execution_count": null,
   "id": "7e66effa",
   "metadata": {},
   "outputs": [],
   "source": []
  },
  {
   "cell_type": "code",
   "execution_count": 17,
   "id": "84702283",
   "metadata": {},
   "outputs": [
    {
     "name": "stdout",
     "output_type": "stream",
     "text": [
      "[1, 2, 3, 4, 5, 6, 7, 8, 9, 10, 11, 12, 13, 14, 15, 16, 17, 18, 19, 20, 21, 22, 23, 24, 25, 26, 27, 28, 29]\n",
      "no of odd number = 14\n",
      "no of even number = 15\n"
     ]
    }
   ],
   "source": [
    "dataset=list(range(1,30))\n",
    "odd=0\n",
    "even=0\n",
    "for i in dataset:\n",
    "    if i%2==0:\n",
    "         odd=odd+1\n",
    "    else:\n",
    "        even=even+1\n",
    "print(dataset)\n",
    "print(\"no of odd number = {}\".format(odd))\n",
    "\n",
    "print(\"no of even number = {}\".format(even))\n",
    "\n",
    "\n",
    "\n",
    "\n",
    "\n"
   ]
  },
  {
   "cell_type": "code",
   "execution_count": 9,
   "id": "ddea80ed",
   "metadata": {},
   "outputs": [
    {
     "name": "stdout",
     "output_type": "stream",
     "text": [
      "[1, 2, 3, 4, 5, 6, 7, 8, 9, 10, 11, 12, 13, 14, 15, 16, 17, 18, 19, 20, 21, 22, 23, 24, 25, 26, 27, 28, 29]\n",
      "total no of odd 14\n",
      "total no even no 15\n"
     ]
    }
   ],
   "source": [
    "dataset=list(range(1,30))\n",
    "odd=0\n",
    "even=0\n",
    "for i in dataset:\n",
    "    if i%2==0:\n",
    "        odd=odd+1\n",
    "    else:\n",
    "        even=even+1\n",
    "print(dataset)        \n",
    "print('total no of odd {}'.format(odd))\n",
    "print('total no even no {}'.format(even))      \n",
    "        "
   ]
  },
  {
   "cell_type": "code",
   "execution_count": 5,
   "id": "15729b62",
   "metadata": {},
   "outputs": [
    {
     "name": "stdout",
     "output_type": "stream",
     "text": [
      "[1, 2, 3, 4, 5, 6, 7, 8, 9, 10, 11, 12, 13, 14, 15, 16, 17, 18, 19, 20, 21, 22, 23, 24, 25, 26, 27, 28, 29]\n",
      "total  no of odd = 14\n",
      "total no even = 15\n"
     ]
    }
   ],
   "source": [
    "data=list(range(1,30))\n",
    "odd=0\n",
    "even=0\n",
    "for i in data:\n",
    "    if i%2==0:\n",
    "        odd=odd+1\n",
    "    else:\n",
    "        even=even+1\n",
    "print(data)\n",
    "print('total  no of odd = {}'.format(odd))\n",
    "print('total no even = {}'.format(even))"
   ]
  },
  {
   "cell_type": "code",
   "execution_count": null,
   "id": "a8460f22",
   "metadata": {},
   "outputs": [],
   "source": []
  },
  {
   "cell_type": "code",
   "execution_count": 7,
   "id": "0b0e3987",
   "metadata": {},
   "outputs": [
    {
     "name": "stdout",
     "output_type": "stream",
     "text": [
      "[1, 2, 3, 4, 5, 6, 7, 8, 9, 10, 11, 12, 13, 14, 15, 16, 17, 18, 19, 20, 21, 22, 23, 24, 25, 26, 27, 28, 29]\n",
      "no of odd = 14\n",
      "no of even = 15\n"
     ]
    }
   ],
   "source": [
    "data=list(range(1,30))\n",
    "odd=0\n",
    "even=0\n",
    "for i in data:\n",
    "    if i%2==0:\n",
    "        odd=odd+1\n",
    "    else:\n",
    "        even=even+1\n",
    "print(data)\n",
    "print('no of odd = {}'.format(odd))\n",
    "print('no of even = {}'.format(even))"
   ]
  },
  {
   "cell_type": "code",
   "execution_count": null,
   "id": "0bf0825c",
   "metadata": {},
   "outputs": [],
   "source": []
  },
  {
   "cell_type": "code",
   "execution_count": null,
   "id": "5b8fd68b",
   "metadata": {},
   "outputs": [],
   "source": []
  },
  {
   "cell_type": "code",
   "execution_count": null,
   "id": "a4c5ddbe",
   "metadata": {},
   "outputs": [],
   "source": []
  },
  {
   "cell_type": "code",
   "execution_count": 11,
   "id": "b37e7403",
   "metadata": {},
   "outputs": [
    {
     "name": "stdout",
     "output_type": "stream",
     "text": [
      "[1, 2, 3, 4, 5, 6, 7, 8, 9, 10, 11, 12, 13, 14, 15, 16, 17, 18, 19, 20, 21, 22, 23, 24, 25, 26, 27, 28, 29]\n",
      "odd numbers14\n",
      "even numbers 0\n"
     ]
    }
   ],
   "source": [
    "dataset=list(range(1,30))\n",
    "odd=0\n",
    "even=0\n",
    "for i in dataset:\n",
    "    if i%2==0:\n",
    "        odd=odd+1\n",
    "    else:\n",
    "        eeven=even+1\n",
    "print(dataset)        \n",
    "print('odd numbers{}'.format(odd)) \n",
    "print('even numbers {}'.format(even))"
   ]
  },
  {
   "cell_type": "code",
   "execution_count": 4,
   "id": "376a0ebe",
   "metadata": {},
   "outputs": [
    {
     "name": "stdout",
     "output_type": "stream",
     "text": [
      "[1, 2, 3, 4, 5, 6, 7, 8, 9, 10, 11, 12, 13, 14, 15, 16, 17, 18, 19, 20, 21, 22, 23, 24, 25, 26, 27, 28, 29]\n",
      "no of odd number = 14\n",
      "no of even number = 15\n"
     ]
    }
   ],
   "source": [
    "dataset=list(range(1,30))\n",
    "odd=0\n",
    "even=0\n",
    "for i in dataset:\n",
    "    if i%2==0:\n",
    "        odd=odd+1\n",
    "    else:\n",
    "        even=even+1\n",
    "print(dataset) \n",
    "print('no of odd number = {}'.format(odd))\n",
    "print('no of even number = {}'.format(even))\n",
    "        \n",
    "        \n",
    "        \n",
    "        "
   ]
  },
  {
   "cell_type": "code",
   "execution_count": 21,
   "id": "352694f8",
   "metadata": {},
   "outputs": [
    {
     "name": "stdout",
     "output_type": "stream",
     "text": [
      "[1, 2, 3, 4, 5, 6, 7, 8, 9, 10, 11, 12, 13, 14, 15, 16, 17, 18, 19, 20, 21, 22, 23, 24, 25, 26, 27, 28, 29]\n",
      "no of odd 14\n",
      "no of even 15\n"
     ]
    }
   ],
   "source": [
    "n=list(range(1,322))\n",
    "odd=0\n",
    "even=0\n",
    "for i in h:\n",
    "    if i %2==0:\n",
    "        odd=odd+1\n",
    "    else:\n",
    "        even=even+1\n",
    "print(h) \n",
    "print('no of odd {}'.format(odd))\n",
    "print('no of even {}'.format(even))"
   ]
  },
  {
   "cell_type": "code",
   "execution_count": 24,
   "id": "625cd0d0",
   "metadata": {},
   "outputs": [
    {
     "name": "stdout",
     "output_type": "stream",
     "text": [
      "[1, 2, 3, 4, 5, 6, 7, 8, 9, 10, 11, 12, 13, 14, 15, 16, 17, 18, 19, 20, 21, 22, 23, 24, 25, 26, 27, 28, 29, 30, 31, 32, 33, 34, 35, 36, 37, 38, 39, 40, 41, 42, 43, 44, 45, 46, 47, 48, 49, 50, 51, 52, 53, 54, 55, 56, 57, 58, 59, 60, 61, 62, 63, 64, 65, 66, 67, 68, 69, 70, 71, 72, 73, 74, 75, 76, 77, 78, 79, 80, 81, 82, 83, 84, 85, 86, 87, 88, 89, 90, 91, 92, 93, 94, 95, 96, 97, 98, 99, 100, 101, 102, 103, 104, 105, 106, 107, 108, 109, 110, 111, 112, 113, 114, 115, 116, 117, 118, 119, 120, 121, 122, 123, 124, 125, 126, 127, 128, 129, 130, 131, 132, 133, 134, 135, 136, 137, 138, 139, 140, 141, 142, 143, 144, 145, 146, 147, 148, 149, 150, 151, 152, 153, 154, 155, 156, 157, 158, 159, 160, 161, 162, 163, 164, 165, 166, 167, 168, 169, 170, 171, 172, 173, 174, 175, 176, 177, 178, 179, 180, 181, 182, 183, 184, 185, 186, 187, 188, 189, 190, 191, 192, 193, 194, 195, 196, 197, 198, 199, 200, 201, 202, 203, 204, 205, 206, 207, 208, 209, 210, 211, 212, 213, 214, 215, 216, 217, 218, 219, 220, 221, 222, 223, 224, 225, 226, 227, 228, 229, 230, 231, 232, 233, 234, 235, 236, 237, 238, 239, 240, 241, 242, 243, 244, 245, 246, 247, 248, 249, 250, 251, 252, 253, 254, 255, 256, 257, 258, 259, 260, 261, 262, 263, 264, 265, 266, 267, 268, 269, 270, 271, 272, 273, 274, 275, 276, 277, 278, 279, 280, 281, 282, 283, 284, 285, 286, 287, 288, 289, 290, 291, 292, 293, 294, 295, 296, 297, 298, 299, 300, 301, 302, 303, 304, 305, 306, 307, 308, 309, 310, 311, 312, 313, 314, 315, 316, 317, 318, 319, 320, 321]\n",
      "no of odd 160=\n",
      "no of even 161=\n"
     ]
    }
   ],
   "source": [
    "h=list(range(1,322))\n",
    "odd=0\n",
    "even=0\n",
    "for i in h:\n",
    "    if i%2==0:\n",
    "        odd=odd+1\n",
    "    else:\n",
    "        even=even+1\n",
    "print(h) \n",
    "print('no of odd {}='.format(odd))\n",
    "print('no of even {}='.format(even))\n",
    "        "
   ]
  },
  {
   "cell_type": "markdown",
   "id": "4fdd9d08",
   "metadata": {},
   "source": [
    "# task 4"
   ]
  },
  {
   "cell_type": "code",
   "execution_count": 10,
   "id": "9cbca430",
   "metadata": {},
   "outputs": [
    {
     "name": "stdout",
     "output_type": "stream",
     "text": [
      "[2, 4, 6, 8, 10] "
     ]
    }
   ],
   "source": [
    "dataset=list(range(1,30))\n",
    "even=0\n",
    "el=[]\n",
    "for i in range (2,30,2):\n",
    "    if even<5:\n",
    "        even=even+1\n",
    "        el.append(i)\n",
    "print(el,end = ' ')        \n",
    "    \n",
    "    \n"
   ]
  },
  {
   "cell_type": "code",
   "execution_count": null,
   "id": "25e76bdf",
   "metadata": {},
   "outputs": [],
   "source": [
    "d=list(range(1,30))\n",
    "even=0\n"
   ]
  },
  {
   "cell_type": "code",
   "execution_count": 21,
   "id": "f1514d85",
   "metadata": {},
   "outputs": [
    {
     "name": "stdout",
     "output_type": "stream",
     "text": [
      "29 27\n"
     ]
    }
   ],
   "source": [
    "d=list(range(1,30))\n",
    "print(d[len(d)-1],d[len(d)-3])"
   ]
  },
  {
   "cell_type": "markdown",
   "id": "acc8e046",
   "metadata": {},
   "source": [
    "# task 5"
   ]
  },
  {
   "cell_type": "code",
   "execution_count": 30,
   "id": "5813a173",
   "metadata": {},
   "outputs": [
    {
     "name": "stdout",
     "output_type": "stream",
     "text": [
      "29 27\n"
     ]
    }
   ],
   "source": [
    "s=list(range(1,30)) \n",
    "print(s[len(s)-1],s[len(s)-3])\n",
    "\n",
    "    \n"
   ]
  },
  {
   "cell_type": "code",
   "execution_count": null,
   "id": "e549d27a",
   "metadata": {},
   "outputs": [],
   "source": []
  },
  {
   "cell_type": "markdown",
   "id": "fd4d5296",
   "metadata": {},
   "source": [
    "# task6"
   ]
  },
  {
   "cell_type": "code",
   "execution_count": null,
   "id": "2a868c77",
   "metadata": {},
   "outputs": [],
   "source": [
    "for num in range(1,11):\n",
    "    if num % 2=="
   ]
  },
  {
   "cell_type": "code",
   "execution_count": null,
   "id": "60f546cc",
   "metadata": {},
   "outputs": [],
   "source": []
  },
  {
   "cell_type": "code",
   "execution_count": null,
   "id": "932a6cee",
   "metadata": {},
   "outputs": [],
   "source": []
  },
  {
   "cell_type": "code",
   "execution_count": null,
   "id": "ea7fee28",
   "metadata": {},
   "outputs": [],
   "source": []
  },
  {
   "cell_type": "code",
   "execution_count": null,
   "id": "28d35c8f",
   "metadata": {},
   "outputs": [],
   "source": []
  },
  {
   "cell_type": "code",
   "execution_count": null,
   "id": "3d9ed755",
   "metadata": {},
   "outputs": [],
   "source": []
  },
  {
   "cell_type": "code",
   "execution_count": 10,
   "id": "b74fc936",
   "metadata": {},
   "outputs": [
    {
     "name": "stdout",
     "output_type": "stream",
     "text": [
      "enter value =67\n",
      "enter value =76\n",
      "enter value =7654\n",
      "enter value =8765\n",
      "['67', '76', '7654', '8765']\n"
     ]
    }
   ],
   "source": [
    "d=list(range(1,30))\n",
    "x=[]\n",
    "y=[]\n",
    "for i in range(2):\n",
    "    x.append(input('enter value ='))\n",
    "    \n",
    "for i in range(2):\n",
    "    y.append(input('enter value ='))\n",
    "x.extend(y)\n",
    "print(x)    "
   ]
  },
  {
   "cell_type": "code",
   "execution_count": 8,
   "id": "67ccbeeb",
   "metadata": {},
   "outputs": [
    {
     "name": "stdout",
     "output_type": "stream",
     "text": [
      "enter the value3443\n",
      "enter the value356781\n",
      "enter the value9089\n",
      "enter the value12345\n",
      "['3443', '356781', '9089', '12345']\n"
     ]
    }
   ],
   "source": [
    "g=list(range(1,30))\n",
    "x=[]\n",
    "y=[]\n",
    "for i in range(2):\n",
    "    x.append(input('enter the value'))\n",
    "for i in range(2):\n",
    "    y.append(input('enter the value'))\n",
    "x.extend(y)\n",
    "print(x)"
   ]
  },
  {
   "cell_type": "code",
   "execution_count": 9,
   "id": "65d64bd9",
   "metadata": {},
   "outputs": [
    {
     "name": "stdout",
     "output_type": "stream",
     "text": [
      "enter the value463\n",
      "enter the value7557\n",
      "enter the value948\n",
      "enter the value7445\n",
      "['463', '7557', '948', '7445']\n"
     ]
    }
   ],
   "source": [
    "c=list(range(1,30))\n",
    "x=[]\n",
    "y=[]\n",
    "for i in range(2):\n",
    "    x.append(input('enter the value'))\n",
    "for i in range(2):\n",
    "    y.append(input('enter the value'))\n",
    "x.extend(y)\n",
    "print(x)"
   ]
  },
  {
   "cell_type": "code",
   "execution_count": null,
   "id": "886e02e8",
   "metadata": {},
   "outputs": [],
   "source": []
  },
  {
   "cell_type": "code",
   "execution_count": null,
   "id": "0177d4fa",
   "metadata": {},
   "outputs": [],
   "source": []
  },
  {
   "cell_type": "code",
   "execution_count": 10,
   "id": "a5f1f7e4",
   "metadata": {},
   "outputs": [
    {
     "name": "stdout",
     "output_type": "stream",
     "text": [
      "enter the nameshahid\n",
      "enter the namenazir \n",
      "enter the namebhat\n",
      "enter the nameirtiza\n",
      "['shahid', 'nazir ', 'bhat', 'bhat', 'irtiza']\n"
     ]
    }
   ],
   "source": [
    "d=list(range(1,30))\n",
    "x=[]\n",
    "y=[]\n",
    "for i in range(2):\n",
    "    x.append(input('enter the name'))\n",
    "for i in (range(2)):\n",
    "    y.append(input('enter the name'))\n",
    "    x.extend(y)\n",
    "print(x)    "
   ]
  },
  {
   "cell_type": "code",
   "execution_count": 11,
   "id": "f96aff6a",
   "metadata": {},
   "outputs": [
    {
     "name": "stdout",
     "output_type": "stream",
     "text": [
      "enter the value67\n",
      "enter the value98\n",
      "enter the value08\n",
      "enter the value45\n",
      "['67', '98', '08', '45']\n"
     ]
    }
   ],
   "source": [
    "d=list(range(1,30))\n",
    "x=[]\n",
    "y=[]\n",
    "for i in range(2):\n",
    "    x.append(input('enter the value'))\n",
    "for  i in range(2):\n",
    "    y.append(input('enter the value'))\n",
    "x.extend(y) \n",
    "print(x)\n",
    "    \n",
    "    \n"
   ]
  },
  {
   "cell_type": "code",
   "execution_count": null,
   "id": "3f1a62ce",
   "metadata": {},
   "outputs": [],
   "source": []
  },
  {
   "cell_type": "code",
   "execution_count": null,
   "id": "2f0ee94e",
   "metadata": {},
   "outputs": [],
   "source": []
  },
  {
   "cell_type": "code",
   "execution_count": null,
   "id": "63e8dbd3",
   "metadata": {},
   "outputs": [],
   "source": []
  },
  {
   "cell_type": "code",
   "execution_count": null,
   "id": "09a90b6a",
   "metadata": {},
   "outputs": [],
   "source": []
  },
  {
   "cell_type": "code",
   "execution_count": null,
   "id": "7647435a",
   "metadata": {},
   "outputs": [],
   "source": []
  },
  {
   "cell_type": "code",
   "execution_count": null,
   "id": "fab14f1e",
   "metadata": {},
   "outputs": [],
   "source": []
  },
  {
   "cell_type": "code",
   "execution_count": null,
   "id": "225379cd",
   "metadata": {},
   "outputs": [],
   "source": []
  },
  {
   "cell_type": "code",
   "execution_count": null,
   "id": "727214de",
   "metadata": {},
   "outputs": [],
   "source": []
  },
  {
   "cell_type": "code",
   "execution_count": 4,
   "id": "94aeb7bf",
   "metadata": {},
   "outputs": [
    {
     "name": "stdout",
     "output_type": "stream",
     "text": [
      "enter the nameshahid\n",
      "enter the nameirtiza\n",
      "enter the namemohsib\n",
      "enter the namejhons\n",
      "['shahid', 'irtiza', 'mohsib', 'jhons']\n"
     ]
    }
   ],
   "source": [
    "data=list(range(1,30))\n",
    "x=[]\n",
    "y=[]\n",
    "for i in range(2):\n",
    "    x.append(input('enter the name'))\n",
    "for i  in range(2):\n",
    "    \n",
    "    y.append(input('enter the name'))\n",
    "x.extend(y) \n",
    "print(x)"
   ]
  },
  {
   "cell_type": "code",
   "execution_count": 2,
   "id": "c43b76a6",
   "metadata": {},
   "outputs": [
    {
     "name": "stdout",
     "output_type": "stream",
     "text": [
      "enter values\n",
      "enter valuef\n",
      "enter valuet\n",
      "enter valuet\n",
      "enter valueh\n",
      "enter value2\n",
      "enter value5\n",
      "enter value6\n",
      "enter value7\n",
      "enter value7\n",
      "['s', 'f', 't', 't', 'h', '2', '5', '6', '7', '7']\n"
     ]
    }
   ],
   "source": [
    "dataset=list(range(1,30))\n",
    "x=[]\n",
    "y=[]\n",
    "for i in range(5):\n",
    "    x.append(input(\"enter value\"))\n",
    "    \n",
    "for i in range(5):\n",
    "    y.append(input(\"enter value\"))\n",
    "x.extend(y) \n",
    "print(x)\n",
    "\n",
    "\n"
   ]
  },
  {
   "cell_type": "markdown",
   "id": "e17d6a24",
   "metadata": {},
   "source": [
    "# task 7"
   ]
  },
  {
   "cell_type": "code",
   "execution_count": 22,
   "id": "5b1d7914",
   "metadata": {},
   "outputs": [
    {
     "name": "stdout",
     "output_type": "stream",
     "text": [
      "[1, 4, 9, 16, 25, 36, 49, 64, 81, 100]\n",
      "[900, 961, 1024, 1089, 1156, 1225, 1296, 1369, 1444, 1521]\n"
     ]
    }
   ],
   "source": [
    " l=list()\n",
    "for i in range (1,40):\n",
    "    \n",
    "        l.append(i**2)\n",
    "print(l[:10])\n",
    "print(l[-10:])\n",
    "   "
   ]
  },
  {
   "cell_type": "code",
   "execution_count": null,
   "id": "dfc274a4",
   "metadata": {},
   "outputs": [],
   "source": []
  },
  {
   "cell_type": "code",
   "execution_count": 13,
   "id": "2a84ad11",
   "metadata": {},
   "outputs": [
    {
     "name": "stdout",
     "output_type": "stream",
     "text": [
      "[1, 4, 9, 16, 25, 36, 49, 64, 81, 100]\n",
      "[8100, 8281, 8464, 8649, 8836, 9025, 9216, 9409, 9604, 9801]\n"
     ]
    }
   ],
   "source": [
    "k=list()\n",
    "for i in range (1,100):\n",
    "    k.append(i**2)\n",
    "print(k[:10]) \n",
    "print(k[-10:])"
   ]
  },
  {
   "cell_type": "code",
   "execution_count": 7,
   "id": "319409fc",
   "metadata": {},
   "outputs": [
    {
     "name": "stdout",
     "output_type": "stream",
     "text": [
      "[1, 4, 9, 16, 25, 36, 49, 64, 81, 100]\n",
      "[8100, 8281, 8464, 8649, 8836, 9025, 9216, 9409, 9604, 9801]\n"
     ]
    }
   ],
   "source": [
    "k=list()\n",
    "for i in range(1,100):\n",
    "    k.append(i**2)\n",
    "print(k[:10])  \n",
    "print(k[-10:])"
   ]
  },
  {
   "cell_type": "code",
   "execution_count": 17,
   "id": "a3c87f9b",
   "metadata": {},
   "outputs": [
    {
     "name": "stdout",
     "output_type": "stream",
     "text": [
      "[1, 4, 9, 16, 25, 36, 49, 64, 81, 100]\n",
      "[8100, 8281, 8464, 8649, 8836, 9025, 9216, 9409, 9604, 9801]\n"
     ]
    }
   ],
   "source": [
    "p=list()\n",
    "for i in range (1,100):\n",
    "    p.append(i**2)\n",
    "print(p[:10]) \n",
    "print(p[-10:])\n",
    "    "
   ]
  },
  {
   "cell_type": "code",
   "execution_count": 13,
   "id": "ed4bdd47",
   "metadata": {},
   "outputs": [
    {
     "name": "stdout",
     "output_type": "stream",
     "text": [
      "enter the no9\n",
      "9 x 1 = 9\n",
      "9 x 2 = 18\n",
      "9 x 3 = 27\n",
      "9 x 4 = 36\n",
      "9 x 5 = 45\n",
      "9 x 6 = 54\n",
      "9 x 7 = 63\n",
      "9 x 8 = 72\n",
      "9 x 9 = 81\n",
      "9 x 10 = 90\n"
     ]
    }
   ],
   "source": [
    "m=int(input('enter the no'))\n",
    "for i in range(1,11):\n",
    "    print(m,'x',i,'=',m*i)"
   ]
  },
  {
   "cell_type": "code",
   "execution_count": 16,
   "id": "7f828980",
   "metadata": {},
   "outputs": [
    {
     "name": "stdout",
     "output_type": "stream",
     "text": [
      "display the table8\n",
      "8 x 1 = 8\n",
      "8 x 2 = 16\n",
      "8 x 3 = 24\n",
      "8 x 4 = 32\n",
      "8 x 5 = 40\n",
      "8 x 6 = 48\n",
      "8 x 7 = 56\n",
      "8 x 8 = 64\n",
      "8 x 9 = 72\n",
      "8 x 10 = 80\n"
     ]
    }
   ],
   "source": [
    "m=int(input('display the table'))\n",
    "for i in range (1,11):\n",
    "    print(m,'x',i,'=',m*i)"
   ]
  },
  {
   "cell_type": "code",
   "execution_count": 11,
   "id": "5eed1b58",
   "metadata": {},
   "outputs": [
    {
     "name": "stdout",
     "output_type": "stream",
     "text": [
      "enter the name9\n",
      "9 x 1 = 9\n",
      "9 x 2 = 18\n",
      "9 x 3 = 27\n",
      "9 x 4 = 36\n",
      "9 x 5 = 45\n",
      "9 x 6 = 54\n",
      "9 x 7 = 63\n",
      "9 x 8 = 72\n",
      "9 x 9 = 81\n",
      "9 x 10 = 90\n"
     ]
    }
   ],
   "source": [
    "n=int(input('enter the name'))\n",
    "for i in range(1,11):\n",
    "    print(n,'x',i,'=',n*i)"
   ]
  },
  {
   "cell_type": "code",
   "execution_count": 5,
   "id": "abdce2fb",
   "metadata": {},
   "outputs": [
    {
     "name": "stdout",
     "output_type": "stream",
     "text": [
      "ebter the name7\n",
      "7 x 1 = 7\n",
      "7 x 2 = 14\n",
      "7 x 3 = 21\n",
      "7 x 4 = 28\n",
      "7 x 5 = 35\n",
      "7 x 6 = 42\n",
      "7 x 7 = 49\n",
      "7 x 8 = 56\n",
      "7 x 9 = 63\n",
      "7 x 10 = 70\n"
     ]
    }
   ],
   "source": [
    "m=int(input('ebter the name'))\n",
    "for i in range(1,11):\n",
    "    print(m,'x',i,'=',m*i)"
   ]
  },
  {
   "cell_type": "code",
   "execution_count": 28,
   "id": "2f6f87c7",
   "metadata": {},
   "outputs": [
    {
     "name": "stdout",
     "output_type": "stream",
     "text": [
      "display the table4\n",
      "4 X 1 = 4\n",
      "4 X 2 = 8\n",
      "4 X 3 = 12\n",
      "4 X 4 = 16\n",
      "4 X 5 = 20\n",
      "4 X 6 = 24\n",
      "4 X 7 = 28\n",
      "4 X 8 = 32\n",
      "4 X 9 = 36\n",
      "4 X 10 = 40\n"
     ]
    }
   ],
   "source": [
    "num=int(input('display the table'))\n",
    "for i in range(1,11):\n",
    "    print(num,'X',i,'=',num*i)"
   ]
  },
  {
   "cell_type": "code",
   "execution_count": null,
   "id": "f97c6468",
   "metadata": {},
   "outputs": [],
   "source": []
  },
  {
   "cell_type": "code",
   "execution_count": 26,
   "id": "0ba169be",
   "metadata": {},
   "outputs": [
    {
     "name": "stdout",
     "output_type": "stream",
     "text": [
      "display the table6\n",
      "6 X 1 = 6\n",
      "6 X 2 = 12\n",
      "6 X 3 = 18\n",
      "6 X 4 = 24\n",
      "6 X 5 = 30\n",
      "6 X 6 = 36\n",
      "6 X 7 = 42\n",
      "6 X 8 = 48\n",
      "6 X 9 = 54\n",
      "6 X 10 = 60\n"
     ]
    }
   ],
   "source": [
    "num=int(input('display the table'))\n",
    "for i in range(1,11):\n",
    "    print(num,'X',i,'=',num*i)\n"
   ]
  },
  {
   "cell_type": "code",
   "execution_count": 25,
   "id": "5c5b089c",
   "metadata": {},
   "outputs": [
    {
     "name": "stdout",
     "output_type": "stream",
     "text": [
      "display the table7\n",
      "7 X 1 = 7\n",
      "7 X 2 = 14\n",
      "7 X 3 = 21\n",
      "7 X 4 = 28\n",
      "7 X 5 = 35\n",
      "7 X 6 = 42\n",
      "7 X 7 = 49\n",
      "7 X 8 = 56\n",
      "7 X 9 = 63\n",
      "7 X 10 = 70\n"
     ]
    }
   ],
   "source": [
    "num=int(input('display the table'))\n",
    "for i in range(1,11):\n",
    "    print(num,'X',i,'=',num*i)\n",
    "\n",
    "\n",
    "\n",
    "\n",
    "\n",
    "\n",
    "\n"
   ]
  },
  {
   "cell_type": "code",
   "execution_count": 12,
   "id": "23fba4e2",
   "metadata": {},
   "outputs": [
    {
     "name": "stdout",
     "output_type": "stream",
     "text": [
      "displat the table6\n",
      "6 x 1 = 6\n",
      "6 x 2 = 12\n",
      "6 x 3 = 18\n",
      "6 x 4 = 24\n",
      "6 x 5 = 30\n",
      "6 x 6 = 36\n",
      "6 x 7 = 42\n",
      "6 x 8 = 48\n",
      "6 x 9 = 54\n",
      "6 x 10 = 60\n"
     ]
    }
   ],
   "source": [
    "num=int(input('displat the table'))\n",
    "for i in range(1,11):\n",
    "    print(num,'x',i,'=',num*i)\n"
   ]
  },
  {
   "cell_type": "code",
   "execution_count": 8,
   "id": "4236c973",
   "metadata": {},
   "outputs": [
    {
     "name": "stdout",
     "output_type": "stream",
     "text": [
      " table6\n",
      "6 x 1 = 6\n",
      "6 x 2 = 12\n",
      "6 x 3 = 18\n",
      "6 x 4 = 24\n",
      "6 x 5 = 30\n",
      "6 x 6 = 36\n",
      "6 x 7 = 42\n",
      "6 x 8 = 48\n",
      "6 x 9 = 54\n",
      "6 x 10 = 60\n",
      "6 x 11 = 66\n",
      "6 x 12 = 72\n",
      "6 x 13 = 78\n",
      "6 x 14 = 84\n",
      "6 x 15 = 90\n",
      "6 x 16 = 96\n",
      "6 x 17 = 102\n",
      "6 x 18 = 108\n",
      "6 x 19 = 114\n"
     ]
    }
   ],
   "source": [
    "num=int(input(' table'))\n",
    "for i in range ( 1,20):\n",
    "    print(num,'x',i,'=',num*i)"
   ]
  },
  {
   "cell_type": "code",
   "execution_count": 13,
   "id": "b72097cc",
   "metadata": {},
   "outputs": [
    {
     "name": "stdout",
     "output_type": "stream",
     "text": [
      "display table8\n",
      "6 x 1 = 6\n",
      "6 x 2 = 12\n",
      "6 x 3 = 18\n",
      "6 x 4 = 24\n",
      "6 x 5 = 30\n",
      "6 x 6 = 36\n",
      "6 x 7 = 42\n",
      "6 x 8 = 48\n",
      "6 x 9 = 54\n",
      "6 x 10 = 60\n"
     ]
    }
   ],
   "source": [
    "n=int(input('display table'))\n",
    "for i in range (1,11):\n",
    "    print(num,'x',i,'=',num*i)"
   ]
  },
  {
   "cell_type": "markdown",
   "id": "c1f07a8b",
   "metadata": {},
   "source": [
    "# task8"
   ]
  },
  {
   "cell_type": "code",
   "execution_count": 24,
   "id": "a3adc0df",
   "metadata": {},
   "outputs": [
    {
     "name": "stdout",
     "output_type": "stream",
     "text": [
      "display table5\n",
      "5 x 1 = 5\n",
      "5 x 2 = 10\n",
      "5 x 3 = 15\n",
      "5 x 4 = 20\n",
      "5 x 5 = 25\n",
      "5 x 6 = 30\n",
      "5 x 7 = 35\n",
      "5 x 8 = 40\n",
      "5 x 9 = 45\n",
      "5 x 10 = 50\n"
     ]
    }
   ],
   "source": [
    "num=int(input('display table'))\n",
    "for i in range (1,11):\n",
    "    print ( num ,'x',i,'=',num*i)"
   ]
  }
 ],
 "metadata": {
  "kernelspec": {
   "display_name": "Python 3 (ipykernel)",
   "language": "python",
   "name": "python3"
  },
  "language_info": {
   "codemirror_mode": {
    "name": "ipython",
    "version": 3
   },
   "file_extension": ".py",
   "mimetype": "text/x-python",
   "name": "python",
   "nbconvert_exporter": "python",
   "pygments_lexer": "ipython3",
   "version": "3.10.9"
  }
 },
 "nbformat": 4,
 "nbformat_minor": 5
}
