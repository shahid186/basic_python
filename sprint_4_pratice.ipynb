{
 "cells": [
  {
   "cell_type": "markdown",
   "id": "cd9ec924",
   "metadata": {},
   "source": [
    "# task 1"
   ]
  },
  {
   "cell_type": "code",
   "execution_count": 6,
   "id": "70a11d74",
   "metadata": {},
   "outputs": [
    {
     "name": "stdout",
     "output_type": "stream",
     "text": [
      "enter no:8\n",
      "factorial of 8 is 40320\n"
     ]
    }
   ],
   "source": [
    "n=int(input(\"enter no:\"))\n",
    "f=1\n",
    "for i in range (1,n+1):\n",
    "    f=f*i\n",
    "print('factorial of {} is {}'.format(n,f))    "
   ]
  },
  {
   "cell_type": "code",
   "execution_count": 9,
   "id": "cb0c4607",
   "metadata": {},
   "outputs": [
    {
     "name": "stdout",
     "output_type": "stream",
     "text": [
      "ebnter the number8\n",
      "factorial of 8 is 40320\n"
     ]
    }
   ],
   "source": [
    "n=int(input('ebnter the number'))\n",
    "f=1\n",
    "for i in range(1,n+1):\n",
    "    f=f*i\n",
    "print('factorial of {} is {}'.format(n,f))    "
   ]
  },
  {
   "cell_type": "code",
   "execution_count": 10,
   "id": "e9be4756",
   "metadata": {},
   "outputs": [
    {
     "name": "stdout",
     "output_type": "stream",
     "text": [
      "enter the number5\n",
      "favtorial of 5is  120\n"
     ]
    }
   ],
   "source": [
    "m=int(input('enter the number'))\n",
    "f=1\n",
    "for i in range(1,m+1):\n",
    "    f=f*i\n",
    "print('favtorial of {}is  {}'.format(m,f))    "
   ]
  },
  {
   "cell_type": "code",
   "execution_count": null,
   "id": "50912acd",
   "metadata": {},
   "outputs": [],
   "source": []
  },
  {
   "cell_type": "code",
   "execution_count": 5,
   "id": "ecc0ffb3",
   "metadata": {},
   "outputs": [
    {
     "name": "stdout",
     "output_type": "stream",
     "text": [
      "enter the number8\n",
      "factoriaL OF 8 is 1\n"
     ]
    }
   ],
   "source": [
    "n=int(input('enter the number'))\n",
    "f=1\n",
    "for i in range(1,n+1):\n",
    "    f=f*1\n",
    "print('factoriaL OF {} is {}'.format(n,f))    "
   ]
  },
  {
   "cell_type": "code",
   "execution_count": null,
   "id": "4d5408ab",
   "metadata": {},
   "outputs": [],
   "source": []
  },
  {
   "cell_type": "code",
   "execution_count": 1,
   "id": "f550be3a",
   "metadata": {},
   "outputs": [
    {
     "name": "stdout",
     "output_type": "stream",
     "text": [
      "enter the number8\n",
      "factorial of 8 id  1\n"
     ]
    }
   ],
   "source": [
    "n=int(input('enter the number'))\n",
    "f=1\n",
    "for i in range (1,n+1):\n",
    "    f=f*1\n",
    "print('factorial of {} id  {}'.format(n,f))"
   ]
  },
  {
   "cell_type": "code",
   "execution_count": null,
   "id": "6e0ee730",
   "metadata": {},
   "outputs": [],
   "source": []
  },
  {
   "cell_type": "code",
   "execution_count": 6,
   "id": "8814cbed",
   "metadata": {},
   "outputs": [
    {
     "name": "stdout",
     "output_type": "stream",
     "text": [
      "enter the nuber8\n",
      "factorial of 8 is 40320\n"
     ]
    }
   ],
   "source": [
    "n=int(input('enter the nuber'))\n",
    "f=1\n",
    "for i in range(1,n+1):\n",
    "    f=f*i\n",
    "print('factorial of {} is {}'.format(n,f))    "
   ]
  },
  {
   "cell_type": "code",
   "execution_count": 3,
   "id": "198b4f74",
   "metadata": {},
   "outputs": [
    {
     "name": "stdout",
     "output_type": "stream",
     "text": [
      "enter the name6\n",
      "factoriAL OF 6 is 720\n"
     ]
    }
   ],
   "source": [
    "p=int(input('enter the name'))\n",
    "f=1\n",
    "for i in range(1,p+1):\n",
    "    f=f*i\n",
    "print('factoriAL OF {} is {}'.format(p,f))    "
   ]
  },
  {
   "cell_type": "code",
   "execution_count": 2,
   "id": "1970f85d",
   "metadata": {},
   "outputs": [
    {
     "name": "stdout",
     "output_type": "stream",
     "text": [
      "enter the number8\n",
      "factoriA;L OF 8 IS 40320\n"
     ]
    }
   ],
   "source": [
    "n=int(input('enter the number'))\n",
    "f=1\n",
    "for i in range(1,n+1):\n",
    "    f=f*i\n",
    "print('factoriA;L OF {} IS {}'.format(n,f))    \n",
    "    \n",
    "    \n",
    "    "
   ]
  },
  {
   "cell_type": "code",
   "execution_count": 7,
   "id": "9c34e02f",
   "metadata": {},
   "outputs": [
    {
     "name": "stdout",
     "output_type": "stream",
     "text": [
      "enter the number6\n",
      "enter the factorial of 8 is 1\n"
     ]
    }
   ],
   "source": [
    "m=int(input('enter the number'))\n",
    "l=1\n",
    "for i in range(1,m+1):\n",
    "    f=m*l\n",
    "print('enter the factorial of {} is {}'.format(n,l))\n"
   ]
  },
  {
   "cell_type": "code",
   "execution_count": 3,
   "id": "df8e5c77",
   "metadata": {},
   "outputs": [
    {
     "name": "stdout",
     "output_type": "stream",
     "text": [
      "enter the name5\n",
      "factorial of 5is 120\n"
     ]
    }
   ],
   "source": [
    "n=int(input('enter the name'))\n",
    "f=1\n",
    "for i in range (1,n+1):\n",
    "    f=f*i\n",
    "print('factorial of {}is {}'.format(n,f))    "
   ]
  },
  {
   "cell_type": "code",
   "execution_count": null,
   "id": "0167f702",
   "metadata": {},
   "outputs": [],
   "source": []
  },
  {
   "cell_type": "code",
   "execution_count": 18,
   "id": "21c16ade",
   "metadata": {},
   "outputs": [
    {
     "name": "stdout",
     "output_type": "stream",
     "text": [
      "enter the name7\n",
      "factorial 7 is 5040\n"
     ]
    }
   ],
   "source": [
    "n=int(input('enter the name'))\n",
    "f=1\n",
    "for i in range (1,n+1):\n",
    "    f=f*i\n",
    "print('factorial {} is {}'.format(n,f))    "
   ]
  },
  {
   "cell_type": "code",
   "execution_count": 19,
   "id": "2051330c",
   "metadata": {},
   "outputs": [
    {
     "name": "stdout",
     "output_type": "stream",
     "text": [
      "enter your number7\n",
      "tne factorial of 7 is 5040\n"
     ]
    }
   ],
   "source": [
    "n=int(input('enter your number'))\n",
    "f=1\n",
    "for i in range (1,n+1):\n",
    "    f=f*i\n",
    "print('tne factorial of {} is {}'.format(n,f))"
   ]
  },
  {
   "cell_type": "code",
   "execution_count": 15,
   "id": "91fd2695",
   "metadata": {},
   "outputs": [
    {
     "data": {
      "text/plain": [
       "{'fygftf': 34, 'guuy': 56}"
      ]
     },
     "execution_count": 15,
     "metadata": {},
     "output_type": "execute_result"
    }
   ],
   "source": [
    "b={'fygftf':34,'guuy':56}\n",
    "\n",
    "dict(b)"
   ]
  },
  {
   "cell_type": "code",
   "execution_count": 4,
   "id": "c3222cbf",
   "metadata": {},
   "outputs": [
    {
     "name": "stdout",
     "output_type": "stream",
     "text": [
      "enter the value7\n",
      "factorial of 7 is 5040\n"
     ]
    }
   ],
   "source": [
    "m=int(input('enter the value'))\n",
    "f=1\n",
    "for i in range (1,m+1):\n",
    "    f=f*i\n",
    "print('factorial of {} is {}'.format(m,f))        "
   ]
  },
  {
   "cell_type": "code",
   "execution_count": 2,
   "id": "50552599",
   "metadata": {},
   "outputs": [
    {
     "name": "stdout",
     "output_type": "stream",
     "text": [
      "enter the no4\n",
      "factorialof 4 id 24\n"
     ]
    }
   ],
   "source": [
    "n=int(input('enter the no'))\n",
    "f=1\n",
    "for i in range (1,n+1):\n",
    "    f=f*i\n",
    "print('factorialof {} id {}'.format(n,f))    "
   ]
  },
  {
   "cell_type": "code",
   "execution_count": null,
   "id": "eb65e30a",
   "metadata": {},
   "outputs": [],
   "source": [
    "n=int(input('enter no'))\n",
    "f=1\n",
    "for i in range (1,n+1):\n",
    "    f=f+1\n",
    "print('factorial of {} is {}'.format(n,f))    \n",
    "\n"
   ]
  },
  {
   "cell_type": "code",
   "execution_count": null,
   "id": "844b55ab",
   "metadata": {},
   "outputs": [],
   "source": []
  },
  {
   "cell_type": "code",
   "execution_count": 5,
   "id": "a339188f",
   "metadata": {},
   "outputs": [
    {
     "name": "stdout",
     "output_type": "stream",
     "text": [
      "enter no5\n",
      "factorial of 5 is 120\n"
     ]
    }
   ],
   "source": [
    "m=int(input('enter no'))\n",
    "f=1\n",
    "for i in range(1,m+1):\n",
    "    f=f*i\n",
    "print('factorial of {} is {}'.format(m,f))    "
   ]
  },
  {
   "cell_type": "code",
   "execution_count": null,
   "id": "2c11e788",
   "metadata": {},
   "outputs": [],
   "source": []
  },
  {
   "cell_type": "code",
   "execution_count": 21,
   "id": "6466fae0",
   "metadata": {},
   "outputs": [
    {
     "name": "stdout",
     "output_type": "stream",
     "text": [
      "enter your name8\n",
      "factoriAL of 6,is 720\n"
     ]
    }
   ],
   "source": [
    "m=int(input('enter your name'))\n",
    "f=1\n",
    "for i in range(1,n+1):\n",
    "    \n",
    "    f=f*i\n",
    "print('factoriAL of {},is {}'.format(n,f))    "
   ]
  },
  {
   "cell_type": "code",
   "execution_count": 20,
   "id": "b39bdf11",
   "metadata": {},
   "outputs": [
    {
     "name": "stdout",
     "output_type": "stream",
     "text": [
      "enter no6\n",
      "factorial of 6is 720\n"
     ]
    }
   ],
   "source": [
    "n=int(input('enter no'))\n",
    "f=1\n",
    "for i in range(1,n+1):\n",
    "    f=f*i\n",
    "print('factorial of {}is {}'.format(n,f))    "
   ]
  },
  {
   "cell_type": "markdown",
   "id": "7b49cc42",
   "metadata": {},
   "source": [
    "# task2"
   ]
  },
  {
   "cell_type": "code",
   "execution_count": 23,
   "id": "74e2eeb3",
   "metadata": {},
   "outputs": [
    {
     "name": "stdout",
     "output_type": "stream",
     "text": [
      "2 3 5 7 11 13 17 19 "
     ]
    }
   ],
   "source": [
    "i=2\n",
    "while i<=20:\n",
    "    j=2\n",
    "    f=True\n",
    "    while j<=i//2:\n",
    "        if i%j==0:\n",
    "            f=False\n",
    "                \n",
    "        j=j+1\n",
    "    if f==True:\n",
    "        print(i,end=\" \")\n",
    "    i=i+1\n",
    "        \n"
   ]
  },
  {
   "cell_type": "code",
   "execution_count": null,
   "id": "71ea52ec",
   "metadata": {},
   "outputs": [],
   "source": [
    "i=2\n",
    "while i<=20:\n",
    "    j=2\n",
    "    f=True\n",
    "    "
   ]
  },
  {
   "cell_type": "code",
   "execution_count": null,
   "id": "95dfa327",
   "metadata": {},
   "outputs": [],
   "source": []
  },
  {
   "cell_type": "markdown",
   "id": "eefa779e",
   "metadata": {},
   "source": [
    "# task 3"
   ]
  },
  {
   "cell_type": "code",
   "execution_count": 14,
   "id": "c99e910f",
   "metadata": {},
   "outputs": [
    {
     "name": "stdout",
     "output_type": "stream",
     "text": [
      "enter number12345\n",
      "sum of all  15\n"
     ]
    }
   ],
   "source": [
    "n=int(input(\"enter number\"))\n",
    "s=0\n",
    "while n>0:\n",
    "    r=n%10\n",
    "    s=s+r\n",
    "    n=n//10\n",
    "print('sum of all  {}'.format(s))    "
   ]
  },
  {
   "cell_type": "code",
   "execution_count": 18,
   "id": "033633b6",
   "metadata": {},
   "outputs": [
    {
     "name": "stdout",
     "output_type": "stream",
     "text": [
      "display  table9\n",
      "9 x 1 = 9\n",
      "9 x 2 = 18\n",
      "9 x 3 = 27\n",
      "9 x 4 = 36\n",
      "9 x 5 = 45\n",
      "9 x 6 = 54\n",
      "9 x 7 = 63\n",
      "9 x 8 = 72\n",
      "9 x 9 = 81\n",
      "9 x 10 = 90\n"
     ]
    }
   ],
   "source": [
    "num=int(input('display  table'))\n",
    "for i in range(1,11):\n",
    "    print(num,\"x\",i,\"=\",num*i)\n"
   ]
  },
  {
   "cell_type": "markdown",
   "id": "92887ad8",
   "metadata": {},
   "source": [
    "# task4"
   ]
  },
  {
   "cell_type": "code",
   "execution_count": 6,
   "id": "51ba214c",
   "metadata": {},
   "outputs": [
    {
     "name": "stdout",
     "output_type": "stream",
     "text": [
      "3 5 8 13 21 34 55 89 "
     ]
    }
   ],
   "source": [
    "a=1\n",
    "b=2\n",
    "n=0\n",
    "while  n<=7:\n",
    "    c=a+b\n",
    "    print(c,end=' ')\n",
    "    a=b\n",
    "    b=c\n",
    "    n+=1\n"
   ]
  },
  {
   "cell_type": "code",
   "execution_count": 12,
   "id": "0344bc21",
   "metadata": {},
   "outputs": [
    {
     "name": "stdout",
     "output_type": "stream",
     "text": [
      "id of t1 is: 2365642972016\n"
     ]
    }
   ],
   "source": [
    "t1=(1,33,56,355,245)\n",
    "print('id of t1 is:',id(t1))"
   ]
  },
  {
   "cell_type": "markdown",
   "id": "84f7f9d5",
   "metadata": {},
   "source": [
    "# task 5"
   ]
  },
  {
   "cell_type": "code",
   "execution_count": 14,
   "id": "c5d24991",
   "metadata": {},
   "outputs": [
    {
     "name": "stdout",
     "output_type": "stream",
     "text": [
      "id of t1: 1735652776032\n",
      "id of t2: 1735652209584\n"
     ]
    }
   ],
   "source": [
    "t1=(1,2,3,4)\n",
    "t2=(5,6,7,8)\n",
    "print('id of t1:',id(t1))\n",
    "print('id of t2:',id(t2))"
   ]
  },
  {
   "cell_type": "code",
   "execution_count": 15,
   "id": "b99d4560",
   "metadata": {},
   "outputs": [
    {
     "name": "stdout",
     "output_type": "stream",
     "text": [
      "id of t1: 1735621977584\n",
      "id of t2: 1735652209584\n"
     ]
    }
   ],
   "source": [
    "t1=t1+t2\n",
    "print('id of t1:',id(t1))\n",
    "print('id of t2:',id(t2))"
   ]
  },
  {
   "cell_type": "markdown",
   "id": "bc6900d1",
   "metadata": {},
   "source": [
    "# task 6"
   ]
  },
  {
   "cell_type": "code",
   "execution_count": 25,
   "id": "fc36c92b",
   "metadata": {},
   "outputs": [
    {
     "name": "stdout",
     "output_type": "stream",
     "text": [
      "[10, 20, 30, 40, 50, 60, 70]\n"
     ]
    }
   ],
   "source": [
    "m={10,20,30,40}\n",
    "n={30,40,50,60,70}\n",
    "i=0\n",
    "for i in (n):\n",
    "    m.add(i)\n",
    "print(sorted(m))    \n"
   ]
  },
  {
   "cell_type": "code",
   "execution_count": 14,
   "id": "1047135e",
   "metadata": {},
   "outputs": [
    {
     "ename": "TypeError",
     "evalue": "'list' object cannot be interpreted as an integer",
     "output_type": "error",
     "traceback": [
      "\u001b[1;31m---------------------------------------------------------------------------\u001b[0m",
      "\u001b[1;31mTypeError\u001b[0m                                 Traceback (most recent call last)",
      "Cell \u001b[1;32mIn[14], line 4\u001b[0m\n\u001b[0;32m      2\u001b[0m n\u001b[38;5;241m=\u001b[39m[\u001b[38;5;241m979\u001b[39m,\u001b[38;5;241m865\u001b[39m,\u001b[38;5;241m9744\u001b[39m,\u001b[38;5;241m8765\u001b[39m]\n\u001b[0;32m      3\u001b[0m i\u001b[38;5;241m=\u001b[39m\u001b[38;5;241m0\u001b[39m\n\u001b[1;32m----> 4\u001b[0m \u001b[38;5;28;01mfor\u001b[39;00m i \u001b[38;5;129;01min\u001b[39;00m \u001b[38;5;28;43mrange\u001b[39;49m\u001b[43m(\u001b[49m\u001b[43mn\u001b[49m\u001b[43m)\u001b[49m:\n\u001b[0;32m      5\u001b[0m     m\u001b[38;5;241m.\u001b[39madd(i)\n\u001b[0;32m      6\u001b[0m \u001b[38;5;28mprint\u001b[39m(\u001b[38;5;28msorted\u001b[39m(i))\n",
      "\u001b[1;31mTypeError\u001b[0m: 'list' object cannot be interpreted as an integer"
     ]
    }
   ],
   "source": [
    "m=[23,45,67,87,76,45]\n",
    "n=[979,865,9744,8765]\n",
    "i=0\n",
    "for i in range(n):\n",
    "    m.add(i)\n",
    "print(sorted(i))    "
   ]
  },
  {
   "cell_type": "code",
   "execution_count": 24,
   "id": "45415c17",
   "metadata": {},
   "outputs": [
    {
     "ename": "AttributeError",
     "evalue": "'list' object has no attribute 'add'",
     "output_type": "error",
     "traceback": [
      "\u001b[1;31m---------------------------------------------------------------------------\u001b[0m",
      "\u001b[1;31mAttributeError\u001b[0m                            Traceback (most recent call last)",
      "Cell \u001b[1;32mIn[24], line 5\u001b[0m\n\u001b[0;32m      3\u001b[0m i\u001b[38;5;241m=\u001b[39m\u001b[38;5;241m0\u001b[39m\n\u001b[0;32m      4\u001b[0m \u001b[38;5;28;01mfor\u001b[39;00m i \u001b[38;5;129;01min\u001b[39;00m (n):\n\u001b[1;32m----> 5\u001b[0m     \u001b[43mm\u001b[49m\u001b[38;5;241;43m.\u001b[39;49m\u001b[43madd\u001b[49m(i)\n\u001b[0;32m      6\u001b[0m \u001b[38;5;28mprint\u001b[39m(\u001b[38;5;28msorted\u001b[39m(m))\n",
      "\u001b[1;31mAttributeError\u001b[0m: 'list' object has no attribute 'add'"
     ]
    }
   ],
   "source": [
    "m=[23,14,87,54]\n",
    "n=[98,76,45,34]\n",
    "i=0\n",
    "for i in (n):\n",
    "    m.add(i)\n",
    "print(sorted(m))    "
   ]
  },
  {
   "cell_type": "code",
   "execution_count": null,
   "id": "ae4a2a83",
   "metadata": {},
   "outputs": [],
   "source": []
  },
  {
   "cell_type": "code",
   "execution_count": 6,
   "id": "2c753aa9",
   "metadata": {},
   "outputs": [
    {
     "name": "stdout",
     "output_type": "stream",
     "text": [
      "[10, 24, 34, 40, 65, 86]\n"
     ]
    }
   ],
   "source": [
    "m={10,24,34,65}\n",
    "n={40,86,24,10,24}\n",
    "i=0\n",
    "for i in (n):\n",
    "    m.add(i)\n",
    "print(sorted(m))    "
   ]
  },
  {
   "cell_type": "code",
   "execution_count": 2,
   "id": "91dd45ae",
   "metadata": {},
   "outputs": [
    {
     "name": "stdout",
     "output_type": "stream",
     "text": [
      "[34, 45, 56, 65, 76, 87, 90, 97]\n"
     ]
    }
   ],
   "source": [
    "m={65,87,76,45,45,97}\n",
    "n={56,34,56,76,87,90}\n",
    "i=0\n",
    "for i in (n):\n",
    "    m.add(i)\n",
    "print(sorted(m))    "
   ]
  },
  {
   "cell_type": "code",
   "execution_count": 1,
   "id": "e4a27a76",
   "metadata": {},
   "outputs": [
    {
     "name": "stdout",
     "output_type": "stream",
     "text": [
      "[23, 33, 34, 45, 64, 98, 342]\n"
     ]
    }
   ],
   "source": [
    "m={34,45,23,342}\n",
    "n={64,34,33,98}\n",
    "i=0\n",
    "for i in (n):\n",
    "    m.add(i)\n",
    "print(sorted(m))    \n",
    "    \n",
    "    \n",
    "    "
   ]
  },
  {
   "cell_type": "markdown",
   "id": "b7aadeba",
   "metadata": {},
   "source": [
    "# task 7"
   ]
  },
  {
   "cell_type": "code",
   "execution_count": 27,
   "id": "b51310c4",
   "metadata": {},
   "outputs": [
    {
     "name": "stdout",
     "output_type": "stream",
     "text": [
      "2\n"
     ]
    }
   ],
   "source": [
    "e={'sga':1,'ghh':2,'khgg':3}\n",
    "for k,v in e.items():\n",
    "    if v %2==0:\n",
    "        print(v)"
   ]
  },
  {
   "cell_type": "code",
   "execution_count": 19,
   "id": "2907f50c",
   "metadata": {},
   "outputs": [
    {
     "name": "stdout",
     "output_type": "stream",
     "text": [
      "2\n",
      "4\n"
     ]
    }
   ],
   "source": [
    "port1={'ftp':1,'ssh':2,'telnet':3,'http':4}\n",
    "\n",
    "for k,v in port1.items():\n",
    "    if v%2==0:\n",
    "        \n",
    "        print(v)\n",
    "    \n",
    "    \n",
    "\n"
   ]
  },
  {
   "cell_type": "code",
   "execution_count": 29,
   "id": "60a6568b",
   "metadata": {},
   "outputs": [
    {
     "name": "stdout",
     "output_type": "stream",
     "text": [
      "dffd\n",
      "ddff\n"
     ]
    }
   ],
   "source": [
    "n={'dffd':2,'ddff':4,'jhf':9}\n",
    "for k,v in n.items():\n",
    "    if v%2==0:\n",
    "        print(k)"
   ]
  },
  {
   "cell_type": "code",
   "execution_count": 8,
   "id": "6033d945",
   "metadata": {},
   "outputs": [
    {
     "name": "stdout",
     "output_type": "stream",
     "text": [
      "2\n"
     ]
    }
   ],
   "source": [
    "p={'pgt':1,'pddgv':2,'kghg':3}\n",
    "for k,v in p.items() :\n",
    "    if v%2==0:\n",
    "        print(v)"
   ]
  },
  {
   "cell_type": "markdown",
   "id": "067183c9",
   "metadata": {},
   "source": [
    "# task 8"
   ]
  },
  {
   "cell_type": "code",
   "execution_count": 11,
   "id": "188f9edb",
   "metadata": {},
   "outputs": [
    {
     "name": "stdout",
     "output_type": "stream",
     "text": [
      "orginal dictonary: {1: 1, 2: 4, 3: 9, 4: 16, 5: 25, 6: 36, 7: 49, 8: 64, 9: 81, 10: 100, 11: 121, 12: 144, 13: 169, 14: 196, 15: 225}\n",
      "update dictionary: {1: 1, 2: 4, 3: 9, 4: 16, 5: 25, 6: 36, 7: 49, 8: 64, 9: 81, 10: 100, 11: 121, 12: 144, 13: 169, 14: 196, 15: 225, 100: 10000}\n"
     ]
    }
   ],
   "source": [
    "d={}\n",
    "for i in range (1,16):\n",
    "    d[i]=i*i\n",
    "print ('orginal dictonary:',d)\n",
    "\n",
    "d[100]=10000\n",
    "print('update dictionary:',d)"
   ]
  },
  {
   "cell_type": "code",
   "execution_count": null,
   "id": "89d37424",
   "metadata": {},
   "outputs": [],
   "source": []
  },
  {
   "cell_type": "code",
   "execution_count": 34,
   "id": "403dd984",
   "metadata": {},
   "outputs": [
    {
     "name": "stdout",
     "output_type": "stream",
     "text": [
      "orginal disconary {1: 1, 2: 4, 3: 9, 4: 16, 5: 25, 6: 36, 7: 49, 8: 64, 9: 81, 10: 100, 11: 121, 12: 144, 13: 169, 14: 196, 15: 225}\n",
      "updated {1: 1, 2: 4, 3: 9, 4: 16, 5: 25, 6: 36, 7: 49, 8: 64, 9: 81, 10: 100, 11: 121, 12: 144, 13: 169, 14: 196, 15: 100}\n"
     ]
    }
   ],
   "source": [
    "h={}\n",
    "for i  in range(1,16):\n",
    "    h[i]=i*i\n",
    "print('orginal disconary',h) \n",
    "h[i]=100\n",
    "print('updated',h)"
   ]
  },
  {
   "cell_type": "code",
   "execution_count": null,
   "id": "002ffdda",
   "metadata": {},
   "outputs": [],
   "source": [
    "d={}\n",
    "for i in range(1,70):\n",
    "    d[i]=i*i\n",
    "print('create',d) \n",
    "d[78]=800\n",
    "d[79]=890\n",
    "print('update',d)"
   ]
  },
  {
   "cell_type": "code",
   "execution_count": 7,
   "id": "20794b10",
   "metadata": {},
   "outputs": [
    {
     "name": "stdout",
     "output_type": "stream",
     "text": [
      "orginal dictonary {1: 1, 2: 4, 3: 9, 4: 16, 5: 25, 6: 36, 7: 49, 8: 64, 9: 81, 10: 100, 11: 121, 12: 144, 13: 169, 14: 196, 15: 225}\n",
      "updated dictionary {1: 1, 2: 4, 3: 9, 4: 16, 5: 25, 6: 36, 7: 49, 8: 64, 9: 81, 10: 100, 11: 121, 12: 144, 13: 169, 14: 196, 15: 225, 16: 1000, 17: 6550}\n"
     ]
    }
   ],
   "source": [
    "d={}\n",
    "for i in range(1,16):\n",
    "    d[i]=i*i\n",
    "print('orginal dictonary',d) \n",
    "d[16]=1000\n",
    "d[17]=6550\n",
    "print('updated dictionary',d)\n",
    "    \n",
    "    \n",
    "    \n",
    "    \n",
    "    \n",
    "    \n",
    "    \n",
    "    \n",
    "    "
   ]
  },
  {
   "cell_type": "code",
   "execution_count": null,
   "id": "d3edd95b",
   "metadata": {},
   "outputs": [],
   "source": []
  },
  {
   "cell_type": "markdown",
   "id": "29e065d7",
   "metadata": {},
   "source": [
    "# task 9"
   ]
  },
  {
   "cell_type": "code",
   "execution_count": 36,
   "id": "617de645",
   "metadata": {},
   "outputs": [
    {
     "data": {
      "text/plain": [
       "{'ftp': 21, 'ssh': 22, 'telnet': 23, 'http': 24}"
      ]
     },
     "execution_count": 36,
     "metadata": {},
     "output_type": "execute_result"
    }
   ],
   "source": [
    "d1={21:'ftp',22:'ssh',23:'telnet',24:'http'}\n",
    "d2={}\n",
    "for k,v in d1.items():\n",
    "    d2[v]=k\n",
    "d2    "
   ]
  },
  {
   "cell_type": "code",
   "execution_count": 12,
   "id": "be422257",
   "metadata": {},
   "outputs": [
    {
     "ename": "NameError",
     "evalue": "name 'k' is not defined",
     "output_type": "error",
     "traceback": [
      "\u001b[1;31m---------------------------------------------------------------------------\u001b[0m",
      "\u001b[1;31mNameError\u001b[0m                                 Traceback (most recent call last)",
      "Cell \u001b[1;32mIn[12], line 3\u001b[0m\n\u001b[0;32m      1\u001b[0m d1\u001b[38;5;241m=\u001b[39m{\u001b[38;5;241m43\u001b[39m:\u001b[38;5;124m'\u001b[39m\u001b[38;5;124mshah\u001b[39m\u001b[38;5;124m'\u001b[39m,\u001b[38;5;241m22\u001b[39m:\u001b[38;5;124m'\u001b[39m\u001b[38;5;124mjgdd\u001b[39m\u001b[38;5;124m'\u001b[39m,\u001b[38;5;241m78\u001b[39m:\u001b[38;5;124m'\u001b[39m\u001b[38;5;124miyf\u001b[39m\u001b[38;5;124m'\u001b[39m,\u001b[38;5;241m90\u001b[39m:\u001b[38;5;124m'\u001b[39m\u001b[38;5;124mrtfv\u001b[39m\u001b[38;5;124m'\u001b[39m}\n\u001b[0;32m      2\u001b[0m d2\u001b[38;5;241m=\u001b[39m{}\n\u001b[1;32m----> 3\u001b[0m \u001b[38;5;28;01mfor\u001b[39;00m \u001b[43mk\u001b[49m\u001b[38;5;241m.\u001b[39mv \u001b[38;5;129;01min\u001b[39;00m d1\u001b[38;5;241m.\u001b[39mitems():\n\u001b[0;32m      4\u001b[0m     d2[v]\u001b[38;5;241m=\u001b[39mk\n\u001b[0;32m      5\u001b[0m     d2\n",
      "\u001b[1;31mNameError\u001b[0m: name 'k' is not defined"
     ]
    }
   ],
   "source": [
    "d1={43:'shah',22:'jgdd',78:'iyf',90:'rtfv'}\n",
    "d2={}\n",
    "for k.v in d1.items():\n",
    "    d2[v]=k\n",
    "    d2"
   ]
  },
  {
   "cell_type": "code",
   "execution_count": 36,
   "id": "f12a2405",
   "metadata": {},
   "outputs": [
    {
     "data": {
      "text/plain": [
       "{'gf': 21, 'ytt': 45, 'uf': 98}"
      ]
     },
     "execution_count": 36,
     "metadata": {},
     "output_type": "execute_result"
    }
   ],
   "source": [
    "d1={21:'gf',45:'ytt',98:'uf'}\n",
    "d2={}\n",
    "for k,v in d1.items():\n",
    "    d2[v]=k\n",
    "d2    "
   ]
  },
  {
   "cell_type": "code",
   "execution_count": 13,
   "id": "55e4af05",
   "metadata": {},
   "outputs": [
    {
     "data": {
      "text/plain": [
       "{'ftp': 21, 'sdd': 22, 'dhdg': 34, 'ufg': 76}"
      ]
     },
     "execution_count": 13,
     "metadata": {},
     "output_type": "execute_result"
    }
   ],
   "source": [
    "d1={21:'ftp',22:'sdd',34:'dhdg',76:'ufg'}\n",
    "d2={}\n",
    "for k,v in d1.items():\n",
    "    d2[v]=k\n",
    "d2   "
   ]
  },
  {
   "cell_type": "markdown",
   "id": "4365d6bd",
   "metadata": {},
   "source": [
    "# task 10"
   ]
  },
  {
   "cell_type": "code",
   "execution_count": 10,
   "id": "8dc8d8ea",
   "metadata": {},
   "outputs": [
    {
     "name": "stdout",
     "output_type": "stream",
     "text": [
      "{'emp1': {'name': 'Aara', 'dept': 'it', 'desigination': 'team lead'}, 'emp2': {'name': 'anna', 'dept': 'it', 'designation': 'senior software enginer'}, 'emp3': {'name': 'andy', 'dept': 'biotech', 'designation': 'senior software enginer'}}\n"
     ]
    }
   ],
   "source": [
    "employee={'emp1':{'name':'Aara','dept':'it','desigination':'team lead'},\n",
    "'emp2':{'name':'anna','dept':'it','designation':'senior software enginer'},\n",
    "'emp3':{'name':'andy','dept':'biotech','designation':'senior software enginer'},\n",
    "'emp4':{'name':'andy','dept':'biotech','designation':'senior software enginer'}}\n",
    "\n",
    "employee2={} \n",
    "for k,v in employee.items():\n",
    "          if v not in employee2.values():\n",
    "            employee2[k]=v\n",
    "print(employee2)\n",
    "          \n",
    "          "
   ]
  },
  {
   "cell_type": "code",
   "execution_count": 37,
   "id": "d4067de4",
   "metadata": {},
   "outputs": [
    {
     "name": "stdout",
     "output_type": "stream",
     "text": [
      "{'emp1': {'name': 'Aara', 'dept': 'it', 'desigination': 'team lead'}, 'emp2': {'name': 'anna', 'dept': 'it', 'designation': 'senior software enginer'}, 'emp3': {'name': 'andy', 'dept': 'biotech', 'designation': 'senior software enginer'}}\n"
     ]
    }
   ],
   "source": [
    "employee={'emp1':{'name':'Aara','dept':'it','desigination':'team lead'},\n",
    "'emp2':{'name':'anna','dept':'it','designation':'senior software enginer'},\n",
    "'emp3':{'name':'andy','dept':'biotech','designation':'senior software enginer'},\n",
    "'emp4':{'name':'andy','dept':'biotech','designation':'senior software enginer'}}\n",
    "employee2={}\n",
    "for k,v in employee.items():\n",
    "    if v not in employee2.values():\n",
    "        employee2[k]=v\n",
    "print(employee2)        "
   ]
  },
  {
   "cell_type": "code",
   "execution_count": 15,
   "id": "0d26ed8e",
   "metadata": {},
   "outputs": [
    {
     "data": {
      "text/plain": [
       "{'emp1': {'name': 'Aara', 'dept': 'it', 'desigination': 'team lead'},\n",
       " 'emp2': {'name': 'anna',\n",
       "  'dept': 'it',\n",
       "  'designation': 'senior software enginer'},\n",
       " 'emp3': {'name': 'andy',\n",
       "  'dept': 'biotech',\n",
       "  'designation': 'senior software enginer'}}"
      ]
     },
     "execution_count": 15,
     "metadata": {},
     "output_type": "execute_result"
    }
   ],
   "source": [
    "employee={'emp1':{'name':'Aara','dept':'it','desigination':'team lead'},\n",
    "'emp2':{'name':'anna','dept':'it','designation':'senior software enginer'},\n",
    "'emp3':{'name':'andy','dept':'biotech','designation':'senior software enginer'},\n",
    "'emp4':{'name':'andy','dept':'biotech','designation':'senior software enginer'}}\n",
    "employee2={}\n",
    "for k,v in employee.items():\n",
    "    if v not in employee2.values():\n",
    "        \n",
    "        employee2[k]=v\n",
    "employee2    "
   ]
  },
  {
   "cell_type": "code",
   "execution_count": 16,
   "id": "80eb7310",
   "metadata": {},
   "outputs": [
    {
     "data": {
      "text/plain": [
       "{'emp1': {'name': 'Aara', 'dept': 'it', 'desigination': 'team lead'},\n",
       " 'emp2': {'name': 'anna',\n",
       "  'dept': 'it',\n",
       "  'designation': 'senior software enginer'},\n",
       " 'emp3': {'name': 'andy',\n",
       "  'dept': 'biotech',\n",
       "  'designation': 'senior software enginer'}}"
      ]
     },
     "execution_count": 16,
     "metadata": {},
     "output_type": "execute_result"
    }
   ],
   "source": [
    "employee={'emp1':{'name':'Aara','dept':'it','desigination':'team lead'},\n",
    "'emp2':{'name':'anna','dept':'it','designation':'senior software enginer'},\n",
    "'emp3':{'name':'andy','dept':'biotech','designation':'senior software enginer'},\n",
    "'emp4':{'name':'andy','dept':'biotech','designation':'senior software enginer'}}\n",
    "employee2={}\n",
    "for k,v in employee.items():\n",
    "    if v not in employee2.values():\n",
    "        employee2[k]=v\n",
    "        \n",
    "employee2    "
   ]
  },
  {
   "cell_type": "code",
   "execution_count": 17,
   "id": "b2b6b2d4",
   "metadata": {},
   "outputs": [
    {
     "data": {
      "text/plain": [
       "{'emp1': {'name': 'Aara', 'dept': 'it', 'desigination': 'team lead'},\n",
       " 'emp2': {'name': 'anna',\n",
       "  'dept': 'it',\n",
       "  'designation': 'senior software enginer'},\n",
       " 'emp3': {'name': 'andy',\n",
       "  'dept': 'biotech',\n",
       "  'designation': 'senior software enginer'}}"
      ]
     },
     "execution_count": 17,
     "metadata": {},
     "output_type": "execute_result"
    }
   ],
   "source": [
    "employee={'emp1':{'name':'Aara','dept':'it','desigination':'team lead'},\n",
    "'emp2':{'name':'anna','dept':'it','designation':'senior software enginer'},\n",
    "'emp3':{'name':'andy','dept':'biotech','designation':'senior software enginer'},\n",
    "'emp4':{'name':'andy','dept':'biotech','designation':'senior software enginer'}}\n",
    "employee2={}\n",
    "for k,v in employee.items():\n",
    "    if v not in employee2.values():\n",
    "        employee2[k]=v\n",
    "employee2        \n",
    "        "
   ]
  },
  {
   "cell_type": "code",
   "execution_count": null,
   "id": "2cbcac45",
   "metadata": {},
   "outputs": [],
   "source": []
  },
  {
   "cell_type": "code",
   "execution_count": 4,
   "id": "bd7156f7",
   "metadata": {},
   "outputs": [
    {
     "name": "stdout",
     "output_type": "stream",
     "text": [
      "entertheno6\n",
      "720\n"
     ]
    }
   ],
   "source": [
    "n=int(input(\"entertheno\"))\n",
    "def factorial(n):\n",
    "    if n == 1:\n",
    "        return n \n",
    "    else:\n",
    "        return(n*factorial(n-1))\n",
    "print(factorial(n))\n"
   ]
  },
  {
   "cell_type": "code",
   "execution_count": 8,
   "id": "a6c50f83",
   "metadata": {},
   "outputs": [
    {
     "data": {
      "text/plain": [
       "720"
      ]
     },
     "execution_count": 8,
     "metadata": {},
     "output_type": "execute_result"
    }
   ],
   "source": [
    "factorial(n)"
   ]
  },
  {
   "cell_type": "code",
   "execution_count": null,
   "id": "d10658fc",
   "metadata": {},
   "outputs": [],
   "source": []
  },
  {
   "cell_type": "code",
   "execution_count": null,
   "id": "83156ad3",
   "metadata": {},
   "outputs": [],
   "source": []
  }
 ],
 "metadata": {
  "kernelspec": {
   "display_name": "Python 3 (ipykernel)",
   "language": "python",
   "name": "python3"
  },
  "language_info": {
   "codemirror_mode": {
    "name": "ipython",
    "version": 3
   },
   "file_extension": ".py",
   "mimetype": "text/x-python",
   "name": "python",
   "nbconvert_exporter": "python",
   "pygments_lexer": "ipython3",
   "version": "3.10.9"
  }
 },
 "nbformat": 4,
 "nbformat_minor": 5
}
