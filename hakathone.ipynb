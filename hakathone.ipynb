{
 "cells": [
  {
   "cell_type": "markdown",
   "id": "84696c77",
   "metadata": {},
   "source": [
    "# task 1"
   ]
  },
  {
   "cell_type": "code",
   "execution_count": 31,
   "id": "54544987",
   "metadata": {},
   "outputs": [
    {
     "name": "stdout",
     "output_type": "stream",
     "text": [
      "Enter iteam name1apple\n",
      "enter quantity available apple22\n",
      "enter cost / iteam apple12\n",
      "----------------------------------------------------------------\n",
      "------------\n",
      "Enter iteam name2ice cream\n",
      "enter quantity available ice cream22\n",
      "enter cost / iteam ice cream12\n",
      "----------------------------------------------------------------\n",
      "------------\n",
      "Enter iteam name3lays\n",
      "enter quantity available lays50\n",
      "enter cost / iteam lays5\n",
      "----------------------------------------------------------------\n",
      "------------\n",
      "Enter iteam name4biscuit\n",
      "enter quantity available biscuit70\n",
      "enter cost / iteam biscuit5\n",
      "----------------------------------------------------------------\n",
      "------------\n",
      "Enter iteam name5kit kat\n",
      "enter quantity available kit kat33\n",
      "enter cost / iteam kit kat20\n",
      "----------------------------------------------------------------\n",
      "------------\n"
     ]
    }
   ],
   "source": [
    "iteam={}\n",
    "a=[]\n",
    "\n",
    "for i in range (5):\n",
    "    a=[]\n",
    "    s=input('enter iteam name{}'.format(i+1).capitalize())\n",
    "    a.append(int(input('enter quantity available {}'.format(s))))\n",
    "    a.append(int(input('enter cost / iteam {}'.format(s))))\n",
    "    iteam[s]=a\n",
    "    print('----------------------------------------------------------------')\n",
    "    \n",
    "    print(\"------------\")\n",
    "\n",
    "\n",
    "\n",
    "\n",
    "\n"
   ]
  },
  {
   "cell_type": "code",
   "execution_count": 58,
   "id": "88b1fe5b",
   "metadata": {},
   "outputs": [
    {
     "name": "stdout",
     "output_type": "stream",
     "text": [
      "----------------------------------------------------------------\n",
      " s/no          items       quantity     cost/iteam\n",
      "----------------------------------------------------------------\n",
      "    1          apple             22             12\n",
      "    2      ice cream             22             12\n",
      "    3           lays             50              5\n",
      "    4        biscuit             70              5\n",
      "    5        kit kat             27             20\n"
     ]
    }
   ],
   "source": [
    "print('----------------------------------------------------------------')\n",
    "print(\"%5s%15s%15s%15s\"%(\"s/no\",\"items\",\"quantity\",\"cost/iteam\"))\n",
    "sl=1\n",
    "print('----------------------------------------------------------------')\n",
    "for k,v in iteam.items():\n",
    "    \n",
    "    \n",
    "    print(\"%5s%15s%15s%15s\"%(sl,k,v[0],v[1]))\n",
    "    sl=sl+1\n"
   ]
  },
  {
   "cell_type": "code",
   "execution_count": 59,
   "id": "d90df910",
   "metadata": {},
   "outputs": [
    {
     "data": {
      "text/plain": [
       "{'apple': [22, 12],\n",
       " 'ice cream': [22, 12],\n",
       " 'lays': [50, 5],\n",
       " 'biscuit': [70, 5],\n",
       " 'kit kat': [27, 20]}"
      ]
     },
     "execution_count": 59,
     "metadata": {},
     "output_type": "execute_result"
    }
   ],
   "source": [
    "iteam"
   ]
  },
  {
   "cell_type": "code",
   "execution_count": 60,
   "id": "5eaf16ec",
   "metadata": {},
   "outputs": [
    {
     "name": "stdout",
     "output_type": "stream",
     "text": [
      "================================================================================\n"
     ]
    }
   ],
   "source": [
    "\n",
    "print('='*80)\n",
    "qd={}\n",
    "def order():\n",
    "    for k,v in iteam.items():\n",
    "        \n",
    "        order_qty=[]\n",
    "        qty=0\n",
    "        qty=int(input(\"how many {} packet are required ?\".format(k)))\n",
    "        if (v[0]>= qty):\n",
    "            order_qty.append(qty)\n",
    "            order_qty.append(v[1])\n",
    "            order_qty.append(float(qty*int(v[1])))\n",
    "            qd[k]=order_qty\n",
    "            v[0]=(v[0]-qty)\n",
    "        else:\n",
    "            print(\"{} {} packets are not available:\".format(k,qty))\n",
    "        \n",
    "    \n",
    "        \n",
    "        "
   ]
  },
  {
   "cell_type": "code",
   "execution_count": 61,
   "id": "bdcd8a73",
   "metadata": {},
   "outputs": [
    {
     "name": "stdout",
     "output_type": "stream",
     "text": [
      "how many apple packet are required ?5\n",
      "how many ice cream packet are required ?8\n",
      "how many lays packet are required ?4\n",
      "how many biscuit packet are required ?3\n",
      "how many kit kat packet are required ?2\n"
     ]
    }
   ],
   "source": [
    "order()"
   ]
  },
  {
   "cell_type": "code",
   "execution_count": 62,
   "id": "c00f75f6",
   "metadata": {},
   "outputs": [
    {
     "name": "stdout",
     "output_type": "stream",
     "text": [
      "fill your delivery adress\n",
      "enter your name:shahid\n",
      "enteryour adress:khayar\n",
      "distance from store 5/10/155\n",
      "delivery charge :10will be delivery for5 km\n"
     ]
    }
   ],
   "source": [
    "global address,name,del_charge\n",
    "address={}\n",
    "print(\"fill your delivery adress\")\n",
    "address['name']=input(\"enter your name:\")\n",
    "address['adress']=input(\"enteryour adress:\")\n",
    "del_charg=0\n",
    "distance=(int(input(\"distance from store 5/10/15\")))\n",
    "if distance==15:\n",
    "        \n",
    "    del_charge=30\n",
    "    print('delivery charge :{}will be delivery for{} km'.format(del_charge,distance))\n",
    "if distance==10:\n",
    "    del_charge=15\n",
    "    print('delivery charge :{}will be delivery for{} km'.format(del_charge,distance))\n",
    "if distance==5:\n",
    "    del_charge=10\n",
    "    print('delivery charge :{}will be delivery for{} km'.format(del_charge,distance))\n",
    "address['distance'] =distance\n",
    "address['del_charge'] =del_charge\n",
    "        \n",
    "        "
   ]
  },
  {
   "cell_type": "code",
   "execution_count": 63,
   "id": "4cf27e0c",
   "metadata": {},
   "outputs": [],
   "source": [
    "def bill():\n",
    "    print(''*30)\n",
    "    print('='*100)\n",
    "    print(''*40,'bill')\n",
    "    print('='*100)\n",
    "    print(\"%5s%15s%15s%15s\"%(\"s/no\",\"items\",\"quantity\",\"cost/iteam\"))\n",
    "    \n",
    "    sno=1\n",
    "    iteam_cost=0.0\n",
    "    \n",
    "    for k,v in qd.items():\n",
    "        print(\"%5s%15s%15s%15s\"%(sno,k,v[0],v[2]))\n",
    "        \n",
    "        \n",
    "        iteam_cost=iteam_cost+v[2]\n",
    "        sno=sno+1\n",
    "    print (\"=\"*100) \n",
    "    print(\"total cost\",iteam_cost)\n",
    "    print(\"total bill amount + delivery charge={}\".format(iteam_cost+address['del_charge']))\n",
    "    print()\n",
    "    print(\"name:  {}\".format(address['name']))\n",
    "    print(\"address:  {}\".format(address['adress']))\n",
    "    x=input(\"do you want to continue shoping y/nn\")\n",
    "    if x==('y'):\n",
    "        \n",
    "        order()\n",
    "    else:\n",
    "        print(\"have a nice day\")\n",
    "        \n",
    "    "
   ]
  },
  {
   "cell_type": "code",
   "execution_count": 64,
   "id": "bebec2b2",
   "metadata": {},
   "outputs": [
    {
     "name": "stdout",
     "output_type": "stream",
     "text": [
      "\n",
      "====================================================================================================\n",
      " bill\n",
      "====================================================================================================\n",
      " s/no          items       quantity     cost/iteam\n",
      "    1          apple              5           60.0\n",
      "    2      ice cream              8           96.0\n",
      "    3           lays              4           20.0\n",
      "    4        biscuit              3           15.0\n",
      "    5        kit kat              2           40.0\n",
      "====================================================================================================\n",
      "total cost 231.0\n",
      "total bill amount + delivery charge=241.0\n",
      "\n",
      "name:  shahid\n",
      "address:  khayar\n",
      "do you want to continue shoping y/nnnn\n",
      "have a nice day\n"
     ]
    }
   ],
   "source": [
    "bill()"
   ]
  },
  {
   "cell_type": "code",
   "execution_count": null,
   "id": "cbdd8eb9",
   "metadata": {},
   "outputs": [],
   "source": []
  },
  {
   "cell_type": "code",
   "execution_count": null,
   "id": "4e0c3471",
   "metadata": {},
   "outputs": [],
   "source": []
  }
 ],
 "metadata": {
  "kernelspec": {
   "display_name": "Python 3 (ipykernel)",
   "language": "python",
   "name": "python3"
  },
  "language_info": {
   "codemirror_mode": {
    "name": "ipython",
    "version": 3
   },
   "file_extension": ".py",
   "mimetype": "text/x-python",
   "name": "python",
   "nbconvert_exporter": "python",
   "pygments_lexer": "ipython3",
   "version": "3.9.13"
  }
 },
 "nbformat": 4,
 "nbformat_minor": 5
}
