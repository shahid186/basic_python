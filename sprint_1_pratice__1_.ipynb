{
 "cells": [
  {
   "cell_type": "markdown",
   "id": "b4a98b4d",
   "metadata": {},
   "source": [
    "# pratice 1"
   ]
  },
  {
   "cell_type": "code",
   "execution_count": 18,
   "id": "c9ca152d",
   "metadata": {},
   "outputs": [
    {
     "name": "stdout",
     "output_type": "stream",
     "text": [
      "100\n",
      "2284364322256\n",
      "<class 'int'>\n"
     ]
    }
   ],
   "source": [
    "roll_no=100#roll no assign integer value#a\n",
    "print (roll_no)\n",
    "print(id (roll_no))\n",
    "print(type(roll_no))\n",
    "\n",
    "\n",
    "\n"
   ]
  },
  {
   "cell_type": "code",
   "execution_count": 3,
   "id": "4eba7265",
   "metadata": {},
   "outputs": [
    {
     "name": "stdout",
     "output_type": "stream",
     "text": [
      "100\n",
      "<class 'int'>\n",
      "2204062518608\n"
     ]
    }
   ],
   "source": [
    "roll=100\n",
    "print(roll)\n",
    "print(type(roll))\n",
    "print(id(roll))"
   ]
  },
  {
   "cell_type": "code",
   "execution_count": 5,
   "id": "e9dadc96",
   "metadata": {},
   "outputs": [
    {
     "name": "stdout",
     "output_type": "stream",
     "text": [
      "23\n"
     ]
    }
   ],
   "source": [
    "roll_no=23\n",
    "print(roll_no)"
   ]
  },
  {
   "cell_type": "code",
   "execution_count": null,
   "id": "ed28727d",
   "metadata": {},
   "outputs": [],
   "source": []
  },
  {
   "cell_type": "code",
   "execution_count": 1,
   "id": "9d43440f",
   "metadata": {},
   "outputs": [
    {
     "name": "stdout",
     "output_type": "stream",
     "text": [
      "2463713919920\n"
     ]
    }
   ],
   "source": [
    "roll=23\n",
    "print(id(roll))"
   ]
  },
  {
   "cell_type": "code",
   "execution_count": 2,
   "id": "bdf56c01",
   "metadata": {},
   "outputs": [
    {
     "name": "stdout",
     "output_type": "stream",
     "text": [
      "100\n",
      "2262180806576\n",
      "<class 'str'>\n"
     ]
    }
   ],
   "source": [
    "r='100'\n",
    "print(r)\n",
    "print(id(r))\n",
    "print(type(r))"
   ]
  },
  {
   "cell_type": "code",
   "execution_count": null,
   "id": "c6d31f87",
   "metadata": {},
   "outputs": [],
   "source": []
  },
  {
   "cell_type": "code",
   "execution_count": null,
   "id": "1d4b0656",
   "metadata": {},
   "outputs": [],
   "source": []
  },
  {
   "cell_type": "code",
   "execution_count": 2,
   "id": "da59f830",
   "metadata": {},
   "outputs": [
    {
     "name": "stdout",
     "output_type": "stream",
     "text": [
      "2720112381968\n",
      "<class 'int'>\n"
     ]
    }
   ],
   "source": [
    "eoll=122\n",
    "print(id(eoll))\n",
    "print(type(eoll))"
   ]
  },
  {
   "cell_type": "code",
   "execution_count": 2,
   "id": "5f4744f3",
   "metadata": {},
   "outputs": [
    {
     "name": "stdout",
     "output_type": "stream",
     "text": [
      "165\n"
     ]
    }
   ],
   "source": [
    "r=89+76\n",
    "print(r)"
   ]
  },
  {
   "cell_type": "code",
   "execution_count": 2,
   "id": "de83baf3",
   "metadata": {},
   "outputs": [
    {
     "name": "stdout",
     "output_type": "stream",
     "text": [
      "10\n",
      "2412391891472\n",
      "<class 'int'>\n"
     ]
    }
   ],
   "source": [
    "roll_no=10\n",
    "print(roll_no)\n",
    "print(id(roll_no))\n",
    "print(type(roll_no))"
   ]
  },
  {
   "cell_type": "code",
   "execution_count": 22,
   "id": "341be664",
   "metadata": {},
   "outputs": [
    {
     "name": "stdout",
     "output_type": "stream",
     "text": [
      "shahid\n",
      "2284447727344\n",
      "<class 'str'>\n"
     ]
    }
   ],
   "source": [
    "first_name='shahid'#first_name assign string value#b\n",
    "print(first_name)\n",
    "print(id(first_name))\n",
    "print(type(first_name))"
   ]
  },
  {
   "cell_type": "code",
   "execution_count": 3,
   "id": "609f7059",
   "metadata": {},
   "outputs": [
    {
     "name": "stdout",
     "output_type": "stream",
     "text": [
      "shahid\n",
      "2412472223728\n",
      "<class 'str'>\n"
     ]
    }
   ],
   "source": [
    "first_name='shahid'\n",
    "print(first_name)\n",
    "print(id(first_name))\n",
    "print(type(first_name))\n",
    "\n"
   ]
  },
  {
   "cell_type": "code",
   "execution_count": 4,
   "id": "bb05cc2e",
   "metadata": {},
   "outputs": [
    {
     "name": "stdout",
     "output_type": "stream",
     "text": [
      "shahid\n",
      "2412472223728\n",
      "<class 'str'>\n"
     ]
    }
   ],
   "source": [
    "first_name='shahid'\n",
    "print(first_name)\n",
    "print(id(first_name))\n",
    "print(type(first_name))"
   ]
  },
  {
   "cell_type": "code",
   "execution_count": null,
   "id": "3df20e89",
   "metadata": {},
   "outputs": [],
   "source": []
  },
  {
   "cell_type": "code",
   "execution_count": null,
   "id": "02d5c044",
   "metadata": {},
   "outputs": [],
   "source": [
    "last_n='shahid'"
   ]
  },
  {
   "cell_type": "code",
   "execution_count": null,
   "id": "085917fd",
   "metadata": {},
   "outputs": [],
   "source": []
  },
  {
   "cell_type": "code",
   "execution_count": null,
   "id": "74d30f69",
   "metadata": {},
   "outputs": [],
   "source": []
  },
  {
   "cell_type": "code",
   "execution_count": null,
   "id": "4318e8b2",
   "metadata": {},
   "outputs": [],
   "source": []
  },
  {
   "cell_type": "code",
   "execution_count": null,
   "id": "15930419",
   "metadata": {},
   "outputs": [],
   "source": [
    "last_name='nazir'\n",
    "print(last_name)\n",
    "print(id(last_name))\n",
    "print(type(last_name))"
   ]
  },
  {
   "cell_type": "code",
   "execution_count": 25,
   "id": "4e8bccb4",
   "metadata": {},
   "outputs": [
    {
     "name": "stdout",
     "output_type": "stream",
     "text": [
      "nazir\n",
      "2284447778480\n",
      "<class 'str'>\n"
     ]
    }
   ],
   "source": [
    "last_name='nazir'#last_name assign string value#c\n",
    "print(last_name)\n",
    "print(id(last_name))\n",
    "print(type(last_name))"
   ]
  },
  {
   "cell_type": "code",
   "execution_count": 26,
   "id": "3f4ece3f",
   "metadata": {},
   "outputs": [
    {
     "name": "stdout",
     "output_type": "stream",
     "text": [
      "50\n",
      "2284364132176\n",
      "<class 'int'>\n"
     ]
    }
   ],
   "source": [
    "max_marks=50#max_marks assign integer value#d\n",
    "print(max_marks)\n",
    "print(id(max_marks))\n",
    "print(type(max_marks))"
   ]
  },
  {
   "cell_type": "markdown",
   "id": "563879b0",
   "metadata": {},
   "source": [
    "# pratice2"
   ]
  },
  {
   "cell_type": "code",
   "execution_count": 34,
   "id": "d1c3ae83",
   "metadata": {},
   "outputs": [
    {
     "name": "stdout",
     "output_type": "stream",
     "text": [
      "2\n"
     ]
    }
   ],
   "source": [
    "var1=2\n",
    "print(var1)\n",
    "#starts with varible or _#a"
   ]
  },
  {
   "cell_type": "code",
   "execution_count": 6,
   "id": "9f123b52",
   "metadata": {},
   "outputs": [
    {
     "name": "stdout",
     "output_type": "stream",
     "text": [
      "1\n",
      "2412391891184\n"
     ]
    }
   ],
   "source": [
    "var=1\n",
    "print(var)\n",
    "print(id(var))"
   ]
  },
  {
   "cell_type": "code",
   "execution_count": 35,
   "id": "952c02ac",
   "metadata": {},
   "outputs": [
    {
     "ename": "SyntaxError",
     "evalue": "invalid syntax (506859380.py, line 1)",
     "output_type": "error",
     "traceback": [
      "\u001b[1;36m  File \u001b[1;32m\"C:\\Users\\USER\\AppData\\Local\\Temp\\ipykernel_5040\\506859380.py\"\u001b[1;36m, line \u001b[1;32m1\u001b[0m\n\u001b[1;33m    2var=2\u001b[0m\n\u001b[1;37m     ^\u001b[0m\n\u001b[1;31mSyntaxError\u001b[0m\u001b[1;31m:\u001b[0m invalid syntax\n"
     ]
    }
   ],
   "source": [
    "2var=2\n",
    "print(2var)\n",
    "# it should starts with varible or _#b"
   ]
  },
  {
   "cell_type": "code",
   "execution_count": 36,
   "id": "d191d5fa",
   "metadata": {},
   "outputs": [
    {
     "ename": "SyntaxError",
     "evalue": "invalid syntax (1140940718.py, line 1)",
     "output_type": "error",
     "traceback": [
      "\u001b[1;36m  File \u001b[1;32m\"C:\\Users\\USER\\AppData\\Local\\Temp\\ipykernel_5040\\1140940718.py\"\u001b[1;36m, line \u001b[1;32m1\u001b[0m\n\u001b[1;33m    var 1=2\u001b[0m\n\u001b[1;37m        ^\u001b[0m\n\u001b[1;31mSyntaxError\u001b[0m\u001b[1;31m:\u001b[0m invalid syntax\n"
     ]
    }
   ],
   "source": [
    "var 1=2\n",
    "print(var 1)\n",
    "# it should starts with varible or _#c"
   ]
  },
  {
   "cell_type": "code",
   "execution_count": 37,
   "id": "d42d760b",
   "metadata": {},
   "outputs": [
    {
     "ename": "SyntaxError",
     "evalue": "invalid syntax (1981766040.py, line 1)",
     "output_type": "error",
     "traceback": [
      "\u001b[1;36m  File \u001b[1;32m\"C:\\Users\\USER\\AppData\\Local\\Temp\\ipykernel_5040\\1981766040.py\"\u001b[1;36m, line \u001b[1;32m1\u001b[0m\n\u001b[1;33m    var$2=2\u001b[0m\n\u001b[1;37m       ^\u001b[0m\n\u001b[1;31mSyntaxError\u001b[0m\u001b[1;31m:\u001b[0m invalid syntax\n"
     ]
    }
   ],
   "source": [
    "var$2=2\n",
    "print(var$2)\n",
    "# it should starts with varible or _#d"
   ]
  },
  {
   "cell_type": "code",
   "execution_count": null,
   "id": "4107803f",
   "metadata": {},
   "outputs": [],
   "source": []
  },
  {
   "cell_type": "markdown",
   "id": "98fa03f7",
   "metadata": {},
   "source": [
    "# pratice3"
   ]
  },
  {
   "cell_type": "code",
   "execution_count": 38,
   "id": "d7bb89af",
   "metadata": {},
   "outputs": [
    {
     "name": "stdout",
     "output_type": "stream",
     "text": [
      "15\n"
     ]
    }
   ],
   "source": [
    "Class=15\n",
    "print(Class)\n",
    "# first should start with captil letter#a"
   ]
  },
  {
   "cell_type": "code",
   "execution_count": null,
   "id": "6c1e6b5d",
   "metadata": {},
   "outputs": [],
   "source": []
  },
  {
   "cell_type": "code",
   "execution_count": 39,
   "id": "cf1e2e42",
   "metadata": {},
   "outputs": [
    {
     "ename": "SyntaxError",
     "evalue": "invalid syntax (1492987263.py, line 1)",
     "output_type": "error",
     "traceback": [
      "\u001b[1;36m  File \u001b[1;32m\"C:\\Users\\USER\\AppData\\Local\\Temp\\ipykernel_5040\\1492987263.py\"\u001b[1;36m, line \u001b[1;32m1\u001b[0m\n\u001b[1;33m    class=14\u001b[0m\n\u001b[1;37m         ^\u001b[0m\n\u001b[1;31mSyntaxError\u001b[0m\u001b[1;31m:\u001b[0m invalid syntax\n"
     ]
    }
   ],
   "source": [
    "class=14\n",
    "print(class)\n",
    "# first should start with captil letter#b"
   ]
  },
  {
   "cell_type": "code",
   "execution_count": 40,
   "id": "996e3b95",
   "metadata": {},
   "outputs": [
    {
     "ename": "NameError",
     "evalue": "name 'PRINT' is not defined",
     "output_type": "error",
     "traceback": [
      "\u001b[1;31m---------------------------------------------------------------------------\u001b[0m",
      "\u001b[1;31mNameError\u001b[0m                                 Traceback (most recent call last)",
      "\u001b[1;32m~\\AppData\\Local\\Temp\\ipykernel_5040\\337533769.py\u001b[0m in \u001b[0;36m<module>\u001b[1;34m\u001b[0m\n\u001b[0;32m      1\u001b[0m \u001b[0mDEF\u001b[0m\u001b[1;33m=\u001b[0m\u001b[1;36m13\u001b[0m\u001b[1;33m\u001b[0m\u001b[1;33m\u001b[0m\u001b[0m\n\u001b[1;32m----> 2\u001b[1;33m \u001b[0mPRINT\u001b[0m\u001b[1;33m(\u001b[0m\u001b[0mDEF\u001b[0m\u001b[1;33m)\u001b[0m\u001b[1;33m\u001b[0m\u001b[1;33m\u001b[0m\u001b[0m\n\u001b[0m",
      "\u001b[1;31mNameError\u001b[0m: name 'PRINT' is not defined"
     ]
    }
   ],
   "source": [
    "DEF=13\n",
    "PRINT(DEF)\n",
    "# first should start with captil letter#c"
   ]
  },
  {
   "cell_type": "code",
   "execution_count": 41,
   "id": "9f576258",
   "metadata": {},
   "outputs": [
    {
     "ename": "NameError",
     "evalue": "name 'true' is not defined",
     "output_type": "error",
     "traceback": [
      "\u001b[1;31m---------------------------------------------------------------------------\u001b[0m",
      "\u001b[1;31mNameError\u001b[0m                                 Traceback (most recent call last)",
      "\u001b[1;32m~\\AppData\\Local\\Temp\\ipykernel_5040\\2290759365.py\u001b[0m in \u001b[0;36m<module>\u001b[1;34m\u001b[0m\n\u001b[1;32m----> 1\u001b[1;33m \u001b[0ma\u001b[0m\u001b[1;33m=\u001b[0m\u001b[0mtrue\u001b[0m\u001b[1;33m\u001b[0m\u001b[1;33m\u001b[0m\u001b[0m\n\u001b[0m\u001b[0;32m      2\u001b[0m \u001b[0mprint\u001b[0m\u001b[1;33m(\u001b[0m\u001b[0ma\u001b[0m\u001b[1;33m)\u001b[0m\u001b[1;33m\u001b[0m\u001b[1;33m\u001b[0m\u001b[0m\n",
      "\u001b[1;31mNameError\u001b[0m: name 'true' is not defined"
     ]
    }
   ],
   "source": [
    "a=true\n",
    "print(a)#d"
   ]
  },
  {
   "cell_type": "code",
   "execution_count": 42,
   "id": "af2f8cfd",
   "metadata": {},
   "outputs": [
    {
     "ename": "NameError",
     "evalue": "name 'false' is not defined",
     "output_type": "error",
     "traceback": [
      "\u001b[1;31m---------------------------------------------------------------------------\u001b[0m",
      "\u001b[1;31mNameError\u001b[0m                                 Traceback (most recent call last)",
      "\u001b[1;32m~\\AppData\\Local\\Temp\\ipykernel_5040\\958021175.py\u001b[0m in \u001b[0;36m<module>\u001b[1;34m\u001b[0m\n\u001b[1;32m----> 1\u001b[1;33m \u001b[0mb\u001b[0m\u001b[1;33m=\u001b[0m\u001b[0mfalse\u001b[0m\u001b[1;33m\u001b[0m\u001b[1;33m\u001b[0m\u001b[0m\n\u001b[0m\u001b[0;32m      2\u001b[0m \u001b[0mprint\u001b[0m\u001b[1;33m(\u001b[0m\u001b[0mfalse\u001b[0m\u001b[1;33m)\u001b[0m\u001b[1;33m\u001b[0m\u001b[1;33m\u001b[0m\u001b[0m\n",
      "\u001b[1;31mNameError\u001b[0m: name 'false' is not defined"
     ]
    }
   ],
   "source": [
    "b=false\n",
    "print(false)#e"
   ]
  },
  {
   "cell_type": "markdown",
   "id": "c1f1fe80",
   "metadata": {},
   "source": [
    "# pratice4"
   ]
  },
  {
   "cell_type": "code",
   "execution_count": 44,
   "id": "fee7ddfb",
   "metadata": {},
   "outputs": [
    {
     "name": "stdout",
     "output_type": "stream",
     "text": [
      "45.5\n",
      "<class 'float'>\n",
      "2284447465072\n"
     ]
    }
   ],
   "source": [
    "marks=45.5#marks assign float value#a\n",
    "print(marks)\n",
    "print(type(marks))\n",
    "print(id(marks))"
   ]
  },
  {
   "cell_type": "code",
   "execution_count": 45,
   "id": "18ff3065",
   "metadata": {},
   "outputs": [
    {
     "name": "stdout",
     "output_type": "stream",
     "text": [
      "35.6\n",
      "2284447464016\n",
      "<class 'float'>\n"
     ]
    }
   ],
   "source": [
    "marks=35.6#marks assign float value#b\n",
    "print(marks)\n",
    "print(id(marks))\n",
    "print(type(marks))"
   ]
  },
  {
   "cell_type": "code",
   "execution_count": null,
   "id": "2f7c8757",
   "metadata": {},
   "outputs": [],
   "source": []
  },
  {
   "cell_type": "markdown",
   "id": "4b33dce0",
   "metadata": {},
   "source": [
    "# pratice5"
   ]
  },
  {
   "cell_type": "code",
   "execution_count": 46,
   "id": "45ff3035",
   "metadata": {},
   "outputs": [
    {
     "name": "stdout",
     "output_type": "stream",
     "text": [
      "90.0\n"
     ]
    }
   ],
   "source": [
    "marks=45\n",
    "maxmarks=50\n",
    "print(marks/maxmarks*100)#marks/maxmarks *100 percentage farmula#a\n",
    "\n"
   ]
  },
  {
   "cell_type": "code",
   "execution_count": 7,
   "id": "bfa83b02",
   "metadata": {},
   "outputs": [
    {
     "name": "stdout",
     "output_type": "stream",
     "text": [
      "0.8979591836734694\n"
     ]
    }
   ],
   "source": [
    "m=88\n",
    "max=98\n",
    "print(m/max)"
   ]
  },
  {
   "cell_type": "code",
   "execution_count": 8,
   "id": "b8dbd6aa",
   "metadata": {},
   "outputs": [
    {
     "name": "stdout",
     "output_type": "stream",
     "text": [
      "shahid nazir\n"
     ]
    }
   ],
   "source": [
    "first='shahid'\n",
    "last='nazir'\n",
    "print(first+' '+last)"
   ]
  },
  {
   "cell_type": "code",
   "execution_count": 9,
   "id": "46079b7f",
   "metadata": {},
   "outputs": [
    {
     "name": "stdout",
     "output_type": "stream",
     "text": [
      "shahid nazir\n"
     ]
    }
   ],
   "source": [
    "first='shahid'\n",
    "last='nazir'\n",
    "print(first+' '+last)"
   ]
  },
  {
   "cell_type": "code",
   "execution_count": 48,
   "id": "7b5388a8",
   "metadata": {},
   "outputs": [
    {
     "name": "stdout",
     "output_type": "stream",
     "text": [
      "shahid nazir\n"
     ]
    }
   ],
   "source": [
    "first_name='shahid'\n",
    "last_name='nazir'\n",
    "print(first_name+' '+last_name)#concnatation#b"
   ]
  },
  {
   "cell_type": "code",
   "execution_count": 95,
   "id": "94ee5f1b",
   "metadata": {},
   "outputs": [
    {
     "name": "stdout",
     "output_type": "stream",
     "text": [
      "shahid   nazir\n"
     ]
    }
   ],
   "source": [
    "First_name='shahid'\n",
    "Last_name='nazir'\n",
    "print(first_name,' ',last_name)#c"
   ]
  },
  {
   "cell_type": "code",
   "execution_count": 4,
   "id": "c8551353",
   "metadata": {},
   "outputs": [
    {
     "name": "stdout",
     "output_type": "stream",
     "text": [
      "shahid bhat\n"
     ]
    }
   ],
   "source": [
    "g='shahid'\n",
    "n='bhat'\n",
    "print(g+' '+n)"
   ]
  },
  {
   "cell_type": "code",
   "execution_count": 99,
   "id": "958192bf",
   "metadata": {},
   "outputs": [
    {
     "name": "stdout",
     "output_type": "stream",
     "text": [
      "85.0 %\n"
     ]
    }
   ],
   "source": [
    "marks=85\n",
    "print((marks/100)*100,'%')"
   ]
  },
  {
   "cell_type": "code",
   "execution_count": 11,
   "id": "613b6e8f",
   "metadata": {},
   "outputs": [
    {
     "name": "stdout",
     "output_type": "stream",
     "text": [
      "98.0 %\n"
     ]
    }
   ],
   "source": [
    "marks=98\n",
    "print((marks/100)*100,'%')"
   ]
  },
  {
   "cell_type": "code",
   "execution_count": 13,
   "id": "6ce0de04",
   "metadata": {},
   "outputs": [
    {
     "name": "stdout",
     "output_type": "stream",
     "text": [
      "95.0 %\n"
     ]
    }
   ],
   "source": [
    "marks=95\n",
    "print((marks/100)*100,'%')"
   ]
  },
  {
   "cell_type": "code",
   "execution_count": 102,
   "id": "c0d93343",
   "metadata": {},
   "outputs": [
    {
     "name": "stdout",
     "output_type": "stream",
     "text": [
      "('shahid', ' ', 'nazir', 'scored', 0) %\n"
     ]
    }
   ],
   "source": [
    "print((First_name,' ',Last_name,\"scored\",int(marks/100)*100),'%')"
   ]
  },
  {
   "cell_type": "markdown",
   "id": "eb26d14b",
   "metadata": {},
   "source": [
    "# pratice6"
   ]
  },
  {
   "cell_type": "code",
   "execution_count": 52,
   "id": "060e313e",
   "metadata": {},
   "outputs": [
    {
     "name": "stdout",
     "output_type": "stream",
     "text": [
      "{1: 'shahid'}\n"
     ]
    }
   ],
   "source": [
    "roll_no={1:'shahid'}#dictionary created\n",
    "print(roll_no)"
   ]
  },
  {
   "cell_type": "code",
   "execution_count": 14,
   "id": "56d8a0da",
   "metadata": {},
   "outputs": [
    {
     "name": "stdout",
     "output_type": "stream",
     "text": [
      "{1: 'shahid'}\n"
     ]
    }
   ],
   "source": [
    "roll_no={1:'shahid'}\n",
    "print(roll_no)"
   ]
  },
  {
   "cell_type": "code",
   "execution_count": 60,
   "id": "9a410e94",
   "metadata": {},
   "outputs": [
    {
     "name": "stdout",
     "output_type": "stream",
     "text": [
      "[22, 'shahid', 50]\n"
     ]
    }
   ],
   "source": [
    "l=[22,'shahid',50]#list created\n",
    "print(l)"
   ]
  },
  {
   "cell_type": "code",
   "execution_count": 16,
   "id": "ec825c37",
   "metadata": {},
   "outputs": [
    {
     "name": "stdout",
     "output_type": "stream",
     "text": [
      "{1: 'shahid'}\n"
     ]
    }
   ],
   "source": [
    "s={1:'shahid'}\n",
    "print(s)"
   ]
  },
  {
   "cell_type": "markdown",
   "id": "92355a8f",
   "metadata": {},
   "source": [
    "# pratice7\n"
   ]
  },
  {
   "cell_type": "code",
   "execution_count": 62,
   "id": "0d7b362e",
   "metadata": {},
   "outputs": [
    {
     "ename": "TypeError",
     "evalue": "unsupported operand type(s) for +: 'int' and 'str'",
     "output_type": "error",
     "traceback": [
      "\u001b[1;31m---------------------------------------------------------------------------\u001b[0m",
      "\u001b[1;31mTypeError\u001b[0m                                 Traceback (most recent call last)",
      "\u001b[1;32m~\\AppData\\Local\\Temp\\ipykernel_5040\\1156707558.py\u001b[0m in \u001b[0;36m<module>\u001b[1;34m\u001b[0m\n\u001b[1;32m----> 1\u001b[1;33m \u001b[1;36m1\u001b[0m\u001b[1;33m+\u001b[0m\u001b[1;34m'2'\u001b[0m\u001b[1;33m\u001b[0m\u001b[1;33m\u001b[0m\u001b[0m\n\u001b[0m",
      "\u001b[1;31mTypeError\u001b[0m: unsupported operand type(s) for +: 'int' and 'str'"
     ]
    }
   ],
   "source": [
    "1+'2'#we cannot do arathmatic on string"
   ]
  },
  {
   "cell_type": "code",
   "execution_count": 63,
   "id": "b6343594",
   "metadata": {},
   "outputs": [
    {
     "data": {
      "text/plain": [
       "'12'"
      ]
     },
     "execution_count": 63,
     "metadata": {},
     "output_type": "execute_result"
    }
   ],
   "source": [
    "\"1\"+\"2\"#we cannot do arathmatic on string"
   ]
  },
  {
   "cell_type": "code",
   "execution_count": 64,
   "id": "165c12d7",
   "metadata": {},
   "outputs": [
    {
     "data": {
      "text/plain": [
       "0.5"
      ]
     },
     "execution_count": 64,
     "metadata": {},
     "output_type": "execute_result"
    }
   ],
   "source": [
    "1/2#we can do arathmatic on float"
   ]
  },
  {
   "cell_type": "code",
   "execution_count": 65,
   "id": "92650139",
   "metadata": {},
   "outputs": [
    {
     "data": {
      "text/plain": [
       "0"
      ]
     },
     "execution_count": 65,
     "metadata": {},
     "output_type": "execute_result"
    }
   ],
   "source": [
    "1//2#we can do arathmatic on int"
   ]
  },
  {
   "cell_type": "code",
   "execution_count": 11,
   "id": "35d8e329",
   "metadata": {},
   "outputs": [
    {
     "data": {
      "text/plain": [
       "0"
      ]
     },
     "execution_count": 11,
     "metadata": {},
     "output_type": "execute_result"
    }
   ],
   "source": [
    "1//2#we can do arathmatic on int"
   ]
  },
  {
   "cell_type": "markdown",
   "id": "1be6fbce",
   "metadata": {},
   "source": [
    "# pratice 7\n"
   ]
  },
  {
   "cell_type": "code",
   "execution_count": 57,
   "id": "ebfbc0b0",
   "metadata": {},
   "outputs": [
    {
     "data": {
      "text/plain": [
       "True"
      ]
     },
     "execution_count": 57,
     "metadata": {},
     "output_type": "execute_result"
    }
   ],
   "source": [
    "True and True#and returns true if both the statement are true"
   ]
  },
  {
   "cell_type": "code",
   "execution_count": 58,
   "id": "d9c52d6b",
   "metadata": {},
   "outputs": [
    {
     "data": {
      "text/plain": [
       "False"
      ]
     },
     "execution_count": 58,
     "metadata": {},
     "output_type": "execute_result"
    }
   ],
   "source": [
    "True and False#and returns true if both the statement are true"
   ]
  },
  {
   "cell_type": "code",
   "execution_count": 55,
   "id": "276e84e9",
   "metadata": {},
   "outputs": [
    {
     "data": {
      "text/plain": [
       "True"
      ]
     },
     "execution_count": 55,
     "metadata": {},
     "output_type": "execute_result"
    }
   ],
   "source": [
    "False or True#or returns true if one statement is true"
   ]
  },
  {
   "cell_type": "code",
   "execution_count": 54,
   "id": "bc619b3a",
   "metadata": {},
   "outputs": [
    {
     "data": {
      "text/plain": [
       "False"
      ]
     },
     "execution_count": 54,
     "metadata": {},
     "output_type": "execute_result"
    }
   ],
   "source": [
    "False or False#or returns true if one statement is true"
   ]
  },
  {
   "cell_type": "markdown",
   "id": "a1ad4aa3",
   "metadata": {},
   "source": []
  },
  {
   "cell_type": "markdown",
   "id": "b156c126",
   "metadata": {},
   "source": [
    "# pratice 9"
   ]
  },
  {
   "cell_type": "code",
   "execution_count": 44,
   "id": "0a109f95",
   "metadata": {},
   "outputs": [
    {
     "data": {
      "text/plain": [
       "True"
      ]
     },
     "execution_count": 44,
     "metadata": {},
     "output_type": "execute_result"
    }
   ],
   "source": [
    "\n",
    "first_name='shahid'\n",
    "full_name='shahid nazir bhat'\n",
    "full_name in full_name#in operator helps to find any name or value in other colums"
   ]
  },
  {
   "cell_type": "code",
   "execution_count": 40,
   "id": "bf9ff00e",
   "metadata": {},
   "outputs": [
    {
     "data": {
      "text/plain": [
       "False"
      ]
     },
     "execution_count": 40,
     "metadata": {},
     "output_type": "execute_result"
    }
   ],
   "source": [
    "first_name='shahid'\n",
    "full_name='shahid nazir bhat'\n",
    "first_name is full_name#is operator helps to find any name or value in other colums\n"
   ]
  },
  {
   "cell_type": "markdown",
   "id": "fd0e8207",
   "metadata": {},
   "source": [
    "# pratice 10"
   ]
  },
  {
   "cell_type": "code",
   "execution_count": 41,
   "id": "9f662e61",
   "metadata": {},
   "outputs": [
    {
     "name": "stdout",
     "output_type": "stream",
     "text": [
      "d: 66\n",
      "e: 1024\n"
     ]
    }
   ],
   "source": [
    "a=4\n",
    "b=3\n",
    "c=2\n",
    "d=a**b+c\n",
    "e=a**(b+c)\n",
    "print('d:',d)\n",
    "print('e:',e)"
   ]
  },
  {
   "cell_type": "code",
   "execution_count": 18,
   "id": "3037a82a",
   "metadata": {},
   "outputs": [
    {
     "name": "stdout",
     "output_type": "stream",
     "text": [
      "d: 5764807\n",
      "e: 678223072849\n"
     ]
    }
   ],
   "source": [
    "a=7\n",
    "b=8\n",
    "c=6\n",
    "d=a**b+c\n",
    "e=a**(b+c)\n",
    "print('d:',d)\n",
    "print('e:',e)"
   ]
  },
  {
   "cell_type": "markdown",
   "id": "3a7f4c1a",
   "metadata": {},
   "source": [
    "# pratice11"
   ]
  },
  {
   "cell_type": "code",
   "execution_count": 43,
   "id": "1bcf2804",
   "metadata": {},
   "outputs": [
    {
     "name": "stdout",
     "output_type": "stream",
     "text": [
      "113.03999999999999\n"
     ]
    }
   ],
   "source": [
    "area_of_circle=3.14*6*6#area of circle is 3.14*r^2\n",
    "print(area_of_circle)"
   ]
  },
  {
   "cell_type": "code",
   "execution_count": 21,
   "id": "ef0c84b5",
   "metadata": {},
   "outputs": [
    {
     "name": "stdout",
     "output_type": "stream",
     "text": [
      "113.03999999999999\n"
     ]
    }
   ],
   "source": [
    "are=3.14*6*6\n",
    "print(are)"
   ]
  },
  {
   "cell_type": "markdown",
   "id": "3c95e884",
   "metadata": {},
   "source": [
    "# pratice12"
   ]
  },
  {
   "cell_type": "code",
   "execution_count": 62,
   "id": "7f8fc920",
   "metadata": {},
   "outputs": [],
   "source": [
    "selling_price=85\n",
    "sales_tax=18/100\n"
   ]
  },
  {
   "cell_type": "code",
   "execution_count": 49,
   "id": "80433598",
   "metadata": {},
   "outputs": [
    {
     "name": "stdout",
     "output_type": "stream",
     "text": [
      "15.299999999999999\n"
     ]
    }
   ],
   "source": [
    "tax=selling_price*sales_tax\n",
    "print(tax)"
   ]
  },
  {
   "cell_type": "code",
   "execution_count": 65,
   "id": "9a4d7619",
   "metadata": {},
   "outputs": [
    {
     "name": "stdout",
     "output_type": "stream",
     "text": [
      "100.3\n"
     ]
    }
   ],
   "source": [
    "total_inclusive_tax=(selling_price+tax)\n",
    "print(total_inclusive_tax)"
   ]
  },
  {
   "cell_type": "markdown",
   "id": "ed33c597",
   "metadata": {},
   "source": [
    "# pratice13"
   ]
  },
  {
   "cell_type": "code",
   "execution_count": null,
   "id": "bd16f399",
   "metadata": {},
   "outputs": [],
   "source": [
    "_1dollar=75#1doller=75ruoees\n",
    "money=3333\n"
   ]
  },
  {
   "cell_type": "code",
   "execution_count": 64,
   "id": "6494fb80",
   "metadata": {},
   "outputs": [
    {
     "data": {
      "text/plain": [
       "44.44"
      ]
     },
     "execution_count": 64,
     "metadata": {},
     "output_type": "execute_result"
    }
   ],
   "source": [
    "3333/75"
   ]
  },
  {
   "cell_type": "markdown",
   "id": "ab602897",
   "metadata": {},
   "source": [
    "# pratice14"
   ]
  },
  {
   "cell_type": "code",
   "execution_count": 66,
   "id": "d6352dd8",
   "metadata": {},
   "outputs": [
    {
     "name": "stdout",
     "output_type": "stream",
     "text": [
      "467.2897196261682\n"
     ]
    }
   ],
   "source": [
    "inflation=7/100\n",
    "INR=500\n",
    "purchasing_power=INR*100/107\n",
    "print(purchasing_power)"
   ]
  },
  {
   "cell_type": "code",
   "execution_count": 22,
   "id": "5961a7cc",
   "metadata": {},
   "outputs": [
    {
     "name": "stdout",
     "output_type": "stream",
     "text": [
      "467.2897196261682\n"
     ]
    }
   ],
   "source": [
    "infalation=7/100\n",
    "inr=500\n",
    "purchasing_power=inr*100/107\n",
    "print(purchasing_power)"
   ]
  },
  {
   "cell_type": "code",
   "execution_count": 2,
   "id": "665a35d7",
   "metadata": {},
   "outputs": [
    {
     "data": {
      "text/plain": [
       "'sha'"
      ]
     },
     "execution_count": 2,
     "metadata": {},
     "output_type": "execute_result"
    }
   ],
   "source": [
    "word='shahid'\n",
    "word[:3]"
   ]
  },
  {
   "cell_type": "code",
   "execution_count": 6,
   "id": "2928cbda",
   "metadata": {},
   "outputs": [
    {
     "data": {
      "text/plain": [
       "[1, 45, 76, 87, 45]"
      ]
     },
     "execution_count": 6,
     "metadata": {},
     "output_type": "execute_result"
    }
   ],
   "source": [
    "l1=[1,45,76,87]\n",
    "l1.insert(87,45)\n",
    "l1"
   ]
  },
  {
   "cell_type": "code",
   "execution_count": 8,
   "id": "165dc573",
   "metadata": {},
   "outputs": [
    {
     "data": {
      "text/plain": [
       "[1, 45, 45]"
      ]
     },
     "execution_count": 8,
     "metadata": {},
     "output_type": "execute_result"
    }
   ],
   "source": [
    "l1.pop(2)\n",
    "l1"
   ]
  },
  {
   "cell_type": "code",
   "execution_count": 10,
   "id": "7a42b372",
   "metadata": {},
   "outputs": [
    {
     "data": {
      "text/plain": [
       "[1]"
      ]
     },
     "execution_count": 10,
     "metadata": {},
     "output_type": "execute_result"
    }
   ],
   "source": [
    "l1.remove(45)\n",
    "l1"
   ]
  },
  {
   "cell_type": "code",
   "execution_count": 5,
   "id": "78bf401c",
   "metadata": {},
   "outputs": [
    {
     "ename": "TypeError",
     "evalue": "unhashable type: 'list'",
     "output_type": "error",
     "traceback": [
      "\u001b[1;31m---------------------------------------------------------------------------\u001b[0m",
      "\u001b[1;31mTypeError\u001b[0m                                 Traceback (most recent call last)",
      "Cell \u001b[1;32mIn[5], line 1\u001b[0m\n\u001b[1;32m----> 1\u001b[0m a\u001b[38;5;241m=\u001b[39m{\u001b[38;5;124m\"\u001b[39m\u001b[38;5;124mname\u001b[39m\u001b[38;5;124m\"\u001b[39m,\u001b[38;5;124m\"\u001b[39m\u001b[38;5;124mharry\u001b[39m\u001b[38;5;124m\"\u001b[39m\n\u001b[0;32m      2\u001b[0m   \u001b[38;5;124m\"\u001b[39m\u001b[38;5;124mfrom\u001b[39m\u001b[38;5;124m\"\u001b[39m,\u001b[38;5;124m\"\u001b[39m\u001b[38;5;124mindia\u001b[39m\u001b[38;5;124m\"\u001b[39m\n\u001b[0;32m      3\u001b[0m   \u001b[38;5;124m\"\u001b[39m\u001b[38;5;124mmarks\u001b[39m\u001b[38;5;124m\"\u001b[39m,[\u001b[38;5;241m96\u001b[39m,\u001b[38;5;241m87\u001b[39m,\u001b[38;5;241m45\u001b[39m,\u001b[38;5;241m78\u001b[39m]}\n\u001b[0;32m      4\u001b[0m a\u001b[38;5;241m.\u001b[39miteam()\n",
      "\u001b[1;31mTypeError\u001b[0m: unhashable type: 'list'"
     ]
    }
   ],
   "source": [
    "a={\"name\",\"harry\"\n",
    "  \"from\",\"india\"\n",
    "  \"marks\",[96,87,45,78]}\n",
    "a.iteam()"
   ]
  },
  {
   "cell_type": "code",
   "execution_count": null,
   "id": "786a0080",
   "metadata": {},
   "outputs": [],
   "source": []
  },
  {
   "cell_type": "code",
   "execution_count": null,
   "id": "a30631bd",
   "metadata": {},
   "outputs": [],
   "source": []
  },
  {
   "cell_type": "code",
   "execution_count": null,
   "id": "2ccb2c6f",
   "metadata": {},
   "outputs": [],
   "source": []
  },
  {
   "cell_type": "code",
   "execution_count": null,
   "id": "49ca77e3",
   "metadata": {},
   "outputs": [],
   "source": []
  }
 ],
 "metadata": {
  "kernelspec": {
   "display_name": "Python 3 (ipykernel)",
   "language": "python",
   "name": "python3"
  },
  "language_info": {
   "codemirror_mode": {
    "name": "ipython",
    "version": 3
   },
   "file_extension": ".py",
   "mimetype": "text/x-python",
   "name": "python",
   "nbconvert_exporter": "python",
   "pygments_lexer": "ipython3",
   "version": "3.10.9"
  }
 },
 "nbformat": 4,
 "nbformat_minor": 5
}
