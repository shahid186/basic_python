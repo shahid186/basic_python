{
 "cells": [
  {
   "cell_type": "markdown",
   "id": "2e527dfd",
   "metadata": {},
   "source": [
    "# task 1"
   ]
  },
  {
   "cell_type": "code",
   "execution_count": 2,
   "id": "6723ef23",
   "metadata": {},
   "outputs": [
    {
     "name": "stdout",
     "output_type": "stream",
     "text": [
      "true\n"
     ]
    }
   ],
   "source": [
    "def  ispalendroma(s):\n",
    "    return s ==s[::-1]\n",
    "s= \"nitin\"\n",
    "ans= ispalendroma(s)\n",
    "if ans:\n",
    "    print(\"true\")\n",
    "else:\n",
    "    print(\"false\")"
   ]
  },
  {
   "cell_type": "code",
   "execution_count": 1,
   "id": "afd8edca",
   "metadata": {},
   "outputs": [
    {
     "name": "stdout",
     "output_type": "stream",
     "text": [
      "true\n"
     ]
    }
   ],
   "source": [
    "def ispalendroma(s):\n",
    "    return s==s[::-1]\n",
    "s=\"nitin\"\n",
    "ans=ispalendroma(s)\n",
    "if ans:\n",
    "    print('true')\n",
    "else:\n",
    "    print('false')\n",
    "        "
   ]
  },
  {
   "cell_type": "code",
   "execution_count": null,
   "id": "e23c0f67",
   "metadata": {},
   "outputs": [],
   "source": []
  },
  {
   "cell_type": "code",
   "execution_count": 3,
   "id": "c0ed3337",
   "metadata": {},
   "outputs": [
    {
     "name": "stdout",
     "output_type": "stream",
     "text": [
      "true\n"
     ]
    }
   ],
   "source": [
    "def ispalendroma(s):\n",
    "    return s==s[::-1]\n",
    "s='nitin'\n",
    "ans=ispalendroma(s)\n",
    "if ans:\n",
    "    print('true')\n",
    "else:\n",
    "    print('false')"
   ]
  },
  {
   "cell_type": "code",
   "execution_count": 2,
   "id": "5cbc8a42",
   "metadata": {},
   "outputs": [],
   "source": [
    "b='danish'"
   ]
  },
  {
   "cell_type": "code",
   "execution_count": 3,
   "id": "275b06ad",
   "metadata": {},
   "outputs": [
    {
     "data": {
      "text/plain": [
       "False"
      ]
     },
     "execution_count": 3,
     "metadata": {},
     "output_type": "execute_result"
    }
   ],
   "source": [
    "ispalendroma(b)"
   ]
  },
  {
   "cell_type": "code",
   "execution_count": null,
   "id": "4f332cc3",
   "metadata": {},
   "outputs": [],
   "source": []
  },
  {
   "cell_type": "code",
   "execution_count": 5,
   "id": "f881cafe",
   "metadata": {},
   "outputs": [
    {
     "data": {
      "text/plain": [
       "True"
      ]
     },
     "execution_count": 5,
     "metadata": {},
     "output_type": "execute_result"
    }
   ],
   "source": [
    "ispalendroma(s)"
   ]
  },
  {
   "cell_type": "code",
   "execution_count": 26,
   "id": "79054570",
   "metadata": {},
   "outputs": [
    {
     "name": "stdout",
     "output_type": "stream",
     "text": [
      "false\n"
     ]
    }
   ],
   "source": [
    "def ispalendrom(c):\n",
    "    return s==s[::-1]\n",
    "c='nitin'\n",
    "a=ispalendrom(c)\n",
    "if a:\n",
    "    print('true')\n",
    "else:\n",
    "    print('false')\n",
    "\n"
   ]
  },
  {
   "cell_type": "code",
   "execution_count": 4,
   "id": "2882d3a2",
   "metadata": {},
   "outputs": [
    {
     "data": {
      "text/plain": [
       "[23, 45, 45, 76, 87, 90]"
      ]
     },
     "execution_count": 4,
     "metadata": {},
     "output_type": "execute_result"
    }
   ],
   "source": [
    "s=[45,87,76,45,23,90]\n",
    "s.sort()\n",
    "s"
   ]
  },
  {
   "cell_type": "code",
   "execution_count": 7,
   "id": "48594418",
   "metadata": {},
   "outputs": [
    {
     "data": {
      "text/plain": [
       "[22, 234, 543, 678, 788, 2344, 4443, 23246]"
      ]
     },
     "execution_count": 7,
     "metadata": {},
     "output_type": "execute_result"
    }
   ],
   "source": [
    "m=[22,234,678,543,23246,788,4443,2344]\n",
    "m.sort()\n",
    "m"
   ]
  },
  {
   "cell_type": "code",
   "execution_count": 10,
   "id": "cacfadda",
   "metadata": {},
   "outputs": [
    {
     "data": {
      "text/plain": [
       "788"
      ]
     },
     "execution_count": 10,
     "metadata": {},
     "output_type": "execute_result"
    }
   ],
   "source": [
    "m.pop()"
   ]
  },
  {
   "cell_type": "code",
   "execution_count": 11,
   "id": "d140d85e",
   "metadata": {},
   "outputs": [
    {
     "data": {
      "text/plain": [
       "[22, 543, 678, 2344, 4443, 23246]"
      ]
     },
     "execution_count": 11,
     "metadata": {},
     "output_type": "execute_result"
    }
   ],
   "source": [
    "m"
   ]
  },
  {
   "cell_type": "code",
   "execution_count": null,
   "id": "a74283d3",
   "metadata": {},
   "outputs": [],
   "source": []
  },
  {
   "cell_type": "code",
   "execution_count": 5,
   "id": "124a709f",
   "metadata": {},
   "outputs": [
    {
     "name": "stdout",
     "output_type": "stream",
     "text": [
      "[7, 8, 23, 34, 34, 45, 56, 98, 244, 567]\n"
     ]
    }
   ],
   "source": [
    "s=[34,23,45,7,8,244,56,34,567,98]\n",
    "s.sort()\n",
    "print(s)"
   ]
  },
  {
   "cell_type": "code",
   "execution_count": null,
   "id": "149ab7d7",
   "metadata": {},
   "outputs": [],
   "source": []
  },
  {
   "cell_type": "code",
   "execution_count": 18,
   "id": "42f54476",
   "metadata": {},
   "outputs": [
    {
     "data": {
      "text/plain": [
       "[23, 45, 45, 76, 87, 90, 8, 8]"
      ]
     },
     "execution_count": 18,
     "metadata": {},
     "output_type": "execute_result"
    }
   ],
   "source": [
    "s.append(8)\n",
    "s"
   ]
  },
  {
   "cell_type": "code",
   "execution_count": 21,
   "id": "9c982935",
   "metadata": {},
   "outputs": [
    {
     "data": {
      "text/plain": [
       "[23, 76, 87, 90, 8, 8]"
      ]
     },
     "execution_count": 21,
     "metadata": {},
     "output_type": "execute_result"
    }
   ],
   "source": [
    "s.pop(1)\n",
    "s"
   ]
  },
  {
   "cell_type": "code",
   "execution_count": 23,
   "id": "3b79c20c",
   "metadata": {},
   "outputs": [
    {
     "ename": "ValueError",
     "evalue": "list.remove(x): x not in list",
     "output_type": "error",
     "traceback": [
      "\u001b[1;31m---------------------------------------------------------------------------\u001b[0m",
      "\u001b[1;31mValueError\u001b[0m                                Traceback (most recent call last)",
      "Cell \u001b[1;32mIn[23], line 1\u001b[0m\n\u001b[1;32m----> 1\u001b[0m \u001b[43ms\u001b[49m\u001b[38;5;241;43m.\u001b[39;49m\u001b[43mremove\u001b[49m\u001b[43m(\u001b[49m\u001b[38;5;241;43m90\u001b[39;49m\u001b[43m)\u001b[49m\n\u001b[0;32m      2\u001b[0m s\n",
      "\u001b[1;31mValueError\u001b[0m: list.remove(x): x not in list"
     ]
    }
   ],
   "source": [
    "s.remove(90)\n"
   ]
  },
  {
   "cell_type": "code",
   "execution_count": 24,
   "id": "f9d9bcd5",
   "metadata": {},
   "outputs": [
    {
     "data": {
      "text/plain": [
       "[23, 76, 87, 8, 8]"
      ]
     },
     "execution_count": 24,
     "metadata": {},
     "output_type": "execute_result"
    }
   ],
   "source": [
    "s"
   ]
  },
  {
   "cell_type": "code",
   "execution_count": null,
   "id": "c7599649",
   "metadata": {},
   "outputs": [],
   "source": [
    "def is palendrome(x):\n",
    "    return x==x[::-1]\n",
    "s='nitin'\n",
    "ans=ispalendrome(s)\n"
   ]
  },
  {
   "cell_type": "code",
   "execution_count": null,
   "id": "6b9a27ef",
   "metadata": {},
   "outputs": [],
   "source": []
  },
  {
   "cell_type": "code",
   "execution_count": 3,
   "id": "bdaca95a",
   "metadata": {},
   "outputs": [
    {
     "name": "stdout",
     "output_type": "stream",
     "text": [
      "true\n"
     ]
    }
   ],
   "source": [
    "def ispalendrome(s):\n",
    "    return s==s[::-1]\n",
    "s='nitin'\n",
    "if s:\n",
    "    print('true')\n",
    "else:\n",
    "    print(false)"
   ]
  },
  {
   "cell_type": "code",
   "execution_count": null,
   "id": "faf4aa0f",
   "metadata": {},
   "outputs": [],
   "source": [
    "n=int(input('enter '))\n",
    "for i in range(n)"
   ]
  },
  {
   "cell_type": "code",
   "execution_count": 1,
   "id": "a86c6dc0",
   "metadata": {},
   "outputs": [
    {
     "name": "stdout",
     "output_type": "stream",
     "text": [
      "true\n"
     ]
    }
   ],
   "source": [
    "def ispalendrome(s):\n",
    "    return s==s[::-1]\n",
    "s='nitin'\n",
    "d=ispalendrome(s)\n",
    "if d:\n",
    "    print('true')\n",
    "else:\n",
    "    print('false')\n",
    "    \n",
    "    "
   ]
  },
  {
   "cell_type": "code",
   "execution_count": 7,
   "id": "bcb76fa5",
   "metadata": {},
   "outputs": [
    {
     "name": "stdout",
     "output_type": "stream",
     "text": [
      "true\n"
     ]
    }
   ],
   "source": [
    "def ispalendrome(s):\n",
    "    return s==s[::-1]\n",
    "s='shahid'\n",
    "anas=ispalendroma(s)\n",
    "if ans:\n",
    "    print('true')\n",
    "else:\n",
    "    print('false')"
   ]
  },
  {
   "cell_type": "code",
   "execution_count": 4,
   "id": "6e16bbd3",
   "metadata": {},
   "outputs": [
    {
     "name": "stdout",
     "output_type": "stream",
     "text": [
      "true\n"
     ]
    }
   ],
   "source": [
    "def ispalendroma(s):\n",
    "    return s==s[::-1]\n",
    "s='nitin'\n",
    "ana=ispalendroma(s)\n",
    "if ans:\n",
    "    print('true')\n",
    "else:\n",
    "    print('false')"
   ]
  },
  {
   "cell_type": "code",
   "execution_count": 3,
   "id": "43adc794",
   "metadata": {},
   "outputs": [
    {
     "name": "stdout",
     "output_type": "stream",
     "text": [
      "true\n"
     ]
    }
   ],
   "source": [
    "def ispalendroma(s):\n",
    "    return s==s[::-1]\n",
    "s='nitin'\n",
    "ans=ispalendroma(s)\n",
    "if ans:\n",
    "    print('true')\n",
    "else:\n",
    "    print('false')"
   ]
  },
  {
   "cell_type": "markdown",
   "id": "3d47d479",
   "metadata": {},
   "source": [
    "# task 2"
   ]
  },
  {
   "cell_type": "code",
   "execution_count": 13,
   "id": "edcc1fcf",
   "metadata": {},
   "outputs": [],
   "source": [
    "def func (x,y):\n",
    "    sum=x+y"
   ]
  },
  {
   "cell_type": "code",
   "execution_count": 27,
   "id": "2e2e7995",
   "metadata": {},
   "outputs": [],
   "source": [
    "def func (x,y):\n",
    "    sum=x+y"
   ]
  },
  {
   "cell_type": "code",
   "execution_count": 30,
   "id": "2cd035f5",
   "metadata": {},
   "outputs": [],
   "source": [
    "def func(x):\n",
    "    return sorted(x)\n"
   ]
  },
  {
   "cell_type": "code",
   "execution_count": 12,
   "id": "2e57336c",
   "metadata": {},
   "outputs": [
    {
     "name": "stdout",
     "output_type": "stream",
     "text": [
      "enter the valueshahid\n"
     ]
    },
    {
     "ename": "NameError",
     "evalue": "name 'func' is not defined",
     "output_type": "error",
     "traceback": [
      "\u001b[1;31m---------------------------------------------------------------------------\u001b[0m",
      "\u001b[1;31mNameError\u001b[0m                                 Traceback (most recent call last)",
      "Cell \u001b[1;32mIn[12], line 2\u001b[0m\n\u001b[0;32m      1\u001b[0m x\u001b[38;5;241m=\u001b[39m\u001b[38;5;28minput\u001b[39m(\u001b[38;5;124m'\u001b[39m\u001b[38;5;124menter the value\u001b[39m\u001b[38;5;124m'\u001b[39m)\n\u001b[1;32m----> 2\u001b[0m \u001b[43mfunc\u001b[49m(x\u001b[38;5;241m.\u001b[39mlower())\n",
      "\u001b[1;31mNameError\u001b[0m: name 'func' is not defined"
     ]
    }
   ],
   "source": [
    "x=input('enter the value')\n",
    "func(x.lower())"
   ]
  },
  {
   "cell_type": "code",
   "execution_count": 14,
   "id": "98c9d667",
   "metadata": {},
   "outputs": [
    {
     "name": "stdout",
     "output_type": "stream",
     "text": [
      "enter stringshahid\n"
     ]
    },
    {
     "ename": "TypeError",
     "evalue": "func() missing 1 required positional argument: 'y'",
     "output_type": "error",
     "traceback": [
      "\u001b[1;31m---------------------------------------------------------------------------\u001b[0m",
      "\u001b[1;31mTypeError\u001b[0m                                 Traceback (most recent call last)",
      "Cell \u001b[1;32mIn[14], line 2\u001b[0m\n\u001b[0;32m      1\u001b[0m x\u001b[38;5;241m=\u001b[39m\u001b[38;5;28minput\u001b[39m(\u001b[38;5;124m\"\u001b[39m\u001b[38;5;124menter string\u001b[39m\u001b[38;5;124m\"\u001b[39m)\n\u001b[1;32m----> 2\u001b[0m \u001b[43mfunc\u001b[49m\u001b[43m(\u001b[49m\u001b[43mx\u001b[49m\u001b[38;5;241;43m.\u001b[39;49m\u001b[43mlower\u001b[49m\u001b[43m(\u001b[49m\u001b[43m)\u001b[49m\u001b[43m)\u001b[49m\n",
      "\u001b[1;31mTypeError\u001b[0m: func() missing 1 required positional argument: 'y'"
     ]
    }
   ],
   "source": [
    "x=input(\"enter string\")\n",
    "func(x.lower())"
   ]
  },
  {
   "cell_type": "markdown",
   "id": "6ba08158",
   "metadata": {},
   "source": [
    "# task 3"
   ]
  },
  {
   "cell_type": "code",
   "execution_count": 22,
   "id": "0e60b6f5",
   "metadata": {
    "scrolled": true
   },
   "outputs": [
    {
     "name": "stdout",
     "output_type": "stream",
     "text": [
      "shahid\n"
     ]
    }
   ],
   "source": [
    "import functools\n",
    "def convert(s):\n",
    "    str1=functools.reduce(lambda x,y:x+y,s)\n",
    "    \n",
    "    return str1\n",
    "s = ['s','h','a','h','i','d']\n",
    "print(convert(s))"
   ]
  },
  {
   "cell_type": "markdown",
   "id": "9f8398de",
   "metadata": {},
   "source": [
    "# task 4"
   ]
  },
  {
   "cell_type": "code",
   "execution_count": 55,
   "id": "bae24856",
   "metadata": {},
   "outputs": [],
   "source": [
    "def max_min():\n",
    "    n=[1,2,3,4,5]\n",
    "    print(\"smallest number:\",min(n))\n",
    "    print(\"largest number:\",max(n))\n",
    "   "
   ]
  },
  {
   "cell_type": "code",
   "execution_count": 8,
   "id": "5fc546b3",
   "metadata": {},
   "outputs": [],
   "source": [
    "def min_max():\n",
    "    n=[1,2,56,78,56]\n",
    "    print('smalest no :',min(n))\n",
    "    print('larhe no:',max(n))"
   ]
  },
  {
   "cell_type": "code",
   "execution_count": 9,
   "id": "c88167cf",
   "metadata": {},
   "outputs": [
    {
     "name": "stdout",
     "output_type": "stream",
     "text": [
      "smalest no : 1\n",
      "larhe no: 78\n"
     ]
    }
   ],
   "source": [
    "min_max()"
   ]
  },
  {
   "cell_type": "code",
   "execution_count": 2,
   "id": "88eb6927",
   "metadata": {},
   "outputs": [],
   "source": [
    "def min_max():\n",
    "    n=[1,4,67,3,434,4]\n",
    "    print('smallest no',min(n))\n",
    "    print('largest number',max(n))"
   ]
  },
  {
   "cell_type": "code",
   "execution_count": 3,
   "id": "ad829bad",
   "metadata": {},
   "outputs": [
    {
     "name": "stdout",
     "output_type": "stream",
     "text": [
      "smallest no 1\n",
      "largest number 434\n"
     ]
    }
   ],
   "source": [
    "min_max()"
   ]
  },
  {
   "cell_type": "code",
   "execution_count": 56,
   "id": "d844b9c5",
   "metadata": {},
   "outputs": [
    {
     "name": "stdout",
     "output_type": "stream",
     "text": [
      "smallest number: 1\n",
      "largest number: 5\n"
     ]
    }
   ],
   "source": [
    "max_min()"
   ]
  },
  {
   "cell_type": "markdown",
   "id": "11ae8929",
   "metadata": {},
   "source": [
    "# task 5"
   ]
  },
  {
   "cell_type": "code",
   "execution_count": 10,
   "id": "065a1532",
   "metadata": {},
   "outputs": [
    {
     "name": "stdout",
     "output_type": "stream",
     "text": [
      "49.89\n",
      "29\n"
     ]
    }
   ],
   "source": [
    "d={\"iteam1\":45.50,\"iteam2\":35,\"iteam3\":41.30,\"iteam4\":29,\"iteam5\":49.89}\n",
    "print(max(d.values()))\n",
    "print(min(d.values()))\n"
   ]
  },
  {
   "cell_type": "code",
   "execution_count": 12,
   "id": "654a341d",
   "metadata": {},
   "outputs": [
    {
     "name": "stdout",
     "output_type": "stream",
     "text": [
      "45\n"
     ]
    }
   ],
   "source": [
    "d={'iteams':45,'iteam2':988,\"itema6\":45}\n",
    "print(min(d.values()))"
   ]
  },
  {
   "cell_type": "code",
   "execution_count": null,
   "id": "566c384e",
   "metadata": {},
   "outputs": [],
   "source": []
  },
  {
   "cell_type": "code",
   "execution_count": null,
   "id": "53c97cf7",
   "metadata": {},
   "outputs": [],
   "source": []
  },
  {
   "cell_type": "code",
   "execution_count": null,
   "id": "66c1c253",
   "metadata": {},
   "outputs": [],
   "source": []
  },
  {
   "cell_type": "markdown",
   "id": "96afad8e",
   "metadata": {},
   "source": [
    "# task 6"
   ]
  },
  {
   "cell_type": "code",
   "execution_count": 16,
   "id": "fb7f60c5",
   "metadata": {},
   "outputs": [],
   "source": [
    "a= ['shahid','40','male']\n",
    "def xy():\n",
    "    x=['name','age','gender']\n",
    "        print(x)\n",
    "    print(a)"
   ]
  },
  {
   "cell_type": "code",
   "execution_count": null,
   "id": "d386e7f1",
   "metadata": {},
   "outputs": [],
   "source": [
    "def ax():\n",
    "print(x)\n",
    "print(a)    "
   ]
  },
  {
   "cell_type": "code",
   "execution_count": 17,
   "id": "9d892108",
   "metadata": {},
   "outputs": [
    {
     "name": "stdout",
     "output_type": "stream",
     "text": [
      "['name', 'age', 'gender']\n",
      "['shahid', '40', 'male']\n"
     ]
    }
   ],
   "source": [
    "xy()"
   ]
  },
  {
   "cell_type": "markdown",
   "id": "cb158f42",
   "metadata": {},
   "source": [
    "# task 7"
   ]
  },
  {
   "cell_type": "code",
   "execution_count": 12,
   "id": "2cd2d1fc",
   "metadata": {},
   "outputs": [],
   "source": [
    "def  outer_fun():\n",
    "    x =int(input('enter a values of x: '))\n",
    "    y =int(input('enter avalues of y: '))\n",
    "    def inner_function(x,y):\n",
    "        return x**2*y\n",
    "    result = inner_function (x,y)\n",
    "    print ('result: ',result)\n",
    "    \n",
    "    "
   ]
  },
  {
   "cell_type": "code",
   "execution_count": 13,
   "id": "5f5df06f",
   "metadata": {},
   "outputs": [
    {
     "name": "stdout",
     "output_type": "stream",
     "text": [
      "enter a values of x: 6\n",
      "enter avalues of y: 7\n",
      "result:  252\n"
     ]
    }
   ],
   "source": [
    "outer_fun()"
   ]
  },
  {
   "cell_type": "code",
   "execution_count": null,
   "id": "51d66eb2",
   "metadata": {},
   "outputs": [],
   "source": []
  },
  {
   "cell_type": "markdown",
   "id": "a5ed75a0",
   "metadata": {},
   "source": [
    "# task 8"
   ]
  },
  {
   "cell_type": "code",
   "execution_count": 57,
   "id": "bea4b8fd",
   "metadata": {},
   "outputs": [
    {
     "name": "stdout",
     "output_type": "stream",
     "text": [
      "[('green', 1), ('blue', 2), ('yellow', 3), ('black', 4), ('red', 5)]\n"
     ]
    }
   ],
   "source": [
    "\n",
    "colour=[('black',4),('green',1),('red',5),('blue',2),('yellow',3)]\n",
    "colour2=dict(colour)\n",
    "print(sorted(colour2.items(),key=lambda x:x[1]))\n"
   ]
  },
  {
   "cell_type": "code",
   "execution_count": null,
   "id": "807b98af",
   "metadata": {},
   "outputs": [],
   "source": [
    "num=int(input(;enter the name))\n",
    "for i in range(1,11):\n",
    "    print(num,'x',i,,)\n"
   ]
  },
  {
   "cell_type": "code",
   "execution_count": null,
   "id": "c79307f2",
   "metadata": {},
   "outputs": [],
   "source": []
  },
  {
   "cell_type": "code",
   "execution_count": null,
   "id": "c9fb2406",
   "metadata": {},
   "outputs": [],
   "source": [
    "num=int(input('display  table'))\n",
    "for i in range(1,11):\n",
    "    print(num,\"x\",i,\"=\",num*i)\n"
   ]
  },
  {
   "cell_type": "code",
   "execution_count": 13,
   "id": "e6cc4520",
   "metadata": {},
   "outputs": [
    {
     "name": "stdout",
     "output_type": "stream",
     "text": [
      "['as', 'jk', 'hjj', 'pop']\n",
      "['he', 'jk', 'hf', 'us']\n",
      "['jk']\n"
     ]
    }
   ],
   "source": [
    "m=['as','jk','hjj','pop']\n",
    "n=['he','jk','hf','us']\n",
    "print(m)\n",
    "print(n)\n",
    "result=list(filter(lambda x:x in m,n))\n",
    "print(result)"
   ]
  },
  {
   "cell_type": "code",
   "execution_count": 13,
   "id": "d5eb63a5",
   "metadata": {},
   "outputs": [
    {
     "name": "stdout",
     "output_type": "stream",
     "text": [
      "['shahid', 'irtiza', 'sih', 'itl']\n",
      "['jk', 'df', 'gh', 'de']\n",
      "[]\n"
     ]
    }
   ],
   "source": [
    "m=['shahid','irtiza','sih','itl']\n",
    "n=['jk','df','gh','de']\n",
    "print(m)\n",
    "print(n)\n",
    "result=list(filter(lambda x:x in m,n))\n",
    "print(result)"
   ]
  },
  {
   "cell_type": "code",
   "execution_count": null,
   "id": "baee8180",
   "metadata": {},
   "outputs": [],
   "source": []
  },
  {
   "cell_type": "code",
   "execution_count": null,
   "id": "e62b399b",
   "metadata": {},
   "outputs": [],
   "source": []
  },
  {
   "cell_type": "code",
   "execution_count": null,
   "id": "91f798d0",
   "metadata": {},
   "outputs": [],
   "source": []
  },
  {
   "cell_type": "code",
   "execution_count": null,
   "id": "95b9060a",
   "metadata": {},
   "outputs": [],
   "source": []
  },
  {
   "cell_type": "code",
   "execution_count": null,
   "id": "aa897f4b",
   "metadata": {},
   "outputs": [],
   "source": []
  },
  {
   "cell_type": "markdown",
   "id": "508238e2",
   "metadata": {},
   "source": [
    "# task 9"
   ]
  },
  {
   "cell_type": "code",
   "execution_count": 6,
   "id": "b5977f7a",
   "metadata": {},
   "outputs": [
    {
     "name": "stdout",
     "output_type": "stream",
     "text": [
      "['shahid', 'irtiza', 'junaid']\n",
      "['princy', 'abu', 'shahid']\n",
      "['shahid']\n"
     ]
    }
   ],
   "source": [
    "m=['shahid','irtiza','junaid']\n",
    "n=['princy','abu','shahid']\n",
    "print(m)\n",
    "print(n)\n",
    "result=list(filter(lambda x:x in m,n))\n",
    "print(result)"
   ]
  },
  {
   "cell_type": "code",
   "execution_count": 20,
   "id": "8ec06509",
   "metadata": {},
   "outputs": [
    {
     "name": "stdout",
     "output_type": "stream",
     "text": [
      "['shahid', 'mohsin', 'irtiza']\n",
      "['shahid', 'loves', 'irtiza']\n"
     ]
    }
   ],
   "source": [
    "m=['shahid','mohsin','irtiza']\n",
    "n=['shahid','loves','irtiza']\n",
    "print(m)\n",
    "print(n)\n",
    "print=list(filter(lambda x:x in m,n))"
   ]
  },
  {
   "cell_type": "code",
   "execution_count": 19,
   "id": "8b7b7d04",
   "metadata": {},
   "outputs": [
    {
     "name": "stdout",
     "output_type": "stream",
     "text": [
      "orgain arry:\n",
      "['andy', 'mady', 'sandy']\n",
      "['handy', 'brandy', 'mady']\n",
      "\n",
      "intersection of the arry: ['mady']\n"
     ]
    }
   ],
   "source": [
    "a=[\"andy\",\"mady\",\"sandy\"]\n",
    "b=[\"handy\",\"brandy\",\"mady\"]\n",
    "print(\"orgain arry:\")\n",
    "print(a)\n",
    "print(b)\n",
    "reasult=list(filter(lambda x:x in a,b))\n",
    "print(\"\\nintersection of the arry:\",reasult)"
   ]
  },
  {
   "cell_type": "markdown",
   "id": "43fc193c",
   "metadata": {},
   "source": [
    "# task 10"
   ]
  },
  {
   "cell_type": "code",
   "execution_count": 19,
   "id": "7c963184",
   "metadata": {},
   "outputs": [
    {
     "name": "stdout",
     "output_type": "stream",
     "text": [
      "orgain arry:\n",
      "[12, 1, 14]\n",
      "[17, 16, 15]\n",
      "\n",
      "reasult:after adding two list\n",
      "[29, 17, 29]\n"
     ]
    }
   ],
   "source": [
    "c=[12,1,14]\n",
    "d=[17,16,15]\n",
    "print(\"orgain arry:\")\n",
    "print(c)\n",
    "print(d)\n",
    "reasult=map(lambda x,y:x+y, c,d)\n",
    "print(\"\\nreasult:after adding two list\")\n",
    "print(list(reasult))"
   ]
  },
  {
   "cell_type": "code",
   "execution_count": null,
   "id": "0875ff72",
   "metadata": {},
   "outputs": [],
   "source": []
  },
  {
   "cell_type": "code",
   "execution_count": 14,
   "id": "68d4f7f0",
   "metadata": {},
   "outputs": [
    {
     "name": "stdout",
     "output_type": "stream",
     "text": [
      "[12, 23, 56]\n",
      "[56, 78, 87]\n",
      "[68, 101, 143]\n"
     ]
    }
   ],
   "source": [
    "c=[12,23,56]\n",
    "d=[56,78,87]\n",
    "print(c)\n",
    "print(d)\n",
    "result=map(lambda x,y:x+y,c,d)\n",
    "print(list(result))"
   ]
  },
  {
   "cell_type": "code",
   "execution_count": 15,
   "id": "0cb9d100",
   "metadata": {},
   "outputs": [
    {
     "name": "stdout",
     "output_type": "stream",
     "text": [
      "[12, 34, 56, 33]\n",
      "[45, 66, 78, 98]\n",
      "[57, 100, 134, 131]\n"
     ]
    }
   ],
   "source": [
    "c=[12,34,56,33]\n",
    "v=[45,66,78,98]\n",
    "print(c)\n",
    "print(v)\n",
    "result=map(lambda x,y:x+y,c,v)\n",
    "print(list(result))"
   ]
  },
  {
   "cell_type": "code",
   "execution_count": 17,
   "id": "b7ad4c5b",
   "metadata": {},
   "outputs": [
    {
     "name": "stdout",
     "output_type": "stream",
     "text": [
      "[8, 56, 78, 98]\n",
      "[56, 45, 34, 87]\n",
      "<map object at 0x000001D34C082590>\n"
     ]
    }
   ],
   "source": [
    "c=[8,56,78,98]\n",
    "m=[56,45,34,87]\n",
    "print(c)\n",
    "print(m)\n",
    "result=map(lambda x,y:x+y,c,m)\n",
    "print(result)"
   ]
  },
  {
   "cell_type": "code",
   "execution_count": null,
   "id": "5d733c64",
   "metadata": {},
   "outputs": [],
   "source": []
  },
  {
   "cell_type": "code",
   "execution_count": null,
   "id": "12f11995",
   "metadata": {},
   "outputs": [],
   "source": []
  },
  {
   "cell_type": "code",
   "execution_count": null,
   "id": "27ec5ed2",
   "metadata": {},
   "outputs": [],
   "source": []
  },
  {
   "cell_type": "code",
   "execution_count": 11,
   "id": "85231921",
   "metadata": {},
   "outputs": [
    {
     "name": "stdout",
     "output_type": "stream",
     "text": [
      "[13, 1, 16]\n",
      "[17, 16, 15]\n",
      "[30, 17, 31]\n"
     ]
    }
   ],
   "source": [
    "c=[13,1,16]\n",
    "d=[17,16,15]\n",
    "print(c)\n",
    "print(d)\n",
    "result=map(lambda x,y:x+y ,c,d)\n",
    "print(list(result))"
   ]
  }
 ],
 "metadata": {
  "kernelspec": {
   "display_name": "Python 3 (ipykernel)",
   "language": "python",
   "name": "python3"
  },
  "language_info": {
   "codemirror_mode": {
    "name": "ipython",
    "version": 3
   },
   "file_extension": ".py",
   "mimetype": "text/x-python",
   "name": "python",
   "nbconvert_exporter": "python",
   "pygments_lexer": "ipython3",
   "version": "3.10.9"
  }
 },
 "nbformat": 4,
 "nbformat_minor": 5
}
