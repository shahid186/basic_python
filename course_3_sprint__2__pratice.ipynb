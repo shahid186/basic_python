{
 "cells": [
  {
   "cell_type": "markdown",
   "id": "ce42f22e",
   "metadata": {},
   "source": [
    "# task 1"
   ]
  },
  {
   "cell_type": "code",
   "execution_count": null,
   "id": "f2a58d9c",
   "metadata": {},
   "outputs": [],
   "source": []
  },
  {
   "cell_type": "code",
   "execution_count": null,
   "id": "2aa8e586",
   "metadata": {},
   "outputs": [],
   "source": []
  },
  {
   "cell_type": "code",
   "execution_count": 2,
   "id": "0cf7425b",
   "metadata": {
    "collapsed": true
   },
   "outputs": [
    {
     "ename": "SyntaxError",
     "evalue": "expected ':' (495922215.py, line 5)",
     "output_type": "error",
     "traceback": [
      "\u001b[1;36m  Cell \u001b[1;32mIn[2], line 5\u001b[1;36m\u001b[0m\n\u001b[1;33m    elif u=='B'\u001b[0m\n\u001b[1;37m               ^\u001b[0m\n\u001b[1;31mSyntaxError\u001b[0m\u001b[1;31m:\u001b[0m expected ':'\n"
     ]
    }
   ],
   "source": [
    "u=input('enter the value')\n",
    "print(u)\n",
    "if u=='A':\n",
    "    print('python')\n",
    "elif u=='B'\n",
    "elif u=='c'\n",
    "print('excel')\n",
    "else:\n",
    "    print('h;iday')"
   ]
  },
  {
   "cell_type": "code",
   "execution_count": 4,
   "id": "7917ca24",
   "metadata": {},
   "outputs": [
    {
     "name": "stdout",
     "output_type": "stream",
     "text": [
      "enter the valueb\n",
      "b\n",
      "cricket\n"
     ]
    }
   ],
   "source": [
    "u=input('enter the value')\n",
    "print(u)\n",
    "if u=='a':\n",
    "    print('python')\n",
    "elif u=='b':\n",
    "    print('cricket')\n",
    "elif u=='c':\n",
    "    print('lal bhag')\n",
    "else:\n",
    "    print('dead')\n"
   ]
  },
  {
   "cell_type": "code",
   "execution_count": null,
   "id": "c6b6f09d",
   "metadata": {},
   "outputs": [],
   "source": []
  },
  {
   "cell_type": "code",
   "execution_count": null,
   "id": "b81676ab",
   "metadata": {},
   "outputs": [],
   "source": []
  },
  {
   "cell_type": "code",
   "execution_count": null,
   "id": "9789fed1",
   "metadata": {},
   "outputs": [],
   "source": []
  },
  {
   "cell_type": "code",
   "execution_count": null,
   "id": "1411bdd1",
   "metadata": {},
   "outputs": [],
   "source": []
  },
  {
   "cell_type": "code",
   "execution_count": 4,
   "id": "aea89bf1",
   "metadata": {},
   "outputs": [
    {
     "name": "stdout",
     "output_type": "stream",
     "text": [
      "enter the valueD\n",
      "D\n",
      "excel\n"
     ]
    }
   ],
   "source": [
    "u=input('enter the value')\n",
    "print(u)\n",
    "if u=='A':\n",
    "    print('python')\n",
    "elif u=='B':\n",
    "    print('mysql')\n",
    "elif u=='D':\n",
    "    print('excel')\n",
    "else:\n",
    "    print('holiday')\n",
    "    "
   ]
  },
  {
   "cell_type": "code",
   "execution_count": null,
   "id": "f0ba648c",
   "metadata": {},
   "outputs": [],
   "source": []
  },
  {
   "cell_type": "code",
   "execution_count": null,
   "id": "69327b89",
   "metadata": {},
   "outputs": [],
   "source": []
  },
  {
   "cell_type": "code",
   "execution_count": 13,
   "id": "5ffff786",
   "metadata": {},
   "outputs": [
    {
     "name": "stdout",
     "output_type": "stream",
     "text": [
      "enter the valueU\n",
      "U\n",
      "HOLIDAY\n"
     ]
    }
   ],
   "source": [
    "U=input('enter the value')\n",
    "print(U)\n",
    "if U=='A':\n",
    "    print('python')\n",
    "    \n",
    "elif U=='B':\n",
    "    print('MTSQL')\n",
    "\n",
    "elif U==('C'):\n",
    "    print('EXCEL')\n",
    "    \n",
    "else:\n",
    "    print('HOLIDAY')\n",
    "\n"
   ]
  },
  {
   "cell_type": "code",
   "execution_count": null,
   "id": "106710a0",
   "metadata": {},
   "outputs": [],
   "source": [
    "#check weather the input character found or not eg  mysql,python,excel,holiday"
   ]
  },
  {
   "cell_type": "markdown",
   "id": "fd6f4b8c",
   "metadata": {},
   "source": [
    "# TASK2"
   ]
  },
  {
   "cell_type": "code",
   "execution_count": 6,
   "id": "ffd03aba",
   "metadata": {},
   "outputs": [
    {
     "name": "stdout",
     "output_type": "stream",
     "text": [
      "enter a number60\n",
      "enter a number80\n",
      "80\n"
     ]
    }
   ],
   "source": [
    "value1=int(input('enter a number'))\n",
    "value2=int(input('enter a number'))\n",
    "if value1>value2:\n",
    "    print(value1)\n",
    "else:\n",
    "    print(value2)\n",
    "\n"
   ]
  },
  {
   "cell_type": "code",
   "execution_count": null,
   "id": "160a488e",
   "metadata": {},
   "outputs": [],
   "source": [
    "#check weather the input character which is higest"
   ]
  },
  {
   "cell_type": "markdown",
   "id": "3b0d73b3",
   "metadata": {},
   "source": [
    "# task3"
   ]
  },
  {
   "cell_type": "code",
   "execution_count": 18,
   "id": "7b2df4f7",
   "metadata": {},
   "outputs": [
    {
     "name": "stdout",
     "output_type": "stream",
     "text": [
      "enter basic salary4000\n",
      "net income= 4800.0\n"
     ]
    }
   ],
   "source": [
    "basic=int(input('enter basic salary'))\n",
    "net=basic +(10/100)*basic+(5/100)\n",
    "if basic<4000 and basic==4000:\n",
    "    print('net income =', basic+(10/100)*basic+(5/100)*basic)\n",
    "elif basic>4000 and basic<10000 and basic==1000:\n",
    "    print('net income=',basic+(20/100)*basic+(10/100)*basic)-(15/100*basic)\n",
    "else:\n",
    "    print('net income=',basic+(25/100)*basic+(15/100)*basic-(20/100)*basic)\n"
   ]
  },
  {
   "cell_type": "code",
   "execution_count": null,
   "id": "bf4af23e",
   "metadata": {},
   "outputs": [],
   "source": [
    "#display the net income"
   ]
  },
  {
   "cell_type": "markdown",
   "id": "6612b569",
   "metadata": {},
   "source": [
    "# task 4"
   ]
  },
  {
   "cell_type": "code",
   "execution_count": 7,
   "id": "8bbef93b",
   "metadata": {},
   "outputs": [
    {
     "name": "stdout",
     "output_type": "stream",
     "text": [
      "enter the word:s\n",
      "word exists\n"
     ]
    }
   ],
   "source": [
    "var = \"Python is an interpreted high level general purpose programming language.Its design philosophy emphasizes code readability with its use of significant indentation. Its language constructs as well as its object oriented approach aim to help programmers write clear, logical code for small and large-scale projects.\"\n",
    "s=input(\"enter the word:\")\n",
    "if s in var:\n",
    "    print(\"word exists\")\n",
    "else:\n",
    "    print(\"word does not exists\")\n",
    "\n",
    "\n",
    "\n",
    "\n"
   ]
  },
  {
   "cell_type": "code",
   "execution_count": null,
   "id": "fad3bdcd",
   "metadata": {},
   "outputs": [],
   "source": [
    "var=\"Python is an interpreted high level general purpose programming language.Its design philosophy emphasizes code readability with its use of significant indentation. Its language constructs as well as its object oriented approach aim to help programmers write clear, logical code for small and large-scale projects.\"\n",
    "s=input('enter exit')\n",
    "if sin "
   ]
  },
  {
   "cell_type": "code",
   "execution_count": null,
   "id": "01ff02c7",
   "metadata": {},
   "outputs": [],
   "source": [
    "#check weather the input character exists or not"
   ]
  },
  {
   "cell_type": "markdown",
   "id": "7211661d",
   "metadata": {},
   "source": [
    "# task 6"
   ]
  },
  {
   "cell_type": "code",
   "execution_count": 7,
   "id": "9c92df7d",
   "metadata": {},
   "outputs": [
    {
     "name": "stdout",
     "output_type": "stream",
     "text": [
      "enter a characterSHAHID NAZIR BHAT\n",
      "UPPER  case\n"
     ]
    }
   ],
   "source": [
    "c=input('enter a character')\n",
    "if c.isupper():\n",
    "    print('UPPER  case')\n",
    "else:\n",
    "    print('LOWER case')"
   ]
  },
  {
   "cell_type": "code",
   "execution_count": 8,
   "id": "274657cb",
   "metadata": {},
   "outputs": [
    {
     "name": "stdout",
     "output_type": "stream",
     "text": [
      "enter nameshahid nazir bhat\n",
      "upper case\n"
     ]
    }
   ],
   "source": [
    "B=input('enter name')\n",
    "if c.isupper():\n",
    "    print(' case')\n",
    "else:\n",
    "    print('lower case')"
   ]
  },
  {
   "cell_type": "code",
   "execution_count": 11,
   "id": "e0b64326",
   "metadata": {},
   "outputs": [
    {
     "name": "stdout",
     "output_type": "stream",
     "text": [
      "enter a characterA\n",
      "lower case\n"
     ]
    }
   ],
   "source": [
    "s=input('enter a character')\n",
    "if s.isupper():\n",
    "    print(\"lower case\")\n",
    "else:\n",
    "    print(\"upper case\")\n",
    "    "
   ]
  },
  {
   "cell_type": "code",
   "execution_count": null,
   "id": "bf00e83b",
   "metadata": {},
   "outputs": [],
   "source": []
  },
  {
   "cell_type": "code",
   "execution_count": null,
   "id": "ec4a83de",
   "metadata": {},
   "outputs": [],
   "source": []
  },
  {
   "cell_type": "code",
   "execution_count": null,
   "id": "73ab92a2",
   "metadata": {},
   "outputs": [],
   "source": []
  },
  {
   "cell_type": "code",
   "execution_count": null,
   "id": "d43dcb1b",
   "metadata": {},
   "outputs": [],
   "source": [
    "#check weather the input character is lowercase or upper case"
   ]
  },
  {
   "cell_type": "markdown",
   "id": "5cfe2c84",
   "metadata": {},
   "source": [
    "# task7"
   ]
  },
  {
   "cell_type": "code",
   "execution_count": 19,
   "id": "d8708f14",
   "metadata": {},
   "outputs": [
    {
     "name": "stdout",
     "output_type": "stream",
     "text": [
      "enter single charactera\n",
      "vovel\n"
     ]
    }
   ],
   "source": [
    "s=input(\"enter single character\")\n",
    "if s in (\"a\",\"e\",\"i\",\"o\",\"u\"):\n",
    "    print(\"vovel\")\n",
    "else:\n",
    "    print(\"consount\")"
   ]
  },
  {
   "cell_type": "code",
   "execution_count": 10,
   "id": "581b3513",
   "metadata": {},
   "outputs": [
    {
     "name": "stdout",
     "output_type": "stream",
     "text": [
      "enter the charactern\n",
      "consount\n"
     ]
    }
   ],
   "source": [
    "s=input('enter the character')\n",
    "if s in ('a','e','i','o','u'):\n",
    "    print('vovel')\n",
    "else:\n",
    "    print('consount')"
   ]
  },
  {
   "cell_type": "code",
   "execution_count": null,
   "id": "af0eee0f",
   "metadata": {},
   "outputs": [],
   "source": []
  },
  {
   "cell_type": "code",
   "execution_count": 9,
   "id": "4dbc708f",
   "metadata": {},
   "outputs": [
    {
     "name": "stdout",
     "output_type": "stream",
     "text": [
      "enter the voivala\n",
      "vovel\n"
     ]
    }
   ],
   "source": [
    "s=input('enter the voival')\n",
    "if s in ('a','e','i','o','u'):\n",
    "    print('vovel')\n",
    "    \n",
    "else:\n",
    "    print('consonent')\n",
    "    \n",
    "    "
   ]
  },
  {
   "cell_type": "code",
   "execution_count": 6,
   "id": "48dbf191",
   "metadata": {},
   "outputs": [
    {
     "name": "stdout",
     "output_type": "stream",
     "text": [
      "enter the vovali\n",
      "vovel\n"
     ]
    }
   ],
   "source": [
    "S=input('enter the voval')\n",
    "if S in ('a','e','i','o','u'):\n",
    "    print('vovel')\n",
    "else:\n",
    "    print('consonent')\n"
   ]
  },
  {
   "cell_type": "code",
   "execution_count": 10,
   "id": "4274787f",
   "metadata": {},
   "outputs": [
    {
     "name": "stdout",
     "output_type": "stream",
     "text": [
      "enter the vovala\n",
      "vovel\n"
     ]
    }
   ],
   "source": [
    "x=input('enter the voval')\n",
    "if x in ('a','e','i','o','u'):\n",
    "    print('vovel')\n",
    "else:\n",
    "    print('consonet')"
   ]
  },
  {
   "cell_type": "code",
   "execution_count": null,
   "id": "dd2d999d",
   "metadata": {},
   "outputs": [],
   "source": []
  },
  {
   "cell_type": "code",
   "execution_count": null,
   "id": "c4547ce1",
   "metadata": {},
   "outputs": [],
   "source": []
  },
  {
   "cell_type": "code",
   "execution_count": null,
   "id": "3360c099",
   "metadata": {},
   "outputs": [],
   "source": []
  },
  {
   "cell_type": "code",
   "execution_count": null,
   "id": "a4aff746",
   "metadata": {},
   "outputs": [],
   "source": [
    "#check weather the input character is vowel or consonant"
   ]
  }
 ],
 "metadata": {
  "kernelspec": {
   "display_name": "Python 3 (ipykernel)",
   "language": "python",
   "name": "python3"
  },
  "language_info": {
   "codemirror_mode": {
    "name": "ipython",
    "version": 3
   },
   "file_extension": ".py",
   "mimetype": "text/x-python",
   "name": "python",
   "nbconvert_exporter": "python",
   "pygments_lexer": "ipython3",
   "version": "3.10.9"
  }
 },
 "nbformat": 4,
 "nbformat_minor": 5
}
