{
 "cells": [
  {
   "cell_type": "code",
   "execution_count": null,
   "id": "b3d4257f",
   "metadata": {},
   "outputs": [],
   "source": []
  },
  {
   "cell_type": "code",
   "execution_count": 3,
   "id": "f2e28a00",
   "metadata": {},
   "outputs": [],
   "source": [
    "import numpy as np\n",
    "import pandas as pd\n",
    "\n",
    "import matplotlib.pyplot as plt\n",
    "import seaborn as sb"
   ]
  },
  {
   "cell_type": "code",
   "execution_count": 4,
   "id": "c706f259",
   "metadata": {},
   "outputs": [
    {
     "data": {
      "text/html": [
       "<div>\n",
       "<style scoped>\n",
       "    .dataframe tbody tr th:only-of-type {\n",
       "        vertical-align: middle;\n",
       "    }\n",
       "\n",
       "    .dataframe tbody tr th {\n",
       "        vertical-align: top;\n",
       "    }\n",
       "\n",
       "    .dataframe thead th {\n",
       "        text-align: right;\n",
       "    }\n",
       "</style>\n",
       "<table border=\"1\" class=\"dataframe\">\n",
       "  <thead>\n",
       "    <tr style=\"text-align: right;\">\n",
       "      <th></th>\n",
       "      <th>Unnamed: 0</th>\n",
       "      <th>category</th>\n",
       "      <th>description</th>\n",
       "      <th>title</th>\n",
       "      <th>brand</th>\n",
       "      <th>date</th>\n",
       "      <th>price</th>\n",
       "      <th>asin</th>\n",
       "      <th>imageURL</th>\n",
       "      <th>overall</th>\n",
       "      <th>verified</th>\n",
       "      <th>reviewTime</th>\n",
       "      <th>reviewText</th>\n",
       "      <th>reviewerID</th>\n",
       "      <th>Sentimental</th>\n",
       "    </tr>\n",
       "  </thead>\n",
       "  <tbody>\n",
       "    <tr>\n",
       "      <th>0</th>\n",
       "      <td>0</td>\n",
       "      <td>['Office Products', 'Office &amp; School Supplies'...</td>\n",
       "      <td>['Corduroy the bear goes to the launderette wi...</td>\n",
       "      <td>A Pocket for Corduroy</td>\n",
       "      <td>Ingram Book &amp; Distributor</td>\n",
       "      <td>2006-09-14</td>\n",
       "      <td>0.95</td>\n",
       "      <td>0140503528</td>\n",
       "      <td>[]</td>\n",
       "      <td>3</td>\n",
       "      <td>False</td>\n",
       "      <td>11 3, 2006</td>\n",
       "      <td>I thought the book was entertaining and cute, ...</td>\n",
       "      <td>A2WJLOXXIB7NF3</td>\n",
       "      <td>Neutral</td>\n",
       "    </tr>\n",
       "    <tr>\n",
       "      <th>1</th>\n",
       "      <td>1</td>\n",
       "      <td>['Office Products', 'Office &amp; School Supplies'...</td>\n",
       "      <td>['Corduroy the bear goes to the launderette wi...</td>\n",
       "      <td>A Pocket for Corduroy</td>\n",
       "      <td>Ingram Book &amp; Distributor</td>\n",
       "      <td>2006-09-14</td>\n",
       "      <td>0.95</td>\n",
       "      <td>0140503528</td>\n",
       "      <td>[]</td>\n",
       "      <td>5</td>\n",
       "      <td>False</td>\n",
       "      <td>05 9, 2006</td>\n",
       "      <td>This adorable story is an all time favorite fa...</td>\n",
       "      <td>A1RKICUK0GG6VF</td>\n",
       "      <td>Positive</td>\n",
       "    </tr>\n",
       "    <tr>\n",
       "      <th>2</th>\n",
       "      <td>2</td>\n",
       "      <td>['Office Products', 'Office &amp; School Supplies'...</td>\n",
       "      <td>['Corduroy the bear goes to the launderette wi...</td>\n",
       "      <td>A Pocket for Corduroy</td>\n",
       "      <td>Ingram Book &amp; Distributor</td>\n",
       "      <td>2006-09-14</td>\n",
       "      <td>0.95</td>\n",
       "      <td>0140503528</td>\n",
       "      <td>[]</td>\n",
       "      <td>5</td>\n",
       "      <td>False</td>\n",
       "      <td>03 11, 2006</td>\n",
       "      <td>Lisa's bear Corduroy gets lost in the laundrom...</td>\n",
       "      <td>A1QA5E50M398VW</td>\n",
       "      <td>Positive</td>\n",
       "    </tr>\n",
       "    <tr>\n",
       "      <th>3</th>\n",
       "      <td>3</td>\n",
       "      <td>['Office Products', 'Office &amp; School Supplies'...</td>\n",
       "      <td>['Corduroy the bear goes to the launderette wi...</td>\n",
       "      <td>A Pocket for Corduroy</td>\n",
       "      <td>Ingram Book &amp; Distributor</td>\n",
       "      <td>2006-09-14</td>\n",
       "      <td>0.95</td>\n",
       "      <td>0140503528</td>\n",
       "      <td>[]</td>\n",
       "      <td>5</td>\n",
       "      <td>False</td>\n",
       "      <td>01 24, 2001</td>\n",
       "      <td>In this installment of Corduroy's adventures w...</td>\n",
       "      <td>A3N0HBW8IP8CZQ</td>\n",
       "      <td>Positive</td>\n",
       "    </tr>\n",
       "    <tr>\n",
       "      <th>4</th>\n",
       "      <td>4</td>\n",
       "      <td>['Office Products', 'Office &amp; School Supplies'...</td>\n",
       "      <td>['Corduroy the bear goes to the launderette wi...</td>\n",
       "      <td>A Pocket for Corduroy</td>\n",
       "      <td>Ingram Book &amp; Distributor</td>\n",
       "      <td>2006-09-14</td>\n",
       "      <td>0.95</td>\n",
       "      <td>0140503528</td>\n",
       "      <td>[]</td>\n",
       "      <td>5</td>\n",
       "      <td>False</td>\n",
       "      <td>07 30, 2000</td>\n",
       "      <td>Researchers constantly find that reading to ch...</td>\n",
       "      <td>A1K1JW1C5CUSUZ</td>\n",
       "      <td>Positive</td>\n",
       "    </tr>\n",
       "  </tbody>\n",
       "</table>\n",
       "</div>"
      ],
      "text/plain": [
       "   Unnamed: 0                                           category  \\\n",
       "0           0  ['Office Products', 'Office & School Supplies'...   \n",
       "1           1  ['Office Products', 'Office & School Supplies'...   \n",
       "2           2  ['Office Products', 'Office & School Supplies'...   \n",
       "3           3  ['Office Products', 'Office & School Supplies'...   \n",
       "4           4  ['Office Products', 'Office & School Supplies'...   \n",
       "\n",
       "                                         description                  title  \\\n",
       "0  ['Corduroy the bear goes to the launderette wi...  A Pocket for Corduroy   \n",
       "1  ['Corduroy the bear goes to the launderette wi...  A Pocket for Corduroy   \n",
       "2  ['Corduroy the bear goes to the launderette wi...  A Pocket for Corduroy   \n",
       "3  ['Corduroy the bear goes to the launderette wi...  A Pocket for Corduroy   \n",
       "4  ['Corduroy the bear goes to the launderette wi...  A Pocket for Corduroy   \n",
       "\n",
       "                       brand        date  price        asin imageURL  overall  \\\n",
       "0  Ingram Book & Distributor  2006-09-14   0.95  0140503528       []        3   \n",
       "1  Ingram Book & Distributor  2006-09-14   0.95  0140503528       []        5   \n",
       "2  Ingram Book & Distributor  2006-09-14   0.95  0140503528       []        5   \n",
       "3  Ingram Book & Distributor  2006-09-14   0.95  0140503528       []        5   \n",
       "4  Ingram Book & Distributor  2006-09-14   0.95  0140503528       []        5   \n",
       "\n",
       "   verified   reviewTime                                         reviewText  \\\n",
       "0     False   11 3, 2006  I thought the book was entertaining and cute, ...   \n",
       "1     False   05 9, 2006  This adorable story is an all time favorite fa...   \n",
       "2     False  03 11, 2006  Lisa's bear Corduroy gets lost in the laundrom...   \n",
       "3     False  01 24, 2001  In this installment of Corduroy's adventures w...   \n",
       "4     False  07 30, 2000  Researchers constantly find that reading to ch...   \n",
       "\n",
       "       reviewerID Sentimental  \n",
       "0  A2WJLOXXIB7NF3     Neutral  \n",
       "1  A1RKICUK0GG6VF    Positive  \n",
       "2  A1QA5E50M398VW    Positive  \n",
       "3  A3N0HBW8IP8CZQ    Positive  \n",
       "4  A1K1JW1C5CUSUZ    Positive  "
      ]
     },
     "execution_count": 4,
     "metadata": {},
     "output_type": "execute_result"
    }
   ],
   "source": [
    "df= pd.read_csv('t1.csv')\n",
    "df.head()"
   ]
  },
  {
   "cell_type": "code",
   "execution_count": 5,
   "id": "5b57e371",
   "metadata": {},
   "outputs": [
    {
     "data": {
      "text/html": [
       "<div>\n",
       "<style scoped>\n",
       "    .dataframe tbody tr th:only-of-type {\n",
       "        vertical-align: middle;\n",
       "    }\n",
       "\n",
       "    .dataframe tbody tr th {\n",
       "        vertical-align: top;\n",
       "    }\n",
       "\n",
       "    .dataframe thead th {\n",
       "        text-align: right;\n",
       "    }\n",
       "</style>\n",
       "<table border=\"1\" class=\"dataframe\">\n",
       "  <thead>\n",
       "    <tr style=\"text-align: right;\">\n",
       "      <th></th>\n",
       "      <th>reviewerID</th>\n",
       "      <th>asin</th>\n",
       "      <th>overall</th>\n",
       "    </tr>\n",
       "  </thead>\n",
       "  <tbody>\n",
       "    <tr>\n",
       "      <th>0</th>\n",
       "      <td>A2WJLOXXIB7NF3</td>\n",
       "      <td>0140503528</td>\n",
       "      <td>3</td>\n",
       "    </tr>\n",
       "    <tr>\n",
       "      <th>1</th>\n",
       "      <td>A1RKICUK0GG6VF</td>\n",
       "      <td>0140503528</td>\n",
       "      <td>5</td>\n",
       "    </tr>\n",
       "    <tr>\n",
       "      <th>2</th>\n",
       "      <td>A1QA5E50M398VW</td>\n",
       "      <td>0140503528</td>\n",
       "      <td>5</td>\n",
       "    </tr>\n",
       "    <tr>\n",
       "      <th>3</th>\n",
       "      <td>A3N0HBW8IP8CZQ</td>\n",
       "      <td>0140503528</td>\n",
       "      <td>5</td>\n",
       "    </tr>\n",
       "    <tr>\n",
       "      <th>4</th>\n",
       "      <td>A1K1JW1C5CUSUZ</td>\n",
       "      <td>0140503528</td>\n",
       "      <td>5</td>\n",
       "    </tr>\n",
       "  </tbody>\n",
       "</table>\n",
       "</div>"
      ],
      "text/plain": [
       "       reviewerID        asin  overall\n",
       "0  A2WJLOXXIB7NF3  0140503528        3\n",
       "1  A1RKICUK0GG6VF  0140503528        5\n",
       "2  A1QA5E50M398VW  0140503528        5\n",
       "3  A3N0HBW8IP8CZQ  0140503528        5\n",
       "4  A1K1JW1C5CUSUZ  0140503528        5"
      ]
     },
     "execution_count": 5,
     "metadata": {},
     "output_type": "execute_result"
    }
   ],
   "source": [
    "df1=df[['reviewerID','asin','overall']]\n",
    "df1.head()"
   ]
  },
  {
   "cell_type": "code",
   "execution_count": 6,
   "id": "81b15403",
   "metadata": {},
   "outputs": [
    {
     "name": "stdout",
     "output_type": "stream",
     "text": [
      "<class 'pandas.core.frame.DataFrame'>\n",
      "RangeIndex: 6469 entries, 0 to 6468\n",
      "Data columns (total 3 columns):\n",
      " #   Column      Non-Null Count  Dtype \n",
      "---  ------      --------------  ----- \n",
      " 0   reviewerID  6469 non-null   object\n",
      " 1   asin        6469 non-null   object\n",
      " 2   overall     6469 non-null   int64 \n",
      "dtypes: int64(1), object(2)\n",
      "memory usage: 151.7+ KB\n"
     ]
    }
   ],
   "source": [
    "df1.info()"
   ]
  },
  {
   "cell_type": "code",
   "execution_count": 7,
   "id": "24453449",
   "metadata": {},
   "outputs": [
    {
     "data": {
      "text/html": [
       "<div>\n",
       "<style scoped>\n",
       "    .dataframe tbody tr th:only-of-type {\n",
       "        vertical-align: middle;\n",
       "    }\n",
       "\n",
       "    .dataframe tbody tr th {\n",
       "        vertical-align: top;\n",
       "    }\n",
       "\n",
       "    .dataframe thead th {\n",
       "        text-align: right;\n",
       "    }\n",
       "</style>\n",
       "<table border=\"1\" class=\"dataframe\">\n",
       "  <thead>\n",
       "    <tr style=\"text-align: right;\">\n",
       "      <th></th>\n",
       "      <th>overall</th>\n",
       "    </tr>\n",
       "  </thead>\n",
       "  <tbody>\n",
       "    <tr>\n",
       "      <th>count</th>\n",
       "      <td>6469.000000</td>\n",
       "    </tr>\n",
       "    <tr>\n",
       "      <th>mean</th>\n",
       "      <td>4.443036</td>\n",
       "    </tr>\n",
       "    <tr>\n",
       "      <th>std</th>\n",
       "      <td>1.095350</td>\n",
       "    </tr>\n",
       "    <tr>\n",
       "      <th>min</th>\n",
       "      <td>1.000000</td>\n",
       "    </tr>\n",
       "    <tr>\n",
       "      <th>25%</th>\n",
       "      <td>4.000000</td>\n",
       "    </tr>\n",
       "    <tr>\n",
       "      <th>50%</th>\n",
       "      <td>5.000000</td>\n",
       "    </tr>\n",
       "    <tr>\n",
       "      <th>75%</th>\n",
       "      <td>5.000000</td>\n",
       "    </tr>\n",
       "    <tr>\n",
       "      <th>max</th>\n",
       "      <td>5.000000</td>\n",
       "    </tr>\n",
       "  </tbody>\n",
       "</table>\n",
       "</div>"
      ],
      "text/plain": [
       "           overall\n",
       "count  6469.000000\n",
       "mean      4.443036\n",
       "std       1.095350\n",
       "min       1.000000\n",
       "25%       4.000000\n",
       "50%       5.000000\n",
       "75%       5.000000\n",
       "max       5.000000"
      ]
     },
     "execution_count": 7,
     "metadata": {},
     "output_type": "execute_result"
    }
   ],
   "source": [
    "df1.describe()"
   ]
  },
  {
   "cell_type": "code",
   "execution_count": 8,
   "id": "00e6cd5e",
   "metadata": {},
   "outputs": [
    {
     "data": {
      "text/plain": [
       "reviewerID    0\n",
       "asin          0\n",
       "overall       0\n",
       "dtype: int64"
      ]
     },
     "execution_count": 8,
     "metadata": {},
     "output_type": "execute_result"
    }
   ],
   "source": [
    "df1.isnull().sum()"
   ]
  },
  {
   "cell_type": "code",
   "execution_count": 9,
   "id": "8ff7400f",
   "metadata": {},
   "outputs": [
    {
     "data": {
      "text/plain": [
       "(6469, 3)"
      ]
     },
     "execution_count": 9,
     "metadata": {},
     "output_type": "execute_result"
    }
   ],
   "source": [
    "df1.shape"
   ]
  },
  {
   "cell_type": "code",
   "execution_count": 10,
   "id": "f8051d9f",
   "metadata": {},
   "outputs": [
    {
     "name": "stderr",
     "output_type": "stream",
     "text": [
      "C:\\Users\\prabh\\AppData\\Local\\Temp\\ipykernel_6688\\4156330626.py:1: SettingWithCopyWarning: \n",
      "A value is trying to be set on a copy of a slice from a DataFrame\n",
      "\n",
      "See the caveats in the documentation: https://pandas.pydata.org/pandas-docs/stable/user_guide/indexing.html#returning-a-view-versus-a-copy\n",
      "  df1.drop_duplicates(inplace=True)\n"
     ]
    }
   ],
   "source": [
    "df1.drop_duplicates(inplace=True)"
   ]
  },
  {
   "cell_type": "code",
   "execution_count": 11,
   "id": "232541e9",
   "metadata": {},
   "outputs": [
    {
     "data": {
      "text/plain": [
       "(6453, 3)"
      ]
     },
     "execution_count": 11,
     "metadata": {},
     "output_type": "execute_result"
    }
   ],
   "source": [
    "df1.shape"
   ]
  },
  {
   "cell_type": "code",
   "execution_count": 12,
   "id": "6dc98e3c",
   "metadata": {},
   "outputs": [
    {
     "name": "stderr",
     "output_type": "stream",
     "text": [
      "C:\\Users\\prabh\\anaconda3\\lib\\site-packages\\seaborn\\_decorators.py:36: FutureWarning: Pass the following variable as a keyword arg: x. From version 0.12, the only valid positional argument will be `data`, and passing other arguments without an explicit keyword will result in an error or misinterpretation.\n",
      "  warnings.warn(\n"
     ]
    },
    {
     "data": {
      "text/plain": [
       "<AxesSubplot:xlabel='overall', ylabel='count'>"
      ]
     },
     "execution_count": 12,
     "metadata": {},
     "output_type": "execute_result"
    },
    {
     "data": {
      "image/png": "[encoded data removed]",
      "text/plain": [
       "<Figure size 640x480 with 1 Axes>"
      ]
     },
     "metadata": {},
     "output_type": "display_data"
    }
   ],
   "source": [
    "sb.countplot(df1['overall'])"
   ]
  },
  {
   "cell_type": "code",
   "execution_count": 13,
   "id": "1bc728da",
   "metadata": {},
   "outputs": [
    {
     "name": "stdout",
     "output_type": "stream",
     "text": [
      "total rating = 6453\n",
      "Total unique users =  6359\n",
      "Total unique Products =  113\n"
     ]
    }
   ],
   "source": [
    "print(\"total rating =\",len(df1['overall']))\n",
    "print(\"Total unique users = \",df1['reviewerID'].nunique())\n",
    "print(\"Total unique Products = \",df1['asin'].nunique())"
   ]
  },
  {
   "cell_type": "markdown",
   "id": "38befbeb",
   "metadata": {},
   "source": [
    "Analyzing the rating by user"
   ]
  },
  {
   "cell_type": "code",
   "execution_count": 14,
   "id": "cac8c61b",
   "metadata": {},
   "outputs": [
    {
     "data": {
      "text/plain": [
       "reviewerID\n",
       "A39M3CCDR9PHZ3    3\n",
       "A29340LLEPKJBD    3\n",
       "AZZKYP9254H32     2\n",
       "A2KWGT1IBMK9YA    2\n",
       "A2H4HPZ9UKZG9T    2\n",
       "Name: overall, dtype: int64"
      ]
     },
     "execution_count": 14,
     "metadata": {},
     "output_type": "execute_result"
    }
   ],
   "source": [
    "no_of_rated_product_per_user = df1.groupby(by='reviewerID')['overall'].count().sort_values(ascending=False)\n",
    "no_of_rated_product_per_user.head()"
   ]
  },
  {
   "cell_type": "code",
   "execution_count": 15,
   "id": "c98a6b2e",
   "metadata": {},
   "outputs": [
    {
     "data": {
      "text/plain": [
       "<AxesSubplot:xlabel='reviewerID'>"
      ]
     },
     "execution_count": 15,
     "metadata": {},
     "output_type": "execute_result"
    },
    {
     "data": {
      "image/png": "[encoded data removed]",
      "text/plain": [
       "<Figure size 640x480 with 1 Axes>"
      ]
     },
     "metadata": {},
     "output_type": "display_data"
    }
   ],
   "source": [
    "no_of_rated_product_per_user.head(20).plot(kind='bar')"
   ]
  },
  {
   "cell_type": "markdown",
   "id": "2055c1a6",
   "metadata": {},
   "source": [
    "# Average Rating Product"
   ]
  },
  {
   "cell_type": "code",
   "execution_count": 16,
   "id": "6330b0d6",
   "metadata": {},
   "outputs": [],
   "source": [
    "mean_rating_prodcut_count = pd.DataFrame(df1.groupby('asin')['overall'].mean())"
   ]
  },
  {
   "cell_type": "code",
   "execution_count": 17,
   "id": "9e841223",
   "metadata": {},
   "outputs": [
    {
     "data": {
      "text/html": [
       "<div>\n",
       "<style scoped>\n",
       "    .dataframe tbody tr th:only-of-type {\n",
       "        vertical-align: middle;\n",
       "    }\n",
       "\n",
       "    .dataframe tbody tr th {\n",
       "        vertical-align: top;\n",
       "    }\n",
       "\n",
       "    .dataframe thead th {\n",
       "        text-align: right;\n",
       "    }\n",
       "</style>\n",
       "<table border=\"1\" class=\"dataframe\">\n",
       "  <thead>\n",
       "    <tr style=\"text-align: right;\">\n",
       "      <th></th>\n",
       "      <th>overall</th>\n",
       "    </tr>\n",
       "    <tr>\n",
       "      <th>asin</th>\n",
       "      <th></th>\n",
       "    </tr>\n",
       "  </thead>\n",
       "  <tbody>\n",
       "    <tr>\n",
       "      <th>0140503528</th>\n",
       "      <td>4.573913</td>\n",
       "    </tr>\n",
       "    <tr>\n",
       "      <th>0245109919</th>\n",
       "      <td>5.000000</td>\n",
       "    </tr>\n",
       "    <tr>\n",
       "      <th>0439394058</th>\n",
       "      <td>4.153846</td>\n",
       "    </tr>\n",
       "    <tr>\n",
       "      <th>043949950X</th>\n",
       "      <td>5.000000</td>\n",
       "    </tr>\n",
       "    <tr>\n",
       "      <th>0439537886</th>\n",
       "      <td>4.458333</td>\n",
       "    </tr>\n",
       "  </tbody>\n",
       "</table>\n",
       "</div>"
      ],
      "text/plain": [
       "             overall\n",
       "asin                \n",
       "0140503528  4.573913\n",
       "0245109919  5.000000\n",
       "0439394058  4.153846\n",
       "043949950X  5.000000\n",
       "0439537886  4.458333"
      ]
     },
     "execution_count": 17,
     "metadata": {},
     "output_type": "execute_result"
    }
   ],
   "source": [
    "mean_rating_prodcut_count.head()"
   ]
  },
  {
   "cell_type": "code",
   "execution_count": 18,
   "id": "36edc742",
   "metadata": {},
   "outputs": [
    {
     "data": {
      "image/png": "[encoded data removed]",
      "text/plain": [
       "<Figure size 640x480 with 1 Axes>"
      ]
     },
     "metadata": {},
     "output_type": "display_data"
    }
   ],
   "source": [
    "# plot the rating distribution of average rating product\n",
    "plt.hist(mean_rating_prodcut_count['overall'],bins=100);"
   ]
  },
  {
   "cell_type": "code",
   "execution_count": 19,
   "id": "7ce0f871",
   "metadata": {},
   "outputs": [
    {
     "data": {
      "text/plain": [
       "-1.367214023466005"
      ]
     },
     "execution_count": 19,
     "metadata": {},
     "output_type": "execute_result"
    }
   ],
   "source": [
    "mean_rating_prodcut_count['overall'].skew()"
   ]
  },
  {
   "cell_type": "code",
   "execution_count": 20,
   "id": "741ee496",
   "metadata": {},
   "outputs": [
    {
     "name": "stdout",
     "output_type": "stream",
     "text": [
      "Requirement already satisfied: numpy in c:\\users\\prabh\\anaconda3\\lib\\site-packages (1.21.5)\n"
     ]
    }
   ],
   "source": [
    "!pip install numpy"
   ]
  },
  {
   "cell_type": "code",
   "execution_count": 3,
   "id": "277336f7",
   "metadata": {},
   "outputs": [
    {
     "name": "stdout",
     "output_type": "stream",
     "text": [
      "^C\n",
      "\n",
      "Note: you may need to restart the kernel to use updated packages.\n"
     ]
    }
   ],
   "source": [
    "#conda install -c conda-forge scikit-surprise "
   ]
  },
  {
   "cell_type": "code",
   "execution_count": 43,
   "id": "eab0e909",
   "metadata": {},
   "outputs": [
    {
     "name": "stdout",
     "output_type": "stream",
     "text": [
      "^C\n",
      "\n",
      "Note: you may need to restart the kernel to use updated packages.\n"
     ]
    }
   ],
   "source": [
    "#conda install -c conda-forge scikit-surprise"
   ]
  },
  {
   "cell_type": "code",
   "execution_count": 1,
   "id": "6e1a8066",
   "metadata": {},
   "outputs": [
    {
     "name": "stdout",
     "output_type": "stream",
     "text": [
      "Requirement already satisfied: scikit-surprise in c:\\users\\prabh\\anaconda3\\lib\\site-packages (1.1.1)\n",
      "Requirement already satisfied: joblib>=0.11 in c:\\users\\prabh\\anaconda3\\lib\\site-packages (from scikit-surprise) (1.3.2)\n",
      "Requirement already satisfied: numpy>=1.11.2 in c:\\users\\prabh\\anaconda3\\lib\\site-packages (from scikit-surprise) (1.21.5)\n",
      "Requirement already satisfied: scipy>=1.0.0 in c:\\users\\prabh\\anaconda3\\lib\\site-packages (from scikit-surprise) (1.9.1)\n",
      "Requirement already satisfied: six>=1.10.0 in c:\\users\\prabh\\anaconda3\\lib\\site-packages (from scikit-surprise) (1.16.0)\n"
     ]
    }
   ],
   "source": [
    "#import surprise libraru for collabrative filtering\n",
    "#!pip install scikit-surprise\n",
    "\n"
   ]
  },
  {
   "cell_type": "code",
   "execution_count": 22,
   "id": "aff6f874",
   "metadata": {},
   "outputs": [],
   "source": [
    "\n",
    "from surprise import KNNWithMeans\n",
    "from surprise import Dataset\n",
    "from surprise import accuracy\n",
    "from surprise import Reader\n",
    "from surprise.model_selection import train_test_split"
   ]
  },
  {
   "cell_type": "code",
   "execution_count": 23,
   "id": "7fdb3993",
   "metadata": {},
   "outputs": [],
   "source": [
    "reader = Reader(rating_scale=(1,5))\n",
    "surprise_data = Dataset.load_from_df(df1,reader)"
   ]
  },
  {
   "cell_type": "code",
   "execution_count": 24,
   "id": "6bfe9ddd",
   "metadata": {},
   "outputs": [],
   "source": [
    "#splitting surprise the dataset into 80:20\n",
    "train,test= train_test_split(surprise_data,test_size=0.3,random_state=47)"
   ]
  },
  {
   "cell_type": "code",
   "execution_count": 25,
   "id": "1ac018cd",
   "metadata": {},
   "outputs": [
    {
     "name": "stdout",
     "output_type": "stream",
     "text": [
      "Estimating biases using als...\n",
      "Computing the pearson_baseline similarity matrix...\n",
      "Done computing similarity matrix.\n"
     ]
    },
    {
     "data": {
      "text/plain": [
       "<surprise.prediction_algorithms.knns.KNNWithMeans at 0x1f33596c610>"
      ]
     },
     "execution_count": 25,
     "metadata": {},
     "output_type": "execute_result"
    }
   ],
   "source": [
    "algo = KNNWithMeans(k=5,sim_options={'name':'pearson_baseline','used_based':False})\n",
    "algo.fit(train)"
   ]
  },
  {
   "cell_type": "code",
   "execution_count": 26,
   "id": "d389f4f5",
   "metadata": {},
   "outputs": [],
   "source": [
    "#make prediction using test\n",
    "test_pred = algo.test(test)"
   ]
  },
  {
   "cell_type": "code",
   "execution_count": 27,
   "id": "00782089",
   "metadata": {},
   "outputs": [
    {
     "name": "stdout",
     "output_type": "stream",
     "text": [
      "Item-Based Model : Test set\n",
      "RMSE: 1.1008\n"
     ]
    },
    {
     "data": {
      "text/plain": [
       "1.1008093400614696"
      ]
     },
     "execution_count": 27,
     "metadata": {},
     "output_type": "execute_result"
    }
   ],
   "source": [
    "#print RMSE\n",
    "print(\"Item-Based Model : Test set\")\n",
    "accuracy.rmse(test_pred,verbose=True)"
   ]
  },
  {
   "cell_type": "markdown",
   "id": "f109df6e",
   "metadata": {},
   "source": [
    "# Model Based collabrative filtering system"
   ]
  },
  {
   "cell_type": "code",
   "execution_count": 29,
   "id": "93f67c7d",
   "metadata": {},
   "outputs": [
    {
     "data": {
      "text/plain": [
       "(6453, 3)"
      ]
     },
     "execution_count": 29,
     "metadata": {},
     "output_type": "execute_result"
    }
   ],
   "source": [
    "df1.shape"
   ]
  },
  {
   "cell_type": "code",
   "execution_count": 30,
   "id": "c6262d70",
   "metadata": {},
   "outputs": [
    {
     "data": {
      "text/html": [
       "<div>\n",
       "<style scoped>\n",
       "    .dataframe tbody tr th:only-of-type {\n",
       "        vertical-align: middle;\n",
       "    }\n",
       "\n",
       "    .dataframe tbody tr th {\n",
       "        vertical-align: top;\n",
       "    }\n",
       "\n",
       "    .dataframe thead th {\n",
       "        text-align: right;\n",
       "    }\n",
       "</style>\n",
       "<table border=\"1\" class=\"dataframe\">\n",
       "  <thead>\n",
       "    <tr style=\"text-align: right;\">\n",
       "      <th>asin</th>\n",
       "      <th>0140503528</th>\n",
       "      <th>0245109919</th>\n",
       "      <th>0439394058</th>\n",
       "      <th>043949950X</th>\n",
       "      <th>0439537886</th>\n",
       "      <th>0439654939</th>\n",
       "      <th>0439731593</th>\n",
       "      <th>0439731771</th>\n",
       "      <th>0439784395</th>\n",
       "      <th>0439893577</th>\n",
       "      <th>...</th>\n",
       "      <th>1412461502</th>\n",
       "      <th>1420623842</th>\n",
       "      <th>1420625519</th>\n",
       "      <th>143211901X</th>\n",
       "      <th>143212319X</th>\n",
       "      <th>1439716021</th>\n",
       "      <th>1439722056</th>\n",
       "      <th>1439723605</th>\n",
       "      <th>1439723974</th>\n",
       "      <th>1439733848</th>\n",
       "    </tr>\n",
       "    <tr>\n",
       "      <th>reviewerID</th>\n",
       "      <th></th>\n",
       "      <th></th>\n",
       "      <th></th>\n",
       "      <th></th>\n",
       "      <th></th>\n",
       "      <th></th>\n",
       "      <th></th>\n",
       "      <th></th>\n",
       "      <th></th>\n",
       "      <th></th>\n",
       "      <th></th>\n",
       "      <th></th>\n",
       "      <th></th>\n",
       "      <th></th>\n",
       "      <th></th>\n",
       "      <th></th>\n",
       "      <th></th>\n",
       "      <th></th>\n",
       "      <th></th>\n",
       "      <th></th>\n",
       "      <th></th>\n",
       "    </tr>\n",
       "  </thead>\n",
       "  <tbody>\n",
       "    <tr>\n",
       "      <th>A0440970QIFGYIPSB9LS</th>\n",
       "      <td>0</td>\n",
       "      <td>0</td>\n",
       "      <td>0</td>\n",
       "      <td>0</td>\n",
       "      <td>0</td>\n",
       "      <td>0</td>\n",
       "      <td>0</td>\n",
       "      <td>0</td>\n",
       "      <td>0</td>\n",
       "      <td>0</td>\n",
       "      <td>...</td>\n",
       "      <td>0</td>\n",
       "      <td>0</td>\n",
       "      <td>0</td>\n",
       "      <td>0</td>\n",
       "      <td>0</td>\n",
       "      <td>0</td>\n",
       "      <td>0</td>\n",
       "      <td>0</td>\n",
       "      <td>0</td>\n",
       "      <td>0</td>\n",
       "    </tr>\n",
       "    <tr>\n",
       "      <th>A0776669NZZD6IZI2J5P</th>\n",
       "      <td>0</td>\n",
       "      <td>0</td>\n",
       "      <td>0</td>\n",
       "      <td>0</td>\n",
       "      <td>0</td>\n",
       "      <td>0</td>\n",
       "      <td>0</td>\n",
       "      <td>0</td>\n",
       "      <td>0</td>\n",
       "      <td>0</td>\n",
       "      <td>...</td>\n",
       "      <td>0</td>\n",
       "      <td>0</td>\n",
       "      <td>0</td>\n",
       "      <td>0</td>\n",
       "      <td>0</td>\n",
       "      <td>0</td>\n",
       "      <td>0</td>\n",
       "      <td>0</td>\n",
       "      <td>0</td>\n",
       "      <td>0</td>\n",
       "    </tr>\n",
       "    <tr>\n",
       "      <th>A101ZOK2TBMRRO</th>\n",
       "      <td>0</td>\n",
       "      <td>0</td>\n",
       "      <td>0</td>\n",
       "      <td>0</td>\n",
       "      <td>0</td>\n",
       "      <td>0</td>\n",
       "      <td>0</td>\n",
       "      <td>0</td>\n",
       "      <td>0</td>\n",
       "      <td>0</td>\n",
       "      <td>...</td>\n",
       "      <td>0</td>\n",
       "      <td>0</td>\n",
       "      <td>0</td>\n",
       "      <td>0</td>\n",
       "      <td>0</td>\n",
       "      <td>0</td>\n",
       "      <td>0</td>\n",
       "      <td>0</td>\n",
       "      <td>0</td>\n",
       "      <td>0</td>\n",
       "    </tr>\n",
       "    <tr>\n",
       "      <th>A1043K299ZPBF3</th>\n",
       "      <td>0</td>\n",
       "      <td>0</td>\n",
       "      <td>0</td>\n",
       "      <td>0</td>\n",
       "      <td>0</td>\n",
       "      <td>0</td>\n",
       "      <td>0</td>\n",
       "      <td>0</td>\n",
       "      <td>0</td>\n",
       "      <td>0</td>\n",
       "      <td>...</td>\n",
       "      <td>0</td>\n",
       "      <td>0</td>\n",
       "      <td>0</td>\n",
       "      <td>0</td>\n",
       "      <td>0</td>\n",
       "      <td>0</td>\n",
       "      <td>0</td>\n",
       "      <td>0</td>\n",
       "      <td>0</td>\n",
       "      <td>0</td>\n",
       "    </tr>\n",
       "    <tr>\n",
       "      <th>A104WVBZF2E8RK</th>\n",
       "      <td>0</td>\n",
       "      <td>0</td>\n",
       "      <td>0</td>\n",
       "      <td>0</td>\n",
       "      <td>0</td>\n",
       "      <td>0</td>\n",
       "      <td>0</td>\n",
       "      <td>0</td>\n",
       "      <td>0</td>\n",
       "      <td>0</td>\n",
       "      <td>...</td>\n",
       "      <td>0</td>\n",
       "      <td>0</td>\n",
       "      <td>0</td>\n",
       "      <td>0</td>\n",
       "      <td>0</td>\n",
       "      <td>0</td>\n",
       "      <td>0</td>\n",
       "      <td>0</td>\n",
       "      <td>0</td>\n",
       "      <td>0</td>\n",
       "    </tr>\n",
       "  </tbody>\n",
       "</table>\n",
       "<p>5 rows × 113 columns</p>\n",
       "</div>"
      ],
      "text/plain": [
       "asin                  0140503528  0245109919  0439394058  043949950X  \\\n",
       "reviewerID                                                             \n",
       "A0440970QIFGYIPSB9LS           0           0           0           0   \n",
       "A0776669NZZD6IZI2J5P           0           0           0           0   \n",
       "A101ZOK2TBMRRO                 0           0           0           0   \n",
       "A1043K299ZPBF3                 0           0           0           0   \n",
       "A104WVBZF2E8RK                 0           0           0           0   \n",
       "\n",
       "asin                  0439537886  0439654939  0439731593  0439731771  \\\n",
       "reviewerID                                                             \n",
       "A0440970QIFGYIPSB9LS           0           0           0           0   \n",
       "A0776669NZZD6IZI2J5P           0           0           0           0   \n",
       "A101ZOK2TBMRRO                 0           0           0           0   \n",
       "A1043K299ZPBF3                 0           0           0           0   \n",
       "A104WVBZF2E8RK                 0           0           0           0   \n",
       "\n",
       "asin                  0439784395  0439893577  ...  1412461502  1420623842  \\\n",
       "reviewerID                                    ...                           \n",
       "A0440970QIFGYIPSB9LS           0           0  ...           0           0   \n",
       "A0776669NZZD6IZI2J5P           0           0  ...           0           0   \n",
       "A101ZOK2TBMRRO                 0           0  ...           0           0   \n",
       "A1043K299ZPBF3                 0           0  ...           0           0   \n",
       "A104WVBZF2E8RK                 0           0  ...           0           0   \n",
       "\n",
       "asin                  1420625519  143211901X  143212319X  1439716021  \\\n",
       "reviewerID                                                             \n",
       "A0440970QIFGYIPSB9LS           0           0           0           0   \n",
       "A0776669NZZD6IZI2J5P           0           0           0           0   \n",
       "A101ZOK2TBMRRO                 0           0           0           0   \n",
       "A1043K299ZPBF3                 0           0           0           0   \n",
       "A104WVBZF2E8RK                 0           0           0           0   \n",
       "\n",
       "asin                  1439722056  1439723605  1439723974  1439733848  \n",
       "reviewerID                                                            \n",
       "A0440970QIFGYIPSB9LS           0           0           0           0  \n",
       "A0776669NZZD6IZI2J5P           0           0           0           0  \n",
       "A101ZOK2TBMRRO                 0           0           0           0  \n",
       "A1043K299ZPBF3                 0           0           0           0  \n",
       "A104WVBZF2E8RK                 0           0           0           0  \n",
       "\n",
       "[5 rows x 113 columns]"
      ]
     },
     "execution_count": 30,
     "metadata": {},
     "output_type": "execute_result"
    }
   ],
   "source": [
    "rating_matrix = df1.pivot_table(values='overall',index='reviewerID',columns='asin',fill_value=0)\n",
    "rating_matrix.head()"
   ]
  },
  {
   "cell_type": "markdown",
   "id": "85885c6a",
   "metadata": {},
   "source": [
    "above we have created a pivot table of the rating where the value of the column will overall(rating) and index will be userid and the column name will be asin(product id)"
   ]
  },
  {
   "cell_type": "code",
   "execution_count": 31,
   "id": "c648a23c",
   "metadata": {},
   "outputs": [
    {
     "data": {
      "text/plain": [
       "(6359, 113)"
      ]
     },
     "execution_count": 31,
     "metadata": {},
     "output_type": "execute_result"
    }
   ],
   "source": [
    "rating_matrix.shape"
   ]
  },
  {
   "cell_type": "code",
   "execution_count": 32,
   "id": "d09905c7",
   "metadata": {},
   "outputs": [
    {
     "data": {
      "text/html": [
       "<div>\n",
       "<style scoped>\n",
       "    .dataframe tbody tr th:only-of-type {\n",
       "        vertical-align: middle;\n",
       "    }\n",
       "\n",
       "    .dataframe tbody tr th {\n",
       "        vertical-align: top;\n",
       "    }\n",
       "\n",
       "    .dataframe thead th {\n",
       "        text-align: right;\n",
       "    }\n",
       "</style>\n",
       "<table border=\"1\" class=\"dataframe\">\n",
       "  <thead>\n",
       "    <tr style=\"text-align: right;\">\n",
       "      <th>reviewerID</th>\n",
       "      <th>A0440970QIFGYIPSB9LS</th>\n",
       "      <th>A0776669NZZD6IZI2J5P</th>\n",
       "      <th>A101ZOK2TBMRRO</th>\n",
       "      <th>A1043K299ZPBF3</th>\n",
       "      <th>A104WVBZF2E8RK</th>\n",
       "      <th>A105EIL1JQTKT3</th>\n",
       "      <th>A105U7N378AEMU</th>\n",
       "      <th>A1082P5RC0BHDH</th>\n",
       "      <th>A109IZEXC99W4O</th>\n",
       "      <th>A10BOZ1ZHLXBBG</th>\n",
       "      <th>...</th>\n",
       "      <th>AZLGR17FVO2OY</th>\n",
       "      <th>AZM37TWZI9AZE</th>\n",
       "      <th>AZMVYZV9U2RK1</th>\n",
       "      <th>AZNBLDMT25T4X</th>\n",
       "      <th>AZROB4UNA8ALA</th>\n",
       "      <th>AZS6EGF30IMXK</th>\n",
       "      <th>AZV5O5KBTWN0D</th>\n",
       "      <th>AZY0XLDB3N5AU</th>\n",
       "      <th>AZY6MR9GIMQ4Y</th>\n",
       "      <th>AZZKYP9254H32</th>\n",
       "    </tr>\n",
       "    <tr>\n",
       "      <th>asin</th>\n",
       "      <th></th>\n",
       "      <th></th>\n",
       "      <th></th>\n",
       "      <th></th>\n",
       "      <th></th>\n",
       "      <th></th>\n",
       "      <th></th>\n",
       "      <th></th>\n",
       "      <th></th>\n",
       "      <th></th>\n",
       "      <th></th>\n",
       "      <th></th>\n",
       "      <th></th>\n",
       "      <th></th>\n",
       "      <th></th>\n",
       "      <th></th>\n",
       "      <th></th>\n",
       "      <th></th>\n",
       "      <th></th>\n",
       "      <th></th>\n",
       "      <th></th>\n",
       "    </tr>\n",
       "  </thead>\n",
       "  <tbody>\n",
       "    <tr>\n",
       "      <th>0140503528</th>\n",
       "      <td>0.0</td>\n",
       "      <td>0.0</td>\n",
       "      <td>0.0</td>\n",
       "      <td>0.0</td>\n",
       "      <td>0.0</td>\n",
       "      <td>0.0</td>\n",
       "      <td>0.0</td>\n",
       "      <td>0.0</td>\n",
       "      <td>0.0</td>\n",
       "      <td>0.0</td>\n",
       "      <td>...</td>\n",
       "      <td>0.0</td>\n",
       "      <td>0.0</td>\n",
       "      <td>0.0</td>\n",
       "      <td>0.0</td>\n",
       "      <td>0.0</td>\n",
       "      <td>0.0</td>\n",
       "      <td>2.0</td>\n",
       "      <td>0.0</td>\n",
       "      <td>0.0</td>\n",
       "      <td>0.0</td>\n",
       "    </tr>\n",
       "    <tr>\n",
       "      <th>0245109919</th>\n",
       "      <td>0.0</td>\n",
       "      <td>0.0</td>\n",
       "      <td>0.0</td>\n",
       "      <td>0.0</td>\n",
       "      <td>0.0</td>\n",
       "      <td>0.0</td>\n",
       "      <td>0.0</td>\n",
       "      <td>0.0</td>\n",
       "      <td>0.0</td>\n",
       "      <td>0.0</td>\n",
       "      <td>...</td>\n",
       "      <td>0.0</td>\n",
       "      <td>0.0</td>\n",
       "      <td>0.0</td>\n",
       "      <td>0.0</td>\n",
       "      <td>0.0</td>\n",
       "      <td>0.0</td>\n",
       "      <td>0.0</td>\n",
       "      <td>0.0</td>\n",
       "      <td>0.0</td>\n",
       "      <td>0.0</td>\n",
       "    </tr>\n",
       "    <tr>\n",
       "      <th>0439394058</th>\n",
       "      <td>0.0</td>\n",
       "      <td>0.0</td>\n",
       "      <td>0.0</td>\n",
       "      <td>0.0</td>\n",
       "      <td>0.0</td>\n",
       "      <td>0.0</td>\n",
       "      <td>0.0</td>\n",
       "      <td>0.0</td>\n",
       "      <td>0.0</td>\n",
       "      <td>0.0</td>\n",
       "      <td>...</td>\n",
       "      <td>0.0</td>\n",
       "      <td>0.0</td>\n",
       "      <td>0.0</td>\n",
       "      <td>0.0</td>\n",
       "      <td>0.0</td>\n",
       "      <td>0.0</td>\n",
       "      <td>0.0</td>\n",
       "      <td>0.0</td>\n",
       "      <td>0.0</td>\n",
       "      <td>0.0</td>\n",
       "    </tr>\n",
       "    <tr>\n",
       "      <th>043949950X</th>\n",
       "      <td>0.0</td>\n",
       "      <td>0.0</td>\n",
       "      <td>0.0</td>\n",
       "      <td>0.0</td>\n",
       "      <td>0.0</td>\n",
       "      <td>0.0</td>\n",
       "      <td>0.0</td>\n",
       "      <td>0.0</td>\n",
       "      <td>0.0</td>\n",
       "      <td>0.0</td>\n",
       "      <td>...</td>\n",
       "      <td>0.0</td>\n",
       "      <td>0.0</td>\n",
       "      <td>0.0</td>\n",
       "      <td>0.0</td>\n",
       "      <td>0.0</td>\n",
       "      <td>0.0</td>\n",
       "      <td>0.0</td>\n",
       "      <td>0.0</td>\n",
       "      <td>0.0</td>\n",
       "      <td>0.0</td>\n",
       "    </tr>\n",
       "    <tr>\n",
       "      <th>0439537886</th>\n",
       "      <td>0.0</td>\n",
       "      <td>0.0</td>\n",
       "      <td>0.0</td>\n",
       "      <td>0.0</td>\n",
       "      <td>0.0</td>\n",
       "      <td>0.0</td>\n",
       "      <td>0.0</td>\n",
       "      <td>0.0</td>\n",
       "      <td>0.0</td>\n",
       "      <td>0.0</td>\n",
       "      <td>...</td>\n",
       "      <td>0.0</td>\n",
       "      <td>0.0</td>\n",
       "      <td>0.0</td>\n",
       "      <td>0.0</td>\n",
       "      <td>0.0</td>\n",
       "      <td>0.0</td>\n",
       "      <td>0.0</td>\n",
       "      <td>0.0</td>\n",
       "      <td>0.0</td>\n",
       "      <td>0.0</td>\n",
       "    </tr>\n",
       "  </tbody>\n",
       "</table>\n",
       "<p>5 rows × 6359 columns</p>\n",
       "</div>"
      ],
      "text/plain": [
       "reviewerID  A0440970QIFGYIPSB9LS  A0776669NZZD6IZI2J5P  A101ZOK2TBMRRO  \\\n",
       "asin                                                                     \n",
       "0140503528                   0.0                   0.0             0.0   \n",
       "0245109919                   0.0                   0.0             0.0   \n",
       "0439394058                   0.0                   0.0             0.0   \n",
       "043949950X                   0.0                   0.0             0.0   \n",
       "0439537886                   0.0                   0.0             0.0   \n",
       "\n",
       "reviewerID  A1043K299ZPBF3  A104WVBZF2E8RK  A105EIL1JQTKT3  A105U7N378AEMU  \\\n",
       "asin                                                                         \n",
       "0140503528             0.0             0.0             0.0             0.0   \n",
       "0245109919             0.0             0.0             0.0             0.0   \n",
       "0439394058             0.0             0.0             0.0             0.0   \n",
       "043949950X             0.0             0.0             0.0             0.0   \n",
       "0439537886             0.0             0.0             0.0             0.0   \n",
       "\n",
       "reviewerID  A1082P5RC0BHDH  A109IZEXC99W4O  A10BOZ1ZHLXBBG  ...  \\\n",
       "asin                                                        ...   \n",
       "0140503528             0.0             0.0             0.0  ...   \n",
       "0245109919             0.0             0.0             0.0  ...   \n",
       "0439394058             0.0             0.0             0.0  ...   \n",
       "043949950X             0.0             0.0             0.0  ...   \n",
       "0439537886             0.0             0.0             0.0  ...   \n",
       "\n",
       "reviewerID  AZLGR17FVO2OY  AZM37TWZI9AZE  AZMVYZV9U2RK1  AZNBLDMT25T4X  \\\n",
       "asin                                                                     \n",
       "0140503528            0.0            0.0            0.0            0.0   \n",
       "0245109919            0.0            0.0            0.0            0.0   \n",
       "0439394058            0.0            0.0            0.0            0.0   \n",
       "043949950X            0.0            0.0            0.0            0.0   \n",
       "0439537886            0.0            0.0            0.0            0.0   \n",
       "\n",
       "reviewerID  AZROB4UNA8ALA  AZS6EGF30IMXK  AZV5O5KBTWN0D  AZY0XLDB3N5AU  \\\n",
       "asin                                                                     \n",
       "0140503528            0.0            0.0            2.0            0.0   \n",
       "0245109919            0.0            0.0            0.0            0.0   \n",
       "0439394058            0.0            0.0            0.0            0.0   \n",
       "043949950X            0.0            0.0            0.0            0.0   \n",
       "0439537886            0.0            0.0            0.0            0.0   \n",
       "\n",
       "reviewerID  AZY6MR9GIMQ4Y  AZZKYP9254H32  \n",
       "asin                                      \n",
       "0140503528            0.0            0.0  \n",
       "0245109919            0.0            0.0  \n",
       "0439394058            0.0            0.0  \n",
       "043949950X            0.0            0.0  \n",
       "0439537886            0.0            0.0  \n",
       "\n",
       "[5 rows x 6359 columns]"
      ]
     },
     "execution_count": 32,
     "metadata": {},
     "output_type": "execute_result"
    }
   ],
   "source": [
    "# transpose\n",
    "x_rating_matrix = rating_matrix.T\n",
    "x_rating_matrix.head()"
   ]
  },
  {
   "cell_type": "code",
   "execution_count": 33,
   "id": "18164d92",
   "metadata": {},
   "outputs": [
    {
     "data": {
      "text/plain": [
       "(113, 6359)"
      ]
     },
     "execution_count": 33,
     "metadata": {},
     "output_type": "execute_result"
    }
   ],
   "source": [
    "x_rating_matrix.shape"
   ]
  },
  {
   "cell_type": "code",
   "execution_count": 34,
   "id": "6a44bfa0",
   "metadata": {},
   "outputs": [],
   "source": [
    "# Decomposition of the matrix\n",
    "from sklearn.decomposition import TruncatedSVD"
   ]
  },
  {
   "cell_type": "code",
   "execution_count": 35,
   "id": "b88a2acb",
   "metadata": {},
   "outputs": [
    {
     "data": {
      "text/plain": [
       "(113, 10)"
      ]
     },
     "execution_count": 35,
     "metadata": {},
     "output_type": "execute_result"
    }
   ],
   "source": [
    "SVD = TruncatedSVD(n_components=10)\n",
    "decomposed_matrix = SVD.fit_transform(x_rating_matrix)\n",
    "decomposed_matrix.shape"
   ]
  },
  {
   "cell_type": "code",
   "execution_count": 36,
   "id": "f7b7a77a",
   "metadata": {},
   "outputs": [
    {
     "data": {
      "text/plain": [
       "(113, 113)"
      ]
     },
     "execution_count": 36,
     "metadata": {},
     "output_type": "execute_result"
    }
   ],
   "source": [
    "#corelation matrix\n",
    "correlation_matrix = np.corrcoef(decomposed_matrix)\n",
    "correlation_matrix.shape"
   ]
  },
  {
   "cell_type": "code",
   "execution_count": 37,
   "id": "d7d223f1",
   "metadata": {},
   "outputs": [
    {
     "data": {
      "text/plain": [
       "'0439899095'"
      ]
     },
     "execution_count": 37,
     "metadata": {},
     "output_type": "execute_result"
    }
   ],
   "source": [
    "x_rating_matrix.index[10]"
   ]
  },
  {
   "cell_type": "code",
   "execution_count": 44,
   "id": "eb8a2856",
   "metadata": {},
   "outputs": [
    {
     "name": "stdout",
     "output_type": "stream",
     "text": [
      "10\n"
     ]
    }
   ],
   "source": [
    "i=\"0439899095\"\n",
    "product_name = list(x_rating_matrix.index)\n",
    "product_id = product_name.index(i)\n",
    "print(product_id)"
   ]
  },
  {
   "cell_type": "code",
   "execution_count": 47,
   "id": "ff059f98",
   "metadata": {},
   "outputs": [
    {
     "data": {
      "text/plain": [
       "(113,)"
      ]
     },
     "execution_count": 47,
     "metadata": {},
     "output_type": "execute_result"
    }
   ],
   "source": [
    "correlation_product_id = correlation_matrix[product_id]\n",
    "correlation_product_id.shape"
   ]
  },
  {
   "cell_type": "code",
   "execution_count": 48,
   "id": "7b7c4e9d",
   "metadata": {},
   "outputs": [
    {
     "data": {
      "text/plain": [
       "(27, 113)"
      ]
     },
     "execution_count": 48,
     "metadata": {},
     "output_type": "execute_result"
    }
   ],
   "source": [
    "correlation_matrix[correlation_product_id>0.85].shape"
   ]
  },
  {
   "cell_type": "code",
   "execution_count": 53,
   "id": "38753ff3",
   "metadata": {},
   "outputs": [
    {
     "data": {
      "text/plain": [
       "['0439731593',\n",
       " '0439899095',\n",
       " '0545114802',\n",
       " '0545114829',\n",
       " '0545161177',\n",
       " '0545301564',\n",
       " '0629150591',\n",
       " '0641079605',\n",
       " '0792293177',\n",
       " '098451631X']"
      ]
     },
     "execution_count": 53,
     "metadata": {},
     "output_type": "execute_result"
    }
   ],
   "source": [
    "#reccomending top 20 highly correlated products in sequence\n",
    "recommend = list(x_rating_matrix.index[correlation_product_id > 0.95])\n",
    "recommend[:20]"
   ]
  },
  {
   "cell_type": "code",
   "execution_count": null,
   "id": "db787d50",
   "metadata": {},
   "outputs": [],
   "source": []
  }
 ],
 "metadata": {
  "kernelspec": {
   "display_name": "Python 3 (ipykernel)",
   "language": "python",
   "name": "python3"
  },
  "language_info": {
   "codemirror_mode": {
    "name": "ipython",
    "version": 3
   },
   "file_extension": ".py",
   "mimetype": "text/x-python",
   "name": "python",
   "nbconvert_exporter": "python",
   "pygments_lexer": "ipython3",
   "version": "3.10.9"
  }
 },
 "nbformat": 4,
 "nbformat_minor": 5
}
