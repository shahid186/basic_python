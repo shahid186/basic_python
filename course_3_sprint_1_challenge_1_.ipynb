{
 "cells": [
  {
   "cell_type": "markdown",
   "id": "ed673256",
   "metadata": {},
   "source": [
    "# challenge1 sprint1 challenge"
   ]
  },
  {
   "cell_type": "code",
   "execution_count": 1,
   "id": "4dbeaf20",
   "metadata": {},
   "outputs": [
    {
     "name": "stdout",
     "output_type": "stream",
     "text": [
      "113.04\n"
     ]
    }
   ],
   "source": [
    "area_of_circle=3.14*6**2#area of circle is 3.14*r^2\n",
    "print(area_of_circle)"
   ]
  },
  {
   "cell_type": "code",
   "execution_count": 5,
   "id": "f563e0fc",
   "metadata": {},
   "outputs": [
    {
     "name": "stdout",
     "output_type": "stream",
     "text": [
      "113.04\n"
     ]
    }
   ],
   "source": [
    "area_of_circle=3.14*6**2\n",
    "print(area_of_circle)"
   ]
  },
  {
   "cell_type": "code",
   "execution_count": null,
   "id": "53b37d8a",
   "metadata": {},
   "outputs": [],
   "source": []
  },
  {
   "cell_type": "code",
   "execution_count": null,
   "id": "7fc44407",
   "metadata": {},
   "outputs": [],
   "source": []
  },
  {
   "cell_type": "code",
   "execution_count": 5,
   "id": "4186cee3",
   "metadata": {},
   "outputs": [
    {
     "name": "stdout",
     "output_type": "stream",
     "text": [
      "area of circle = 113.04\n"
     ]
    }
   ],
   "source": [
    "are_of_circle=3.14*6**2\n",
    "print('area of circle =',are_of_circle)\n"
   ]
  },
  {
   "cell_type": "code",
   "execution_count": null,
   "id": "6f5d8586",
   "metadata": {},
   "outputs": [],
   "source": []
  },
  {
   "cell_type": "code",
   "execution_count": 1,
   "id": "49aab6cf",
   "metadata": {},
   "outputs": [
    {
     "name": "stdout",
     "output_type": "stream",
     "text": [
      "113.03999999999999\n"
     ]
    }
   ],
   "source": [
    "a=3.14*6*6\n",
    "print(a)"
   ]
  },
  {
   "cell_type": "code",
   "execution_count": 1,
   "id": "867dbd0a",
   "metadata": {},
   "outputs": [
    {
     "name": "stdout",
     "output_type": "stream",
     "text": [
      "37.68\n"
     ]
    }
   ],
   "source": [
    "area_of_Circel=3.14*6*2\n",
    "print(area_of_Circel)"
   ]
  },
  {
   "cell_type": "code",
   "execution_count": null,
   "id": "f265615d",
   "metadata": {},
   "outputs": [],
   "source": []
  },
  {
   "cell_type": "markdown",
   "id": "30431d4f",
   "metadata": {},
   "source": [
    "# challenge2"
   ]
  },
  {
   "cell_type": "code",
   "execution_count": 2,
   "id": "8948e3f4",
   "metadata": {},
   "outputs": [],
   "source": [
    "selling_price=85\n",
    "sales_tax=18/100\n"
   ]
  },
  {
   "cell_type": "code",
   "execution_count": 3,
   "id": "a74edb5e",
   "metadata": {},
   "outputs": [
    {
     "name": "stdout",
     "output_type": "stream",
     "text": [
      "15.299999999999999\n"
     ]
    }
   ],
   "source": [
    "tax=selling_price*sales_tax\n",
    "print(tax)"
   ]
  },
  {
   "cell_type": "code",
   "execution_count": 4,
   "id": "f7885fc9",
   "metadata": {},
   "outputs": [
    {
     "name": "stdout",
     "output_type": "stream",
     "text": [
      "100.3\n"
     ]
    }
   ],
   "source": [
    "total_inclusive_tax=(selling_price+tax)\n",
    "print(total_inclusive_tax)"
   ]
  },
  {
   "cell_type": "markdown",
   "id": "4175f675",
   "metadata": {},
   "source": [
    "# challenge3"
   ]
  },
  {
   "cell_type": "code",
   "execution_count": 5,
   "id": "46427595",
   "metadata": {},
   "outputs": [],
   "source": [
    "_1dollar=75#1doller=75ruoees\n",
    "money=3333"
   ]
  },
  {
   "cell_type": "code",
   "execution_count": null,
   "id": "6a6f3df2",
   "metadata": {},
   "outputs": [],
   "source": []
  },
  {
   "cell_type": "code",
   "execution_count": 9,
   "id": "c7b5fcf0",
   "metadata": {},
   "outputs": [
    {
     "data": {
      "text/plain": [
       "5500.0"
      ]
     },
     "execution_count": 9,
     "metadata": {},
     "output_type": "execute_result"
    }
   ],
   "source": [
    "11000/2"
   ]
  },
  {
   "cell_type": "code",
   "execution_count": 5,
   "id": "1dcf0e0d",
   "metadata": {},
   "outputs": [
    {
     "data": {
      "text/plain": [
       "142"
      ]
     },
     "execution_count": 5,
     "metadata": {},
     "output_type": "execute_result"
    }
   ],
   "source": [
    "1000//7"
   ]
  },
  {
   "cell_type": "code",
   "execution_count": 6,
   "id": "343b7d83",
   "metadata": {},
   "outputs": [
    {
     "data": {
      "text/plain": [
       "44.44"
      ]
     },
     "execution_count": 6,
     "metadata": {},
     "output_type": "execute_result"
    }
   ],
   "source": [
    "3333/75"
   ]
  },
  {
   "cell_type": "markdown",
   "id": "ab13be81",
   "metadata": {},
   "source": [
    "# challenge4"
   ]
  },
  {
   "cell_type": "code",
   "execution_count": 7,
   "id": "1f16b009",
   "metadata": {},
   "outputs": [
    {
     "name": "stdout",
     "output_type": "stream",
     "text": [
      "467.2897196261682\n"
     ]
    }
   ],
   "source": [
    "inflation=7/100\n",
    "INR=500\n",
    "purchasing_power=INR*100/107\n",
    "print(purchasing_power)"
   ]
  },
  {
   "cell_type": "markdown",
   "id": "0d44fed9",
   "metadata": {},
   "source": [
    "# challenge5"
   ]
  },
  {
   "cell_type": "code",
   "execution_count": 8,
   "id": "fbbfc523",
   "metadata": {},
   "outputs": [
    {
     "name": "stdout",
     "output_type": "stream",
     "text": [
      "enter your name..shahid\n",
      "enter your language..python\n",
      "Hello I'm shahid I'm learning python\n"
     ]
    }
   ],
   "source": [
    "name=input(\"enter your name..\")\n",
    "language=input(\"enter your language..\")\n",
    "print('Hello I\\'m {} I\\'m learning {}'.format(name,language))\n",
    "                                        \n"
   ]
  },
  {
   "cell_type": "code",
   "execution_count": 1,
   "id": "3e9136c1",
   "metadata": {},
   "outputs": [
    {
     "name": "stdout",
     "output_type": "stream",
     "text": [
      "enter your nameshahid\n",
      "enter the languarenazir\n",
      "hell i/m shahid i a/m learning nazir\n"
     ]
    }
   ],
   "source": [
    "b=input('enter your name')\n",
    "l=input('enter the languare')\n",
    "print('hell i/m {} i a/m learning {}'.format(b,l))"
   ]
  },
  {
   "cell_type": "code",
   "execution_count": null,
   "id": "b8bd1406",
   "metadata": {},
   "outputs": [],
   "source": []
  },
  {
   "cell_type": "code",
   "execution_count": null,
   "id": "7652134a",
   "metadata": {},
   "outputs": [],
   "source": []
  },
  {
   "cell_type": "code",
   "execution_count": 2,
   "id": "dbc04b37",
   "metadata": {},
   "outputs": [
    {
     "name": "stdout",
     "output_type": "stream",
     "text": [
      "enter your nameshahid\n",
      "enter the languagelanguage\n",
      "hello i\\m shahid i\\m learnig language\n"
     ]
    }
   ],
   "source": [
    "n=input('enter your name')\n",
    "l=input('enter the language')\n",
    "print('hello i\\m {} i\\m learnig {}'.format(n,l))"
   ]
  },
  {
   "cell_type": "code",
   "execution_count": 11,
   "id": "cb4a06b4",
   "metadata": {},
   "outputs": [
    {
     "name": "stdout",
     "output_type": "stream",
     "text": [
      "enter my nameshahid\n",
      "enter my languagekashmiri\n",
      "hello i am shahid and i am learning kashmiri\n"
     ]
    }
   ],
   "source": [
    "n=input('enter my name')\n",
    "language=input('enter my language')\n",
    "print('hello i am {} and i am learning {}'.format(n,language))"
   ]
  },
  {
   "cell_type": "code",
   "execution_count": null,
   "id": "73006057",
   "metadata": {},
   "outputs": [],
   "source": []
  },
  {
   "cell_type": "code",
   "execution_count": null,
   "id": "abf2a2ae",
   "metadata": {},
   "outputs": [],
   "source": []
  },
  {
   "cell_type": "code",
   "execution_count": 2,
   "id": "95e452a6",
   "metadata": {},
   "outputs": [
    {
     "name": "stdout",
     "output_type": "stream",
     "text": [
      "enter the nameshahid\n",
      "enter your languagepython\n",
      "hello i am shahid i am learning python\n"
     ]
    }
   ],
   "source": [
    "n=input('enter the name')\n",
    "h=input('enter your language')\n",
    "print('hello i am {} i am learning {}'.format(n,h))"
   ]
  },
  {
   "cell_type": "code",
   "execution_count": 2,
   "id": "9e082813",
   "metadata": {},
   "outputs": [
    {
     "name": "stdout",
     "output_type": "stream",
     "text": [
      "enter the nameshahid\n",
      "enter your languagenazir bhat\n",
      "hello i'm shahid i'm learning nazir bhat\n"
     ]
    }
   ],
   "source": [
    "name=input('enter the name')\n",
    "language=input('enter your language')\n",
    "print('hello i\\'m {} i\\'m learning {}'.format(name,language))"
   ]
  },
  {
   "cell_type": "code",
   "execution_count": 3,
   "id": "b982f001",
   "metadata": {},
   "outputs": [
    {
     "name": "stdout",
     "output_type": "stream",
     "text": [
      "enter the nameshahid \n",
      "enter the languagepython\n",
      "hello i'm shahid  i'm learning python\n"
     ]
    }
   ],
   "source": [
    "n=input('enter the name')\n",
    "m=input('enter the language')\n",
    "print('hello i\\'m {} i\\'m learning {}'.format(n,m))"
   ]
  },
  {
   "cell_type": "code",
   "execution_count": 4,
   "id": "98abb0cd",
   "metadata": {},
   "outputs": [
    {
     "name": "stdout",
     "output_type": "stream",
     "text": [
      "enter the nameshahid\n",
      "enter the languageirtiza\n",
      "my name is shahid and my love is irtiza\n"
     ]
    }
   ],
   "source": [
    "v=input('enter the name')\n",
    "s=input('enter the language')\n",
    "print('my name is {} and my love is {}'.format(v,s))"
   ]
  },
  {
   "cell_type": "code",
   "execution_count": 5,
   "id": "25b4a538",
   "metadata": {},
   "outputs": [
    {
     "name": "stdout",
     "output_type": "stream",
     "text": [
      "enter the nameshhaid\n",
      "my loveirtiza\n",
      "my name is shhaid and my love is irtiza\n"
     ]
    }
   ],
   "source": [
    "c=input('enter the name')\n",
    "v=input('my love')\n",
    "print('my name is {} and my love is {}'.format(c,v))"
   ]
  },
  {
   "cell_type": "code",
   "execution_count": null,
   "id": "491e74fc",
   "metadata": {},
   "outputs": [],
   "source": []
  },
  {
   "cell_type": "code",
   "execution_count": null,
   "id": "355195cd",
   "metadata": {},
   "outputs": [],
   "source": []
  },
  {
   "cell_type": "code",
   "execution_count": null,
   "id": "3f19fc3d",
   "metadata": {},
   "outputs": [],
   "source": []
  },
  {
   "cell_type": "code",
   "execution_count": null,
   "id": "9b2d6004",
   "metadata": {},
   "outputs": [],
   "source": []
  },
  {
   "cell_type": "code",
   "execution_count": 3,
   "id": "a4c05225",
   "metadata": {},
   "outputs": [
    {
     "name": "stdout",
     "output_type": "stream",
     "text": [
      "what is youtr nameshahid\n",
      "what ids your love nameiriza\n",
      "my name is shahid and my love is iriza\n"
     ]
    }
   ],
   "source": [
    "m=input('what is youtr name')\n",
    "n=input('what ids your love name')\n",
    "print('my name is {} and my love is {}'.format(m,n))"
   ]
  },
  {
   "cell_type": "code",
   "execution_count": 6,
   "id": "d89674d3",
   "metadata": {},
   "outputs": [],
   "source": [
    "import numpy as np"
   ]
  },
  {
   "cell_type": "code",
   "execution_count": 8,
   "id": "1f67881a",
   "metadata": {},
   "outputs": [
    {
     "data": {
      "text/plain": [
       "array([   1,    2,    3, ..., 9997, 9998, 9999])"
      ]
     },
     "execution_count": 8,
     "metadata": {},
     "output_type": "execute_result"
    }
   ],
   "source": [
    "b=np.arange(1,10000,1)\n",
    "b"
   ]
  },
  {
   "cell_type": "code",
   "execution_count": 7,
   "id": "8241573a",
   "metadata": {},
   "outputs": [
    {
     "name": "stdout",
     "output_type": "stream",
     "text": [
      "enter my nameshahid\n",
      "enter the languageirtiza\n",
      "i am shahid and i am learning irtiza\n"
     ]
    }
   ],
   "source": [
    "name=input('enter my name')\n",
    "lang=input('enter the language')\n",
    "print('i am {} and i am learning {}'.format(name,lang))"
   ]
  },
  {
   "cell_type": "code",
   "execution_count": 1,
   "id": "80eb584d",
   "metadata": {},
   "outputs": [
    {
     "name": "stdout",
     "output_type": "stream",
     "text": [
      "enter my nameshahid\n",
      "enter my langaagepython\n",
      "i am shahid and i am learning python\n"
     ]
    }
   ],
   "source": [
    "name=input('enter my name')\n",
    "language=input('enter my langaage')\n",
    "print('i am {} and i am learning {}'.format(name,language))"
   ]
  },
  {
   "cell_type": "code",
   "execution_count": 9,
   "id": "e5af09d6",
   "metadata": {},
   "outputs": [
    {
     "name": "stdout",
     "output_type": "stream",
     "text": [
      "enter the nameshahid\n",
      "enter the languageirtiza\n",
      "my name is shahid and my love is irtiza\n"
     ]
    }
   ],
   "source": [
    "name=input('enter the name')\n",
    "language=input('enter the language')\n",
    "print('my name is {} and my love is {}'.format(name,language))"
   ]
  },
  {
   "cell_type": "code",
   "execution_count": null,
   "id": "d0803fe6",
   "metadata": {},
   "outputs": [],
   "source": []
  },
  {
   "cell_type": "code",
   "execution_count": 1,
   "id": "e897d61e",
   "metadata": {},
   "outputs": [
    {
     "name": "stdout",
     "output_type": "stream",
     "text": [
      "enter your nameshahid\n",
      "enter your languagekashmiri\n",
      "hello i am shahid  i am learning kashmiri\n"
     ]
    }
   ],
   "source": [
    "name=input('enter your name')\n",
    "language=input('enter your language')\n",
    "print('hello i am {}  i am learning {}'.format(name,language))"
   ]
  },
  {
   "cell_type": "code",
   "execution_count": null,
   "id": "d9d5dd46",
   "metadata": {},
   "outputs": [],
   "source": []
  },
  {
   "cell_type": "code",
   "execution_count": 2,
   "id": "79d6b952",
   "metadata": {},
   "outputs": [
    {
     "name": "stdout",
     "output_type": "stream",
     "text": [
      "enter your name..shahid\n",
      "enter the namesql\n",
      "hello i/a shahid,i\u0007 learning sql\n"
     ]
    }
   ],
   "source": [
    "name=input('enter your name..')\n",
    "language=input('enter the name')\n",
    "print('hello i/a {},i\\a learning {}'.format(name,language))"
   ]
  },
  {
   "cell_type": "code",
   "execution_count": 1,
   "id": "1084fda4",
   "metadata": {},
   "outputs": [
    {
     "name": "stdout",
     "output_type": "stream",
     "text": [
      "enter your name..shahid\n",
      "enter your name..python\n",
      "hello i\\m shahid i\\m learning python\n"
     ]
    }
   ],
   "source": [
    "name=input('enter your name..')\n",
    "language=input('enter your name..')\n",
    "print('hello i\\m {} i\\m learning {}'.format(name,language))"
   ]
  },
  {
   "cell_type": "markdown",
   "id": "8bce5f11",
   "metadata": {},
   "source": [
    "# challenge6"
   ]
  },
  {
   "cell_type": "code",
   "execution_count": 31,
   "id": "4c9e3477",
   "metadata": {
    "scrolled": false
   },
   "outputs": [
    {
     "name": "stdout",
     "output_type": "stream",
     "text": [
      "principal amount: 10000\n",
      "rate of intrest : 6\n",
      "time : 2\n",
      "\\simple intrest for principal amount10000.0=1200.0\n"
     ]
    }
   ],
   "source": [
    "p=float(input('principal amount: '))\n",
    "r=float(input('rate of intrest : '))\n",
    "t=float(input('time : '))\n",
    "si=(p*r*t)/100\n",
    "print(\"\\simple intrest for principal amount{0}={1}\".format(p,si))\n",
    "\n"
   ]
  },
  {
   "cell_type": "code",
   "execution_count": null,
   "id": "382971b0",
   "metadata": {},
   "outputs": [],
   "source": []
  },
  {
   "cell_type": "code",
   "execution_count": null,
   "id": "4ec31785",
   "metadata": {},
   "outputs": [],
   "source": []
  },
  {
   "cell_type": "code",
   "execution_count": null,
   "id": "62f60394",
   "metadata": {},
   "outputs": [],
   "source": []
  },
  {
   "cell_type": "code",
   "execution_count": 14,
   "id": "ad10e25a",
   "metadata": {},
   "outputs": [
    {
     "name": "stdout",
     "output_type": "stream",
     "text": [
      "principal amount:500\n",
      "rate of intrest:7\n",
      "time :5\n",
      "175.0\n"
     ]
    }
   ],
   "source": [
    "p=float(input('principal amount:'))\n",
    "r=float(input('rate of intrest:'))\n",
    "t=float(input('time :'))\n",
    "si=(p*r*t)/100\n",
    "print(si)"
   ]
  },
  {
   "cell_type": "code",
   "execution_count": null,
   "id": "0b846e2b",
   "metadata": {},
   "outputs": [],
   "source": []
  },
  {
   "cell_type": "code",
   "execution_count": null,
   "id": "d279b019",
   "metadata": {},
   "outputs": [],
   "source": []
  },
  {
   "cell_type": "markdown",
   "id": "83f42d95",
   "metadata": {},
   "source": [
    "# challenge7"
   ]
  },
  {
   "cell_type": "code",
   "execution_count": 8,
   "id": "130851be",
   "metadata": {},
   "outputs": [
    {
     "name": "stdout",
     "output_type": "stream",
     "text": [
      "principal amount :50000\n",
      "rate of intrest :5.6\n",
      "time :15\n",
      "amount: 113221.46689695706\n",
      "compund intrest for given value: 63221.46689695706\n"
     ]
    }
   ],
   "source": [
    "p=int(input(\"principal amount :\"))\n",
    "r=float(input(\"rate of intrest :\"))\n",
    "t=int(input(\"time :\"))\n",
    "a=p*(1+r/100)**t\n",
    "print('amount:',a) \n",
    "print('compund intrest for given value:',a-p)   \n",
    "\n"
   ]
  },
  {
   "cell_type": "code",
   "execution_count": 2,
   "id": "47c0938e",
   "metadata": {},
   "outputs": [
    {
     "name": "stdout",
     "output_type": "stream",
     "text": [
      "principal amount34\n",
      "rate2\n",
      "time1\n"
     ]
    }
   ],
   "source": [
    "p=int(input('principal amount'))\n",
    "r=int(input('rate'))\n",
    "t=int(input('time'))\n",
    "a=p*(1+r/100)**t\n",
    "\n",
    "\n",
    "\n",
    "\n",
    "\n"
   ]
  },
  {
   "cell_type": "markdown",
   "id": "b747d701",
   "metadata": {},
   "source": [
    "# challenge8"
   ]
  },
  {
   "cell_type": "code",
   "execution_count": 28,
   "id": "97ef959a",
   "metadata": {},
   "outputs": [
    {
     "name": "stdout",
     "output_type": "stream",
     "text": [
      "value of num_var1 : 43\n",
      "value of num_var2 : 50\n"
     ]
    }
   ],
   "source": [
    "num_var1=50\n",
    "num_var2=43\n",
    "num_var1,num_var2=num_var2,num_var1\n",
    "print(\"value of num_var1 :\",num_var1)\n",
    "print(\"value of num_var2 :\",num_var2)"
   ]
  },
  {
   "cell_type": "code",
   "execution_count": 12,
   "id": "bace1cd4",
   "metadata": {},
   "outputs": [
    {
     "name": "stdout",
     "output_type": "stream",
     "text": [
      "value of m 345\n",
      "value of d 345\n"
     ]
    }
   ],
   "source": [
    "m=33\n",
    "d=345\n",
    "m=d\n",
    "print('value of m',m)\n",
    "print('value of d',d)"
   ]
  },
  {
   "cell_type": "code",
   "execution_count": 9,
   "id": "d0147a91",
   "metadata": {},
   "outputs": [
    {
     "name": "stdout",
     "output_type": "stream",
     "text": [
      "877\n",
      "34\n"
     ]
    }
   ],
   "source": [
    "m=34\n",
    "n=877\n",
    "m,n=n,m\n",
    "print(m)\n",
    "print(n)"
   ]
  },
  {
   "cell_type": "code",
   "execution_count": 15,
   "id": "d97e6974",
   "metadata": {},
   "outputs": [
    {
     "name": "stdout",
     "output_type": "stream",
     "text": [
      "value of num_var1: 43\n",
      "value of num_var2: 50\n"
     ]
    }
   ],
   "source": [
    "num_var1=50\n",
    "num_var2=43\n",
    "num_var1,num_var2=num_var2,num_var1\n",
    "print('value of num_var1:',num_var1)\n",
    "print('value of num_var2:',num_var2)"
   ]
  },
  {
   "cell_type": "code",
   "execution_count": null,
   "id": "f8e6cfab",
   "metadata": {},
   "outputs": [],
   "source": []
  },
  {
   "cell_type": "code",
   "execution_count": null,
   "id": "2a00fbb2",
   "metadata": {},
   "outputs": [],
   "source": []
  },
  {
   "cell_type": "code",
   "execution_count": null,
   "id": "90107bbc",
   "metadata": {},
   "outputs": [],
   "source": []
  },
  {
   "cell_type": "code",
   "execution_count": 2,
   "id": "e75b2132",
   "metadata": {},
   "outputs": [
    {
     "name": "stdout",
     "output_type": "stream",
     "text": [
      "99\n",
      "9\n"
     ]
    }
   ],
   "source": [
    "n=9\n",
    "m=99\n",
    "n,m=m,n\n",
    "print(n)\n",
    "print(m)"
   ]
  },
  {
   "cell_type": "code",
   "execution_count": 16,
   "id": "b0d0604c",
   "metadata": {},
   "outputs": [
    {
     "name": "stdout",
     "output_type": "stream",
     "text": [
      "677\n",
      "99\n"
     ]
    }
   ],
   "source": [
    "b=99\n",
    "v=677\n",
    "b,v=v,b\n",
    "print(b)\n",
    "print(v)"
   ]
  },
  {
   "cell_type": "code",
   "execution_count": null,
   "id": "0d667bc0",
   "metadata": {},
   "outputs": [],
   "source": []
  },
  {
   "cell_type": "code",
   "execution_count": 4,
   "id": "32a5ba98",
   "metadata": {},
   "outputs": [
    {
     "name": "stdout",
     "output_type": "stream",
     "text": [
      "88 50\n"
     ]
    }
   ],
   "source": [
    "num_var1=50\n",
    "num_var2=88\n",
    "num_var1,num_var2=num_var2,num_var1\n",
    "print(num_var1,num_var2)"
   ]
  },
  {
   "cell_type": "code",
   "execution_count": 5,
   "id": "a5df6560",
   "metadata": {},
   "outputs": [
    {
     "name": "stdout",
     "output_type": "stream",
     "text": [
      "97 88\n"
     ]
    }
   ],
   "source": [
    "n=88\n",
    "l=97\n",
    "n,l=l,n\n",
    "print(n,l)"
   ]
  },
  {
   "cell_type": "code",
   "execution_count": null,
   "id": "bf1f4815",
   "metadata": {},
   "outputs": [],
   "source": []
  },
  {
   "cell_type": "code",
   "execution_count": null,
   "id": "7c14cb00",
   "metadata": {},
   "outputs": [],
   "source": []
  },
  {
   "cell_type": "code",
   "execution_count": null,
   "id": "91f7b6f8",
   "metadata": {},
   "outputs": [],
   "source": []
  },
  {
   "cell_type": "code",
   "execution_count": null,
   "id": "0c58a120",
   "metadata": {},
   "outputs": [],
   "source": []
  },
  {
   "cell_type": "code",
   "execution_count": null,
   "id": "e91285f2",
   "metadata": {},
   "outputs": [],
   "source": []
  },
  {
   "cell_type": "code",
   "execution_count": null,
   "id": "607c3d11",
   "metadata": {},
   "outputs": [],
   "source": []
  },
  {
   "cell_type": "markdown",
   "id": "8867e12c",
   "metadata": {},
   "source": [
    "# challenge9"
   ]
  },
  {
   "cell_type": "code",
   "execution_count": 10,
   "id": "c82b2b2d",
   "metadata": {},
   "outputs": [
    {
     "name": "stdout",
     "output_type": "stream",
     "text": [
      "enter distance in km:3\n",
      " the distance in miles: 1.8641135699999998\n"
     ]
    }
   ],
   "source": [
    "x=int(input('enter distance in km:'))\n",
    "y=x*0.62137119\n",
    "print(' the distance in miles:',y)"
   ]
  },
  {
   "cell_type": "code",
   "execution_count": 18,
   "id": "3e3d7899",
   "metadata": {},
   "outputs": [
    {
     "name": "stdout",
     "output_type": "stream",
     "text": [
      "enter the distance in km:7\n",
      "the distance in miles: 6.052044599999999\n"
     ]
    }
   ],
   "source": [
    "c=int(input('enter the distance in km:'))\n",
    "y=c*0.8645778\n",
    "print('the distance in miles:',y)"
   ]
  },
  {
   "cell_type": "code",
   "execution_count": 19,
   "id": "a1b40bca",
   "metadata": {},
   "outputs": [
    {
     "name": "stdout",
     "output_type": "stream",
     "text": [
      "enter the distance in km :9\n",
      "the distance in miles : 4.11102\n"
     ]
    }
   ],
   "source": [
    "x=int(input('enter the distance in km :'))\n",
    "u=x*0.45678\n",
    "print('the distance in miles :',u)"
   ]
  },
  {
   "cell_type": "code",
   "execution_count": null,
   "id": "f3bd470f",
   "metadata": {},
   "outputs": [],
   "source": []
  },
  {
   "cell_type": "code",
   "execution_count": null,
   "id": "b08124d2",
   "metadata": {},
   "outputs": [],
   "source": []
  },
  {
   "cell_type": "markdown",
   "id": "9a861ef4",
   "metadata": {},
   "source": [
    "# challenge10\n"
   ]
  },
  {
   "cell_type": "code",
   "execution_count": 12,
   "id": "b9225b37",
   "metadata": {},
   "outputs": [
    {
     "name": "stdout",
     "output_type": "stream",
     "text": [
      "2*1= 2\n"
     ]
    }
   ],
   "source": [
    "a=2\n",
    "print('{}*1='.format(a),a*1)"
   ]
  },
  {
   "cell_type": "code",
   "execution_count": 19,
   "id": "0e565d8d",
   "metadata": {},
   "outputs": [
    {
     "name": "stdout",
     "output_type": "stream",
     "text": [
      "2*2= 4\n"
     ]
    }
   ],
   "source": [
    "a=2\n",
    "print('{}*2='.format(a),a*2)"
   ]
  },
  {
   "cell_type": "code",
   "execution_count": 4,
   "id": "643ba02e",
   "metadata": {},
   "outputs": [
    {
     "name": "stdout",
     "output_type": "stream",
     "text": [
      "2*2= 4\n"
     ]
    }
   ],
   "source": [
    "a=2\n",
    "print('{}*2='.format(a),a*2)"
   ]
  },
  {
   "cell_type": "code",
   "execution_count": 20,
   "id": "5054eed2",
   "metadata": {},
   "outputs": [
    {
     "name": "stdout",
     "output_type": "stream",
     "text": [
      "8*5= 24\n"
     ]
    }
   ],
   "source": [
    "x=8\n",
    "print('{}*5='.format(x),x*3)"
   ]
  },
  {
   "cell_type": "code",
   "execution_count": 21,
   "id": "1698fd0d",
   "metadata": {},
   "outputs": [
    {
     "name": "stdout",
     "output_type": "stream",
     "text": [
      "7*6= 42\n"
     ]
    }
   ],
   "source": [
    "v=7\n",
    "print('{}*6='.format(v),v*6)"
   ]
  },
  {
   "cell_type": "code",
   "execution_count": null,
   "id": "1120673e",
   "metadata": {},
   "outputs": [],
   "source": []
  },
  {
   "cell_type": "code",
   "execution_count": null,
   "id": "eb192e51",
   "metadata": {},
   "outputs": [],
   "source": []
  },
  {
   "cell_type": "code",
   "execution_count": 20,
   "id": "6704f496",
   "metadata": {},
   "outputs": [
    {
     "name": "stdout",
     "output_type": "stream",
     "text": [
      "2*3= 6\n"
     ]
    }
   ],
   "source": [
    "a=2\n",
    "print('{}*3='.format(a),a*3)"
   ]
  },
  {
   "cell_type": "code",
   "execution_count": 21,
   "id": "e252557c",
   "metadata": {},
   "outputs": [
    {
     "name": "stdout",
     "output_type": "stream",
     "text": [
      "2*4= 8\n"
     ]
    }
   ],
   "source": [
    "a=2\n",
    "print('{}*4='.format(a),a*4)"
   ]
  },
  {
   "cell_type": "code",
   "execution_count": 22,
   "id": "ded00c24",
   "metadata": {},
   "outputs": [
    {
     "name": "stdout",
     "output_type": "stream",
     "text": [
      "2*5= 10\n"
     ]
    }
   ],
   "source": [
    "a=2\n",
    "print('{}*5='.format(a),a*5)"
   ]
  },
  {
   "cell_type": "code",
   "execution_count": 23,
   "id": "067d0b1d",
   "metadata": {},
   "outputs": [
    {
     "name": "stdout",
     "output_type": "stream",
     "text": [
      "2*6= 12\n"
     ]
    }
   ],
   "source": [
    "a=2\n",
    "print('{}*6='.format(a),a*6)"
   ]
  },
  {
   "cell_type": "code",
   "execution_count": 24,
   "id": "47120ba9",
   "metadata": {},
   "outputs": [
    {
     "name": "stdout",
     "output_type": "stream",
     "text": [
      "2*7= 14\n"
     ]
    }
   ],
   "source": [
    "a=2\n",
    "print('{}*7='.format(a),a*7)"
   ]
  },
  {
   "cell_type": "code",
   "execution_count": 25,
   "id": "b3d675c8",
   "metadata": {},
   "outputs": [
    {
     "name": "stdout",
     "output_type": "stream",
     "text": [
      "2*8= 16\n"
     ]
    }
   ],
   "source": [
    "a=2\n",
    "print('{}*8='.format(a),a*8)"
   ]
  },
  {
   "cell_type": "code",
   "execution_count": 26,
   "id": "174ec4d5",
   "metadata": {},
   "outputs": [
    {
     "name": "stdout",
     "output_type": "stream",
     "text": [
      "2*9= 18\n"
     ]
    }
   ],
   "source": [
    "a=2\n",
    "print('{}*9='.format(a),a*9)"
   ]
  },
  {
   "cell_type": "code",
   "execution_count": 22,
   "id": "9372c839",
   "metadata": {},
   "outputs": [
    {
     "name": "stdout",
     "output_type": "stream",
     "text": [
      "7*7= 56\n"
     ]
    }
   ],
   "source": [
    "c=7\n",
    "print('{}*7='.format(c),c*8)"
   ]
  },
  {
   "cell_type": "code",
   "execution_count": 27,
   "id": "e66cf5f5",
   "metadata": {
    "scrolled": true
   },
   "outputs": [
    {
     "name": "stdout",
     "output_type": "stream",
     "text": [
      "2*10= 20\n"
     ]
    }
   ],
   "source": [
    "a=2\n",
    "print('{}*10='.format(a),a*10)"
   ]
  },
  {
   "cell_type": "markdown",
   "id": "b6dbedba",
   "metadata": {},
   "source": []
  },
  {
   "cell_type": "code",
   "execution_count": null,
   "id": "1df50e11",
   "metadata": {},
   "outputs": [],
   "source": []
  },
  {
   "cell_type": "code",
   "execution_count": null,
   "id": "1d985141",
   "metadata": {},
   "outputs": [],
   "source": []
  }
 ],
 "metadata": {
  "kernelspec": {
   "display_name": "Python 3 (ipykernel)",
   "language": "python",
   "name": "python3"
  },
  "language_info": {
   "codemirror_mode": {
    "name": "ipython",
    "version": 3
   },
   "file_extension": ".py",
   "mimetype": "text/x-python",
   "name": "python",
   "nbconvert_exporter": "python",
   "pygments_lexer": "ipython3",
   "version": "3.10.9"
  }
 },
 "nbformat": 4,
 "nbformat_minor": 5
}
