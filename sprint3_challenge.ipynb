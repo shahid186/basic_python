{
 "cells": [
  {
   "cell_type": "markdown",
   "id": "51a82a99",
   "metadata": {},
   "source": [
    "# task1"
   ]
  },
  {
   "cell_type": "code",
   "execution_count": null,
   "id": "ffbc31d1",
   "metadata": {},
   "outputs": [
    {
     "name": "stdout",
     "output_type": "stream",
     "text": [
      "enter the number34\n"
     ]
    }
   ],
   "source": [
    "l=[]\n",
    "for i in range(11):\n",
    "    l.append(input('enter the number'))"
   ]
  },
  {
   "cell_type": "code",
   "execution_count": 2,
   "id": "80d8ade3",
   "metadata": {},
   "outputs": [
    {
     "name": "stdout",
     "output_type": "stream",
     "text": [
      "enter the nameshahid\n"
     ]
    },
    {
     "ename": "KeyboardInterrupt",
     "evalue": "Interrupted by user",
     "output_type": "error",
     "traceback": [
      "\u001b[1;31m---------------------------------------------------------------------------\u001b[0m",
      "\u001b[1;31mKeyboardInterrupt\u001b[0m                         Traceback (most recent call last)",
      "Cell \u001b[1;32mIn[2], line 3\u001b[0m\n\u001b[0;32m      1\u001b[0m l\u001b[38;5;241m=\u001b[39m[]\n\u001b[0;32m      2\u001b[0m \u001b[38;5;28;01mfor\u001b[39;00m i \u001b[38;5;129;01min\u001b[39;00m \u001b[38;5;28mrange\u001b[39m(\u001b[38;5;241m1\u001b[39m,\u001b[38;5;241m11\u001b[39m):\n\u001b[1;32m----> 3\u001b[0m     l\u001b[38;5;241m.\u001b[39mappend(\u001b[38;5;28;43minput\u001b[39;49m\u001b[43m(\u001b[49m\u001b[38;5;124;43m'\u001b[39;49m\u001b[38;5;124;43menter the name\u001b[39;49m\u001b[38;5;124;43m'\u001b[39;49m\u001b[43m)\u001b[49m)\n",
      "File \u001b[1;32m~\\anaconda3\\New folder\\lib\\site-packages\\ipykernel\\kernelbase.py:1175\u001b[0m, in \u001b[0;36mKernel.raw_input\u001b[1;34m(self, prompt)\u001b[0m\n\u001b[0;32m   1171\u001b[0m \u001b[38;5;28;01mif\u001b[39;00m \u001b[38;5;129;01mnot\u001b[39;00m \u001b[38;5;28mself\u001b[39m\u001b[38;5;241m.\u001b[39m_allow_stdin:\n\u001b[0;32m   1172\u001b[0m     \u001b[38;5;28;01mraise\u001b[39;00m StdinNotImplementedError(\n\u001b[0;32m   1173\u001b[0m         \u001b[38;5;124m\"\u001b[39m\u001b[38;5;124mraw_input was called, but this frontend does not support input requests.\u001b[39m\u001b[38;5;124m\"\u001b[39m\n\u001b[0;32m   1174\u001b[0m     )\n\u001b[1;32m-> 1175\u001b[0m \u001b[38;5;28;01mreturn\u001b[39;00m \u001b[38;5;28;43mself\u001b[39;49m\u001b[38;5;241;43m.\u001b[39;49m\u001b[43m_input_request\u001b[49m\u001b[43m(\u001b[49m\n\u001b[0;32m   1176\u001b[0m \u001b[43m    \u001b[49m\u001b[38;5;28;43mstr\u001b[39;49m\u001b[43m(\u001b[49m\u001b[43mprompt\u001b[49m\u001b[43m)\u001b[49m\u001b[43m,\u001b[49m\n\u001b[0;32m   1177\u001b[0m \u001b[43m    \u001b[49m\u001b[38;5;28;43mself\u001b[39;49m\u001b[38;5;241;43m.\u001b[39;49m\u001b[43m_parent_ident\u001b[49m\u001b[43m[\u001b[49m\u001b[38;5;124;43m\"\u001b[39;49m\u001b[38;5;124;43mshell\u001b[39;49m\u001b[38;5;124;43m\"\u001b[39;49m\u001b[43m]\u001b[49m\u001b[43m,\u001b[49m\n\u001b[0;32m   1178\u001b[0m \u001b[43m    \u001b[49m\u001b[38;5;28;43mself\u001b[39;49m\u001b[38;5;241;43m.\u001b[39;49m\u001b[43mget_parent\u001b[49m\u001b[43m(\u001b[49m\u001b[38;5;124;43m\"\u001b[39;49m\u001b[38;5;124;43mshell\u001b[39;49m\u001b[38;5;124;43m\"\u001b[39;49m\u001b[43m)\u001b[49m\u001b[43m,\u001b[49m\n\u001b[0;32m   1179\u001b[0m \u001b[43m    \u001b[49m\u001b[43mpassword\u001b[49m\u001b[38;5;241;43m=\u001b[39;49m\u001b[38;5;28;43;01mFalse\u001b[39;49;00m\u001b[43m,\u001b[49m\n\u001b[0;32m   1180\u001b[0m \u001b[43m\u001b[49m\u001b[43m)\u001b[49m\n",
      "File \u001b[1;32m~\\anaconda3\\New folder\\lib\\site-packages\\ipykernel\\kernelbase.py:1217\u001b[0m, in \u001b[0;36mKernel._input_request\u001b[1;34m(self, prompt, ident, parent, password)\u001b[0m\n\u001b[0;32m   1214\u001b[0m             \u001b[38;5;28;01mbreak\u001b[39;00m\n\u001b[0;32m   1215\u001b[0m \u001b[38;5;28;01mexcept\u001b[39;00m \u001b[38;5;167;01mKeyboardInterrupt\u001b[39;00m:\n\u001b[0;32m   1216\u001b[0m     \u001b[38;5;66;03m# re-raise KeyboardInterrupt, to truncate traceback\u001b[39;00m\n\u001b[1;32m-> 1217\u001b[0m     \u001b[38;5;28;01mraise\u001b[39;00m \u001b[38;5;167;01mKeyboardInterrupt\u001b[39;00m(\u001b[38;5;124m\"\u001b[39m\u001b[38;5;124mInterrupted by user\u001b[39m\u001b[38;5;124m\"\u001b[39m) \u001b[38;5;28;01mfrom\u001b[39;00m \u001b[38;5;28mNone\u001b[39m\n\u001b[0;32m   1218\u001b[0m \u001b[38;5;28;01mexcept\u001b[39;00m \u001b[38;5;167;01mException\u001b[39;00m:\n\u001b[0;32m   1219\u001b[0m     \u001b[38;5;28mself\u001b[39m\u001b[38;5;241m.\u001b[39mlog\u001b[38;5;241m.\u001b[39mwarning(\u001b[38;5;124m\"\u001b[39m\u001b[38;5;124mInvalid Message:\u001b[39m\u001b[38;5;124m\"\u001b[39m, exc_info\u001b[38;5;241m=\u001b[39m\u001b[38;5;28;01mTrue\u001b[39;00m)\n",
      "\u001b[1;31mKeyboardInterrupt\u001b[0m: Interrupted by user"
     ]
    }
   ],
   "source": [
    "l=[]\n",
    "for i in range(1,11):\n",
    "    l.append(input('enter the name'))\n"
   ]
  },
  {
   "cell_type": "code",
   "execution_count": null,
   "id": "531640de",
   "metadata": {},
   "outputs": [],
   "source": []
  },
  {
   "cell_type": "code",
   "execution_count": 1,
   "id": "6dff09b4",
   "metadata": {},
   "outputs": [
    {
     "name": "stdout",
     "output_type": "stream",
     "text": [
      "enter the number shahid\n"
     ]
    },
    {
     "ename": "KeyboardInterrupt",
     "evalue": "Interrupted by user",
     "output_type": "error",
     "traceback": [
      "\u001b[1;31m---------------------------------------------------------------------------\u001b[0m",
      "\u001b[1;31mKeyboardInterrupt\u001b[0m                         Traceback (most recent call last)",
      "Cell \u001b[1;32mIn[1], line 3\u001b[0m\n\u001b[0;32m      1\u001b[0m m\u001b[38;5;241m=\u001b[39m[]\n\u001b[0;32m      2\u001b[0m \u001b[38;5;28;01mfor\u001b[39;00m i \u001b[38;5;129;01min\u001b[39;00m \u001b[38;5;28mrange\u001b[39m(\u001b[38;5;241m1\u001b[39m,\u001b[38;5;241m10\u001b[39m):\n\u001b[1;32m----> 3\u001b[0m     m\u001b[38;5;241m.\u001b[39mappend(\u001b[38;5;28;43minput\u001b[39;49m\u001b[43m(\u001b[49m\u001b[38;5;124;43m'\u001b[39;49m\u001b[38;5;124;43menter the number \u001b[39;49m\u001b[38;5;124;43m'\u001b[39;49m\u001b[43m)\u001b[49m)\n",
      "File \u001b[1;32m~\\anaconda3\\New folder\\lib\\site-packages\\ipykernel\\kernelbase.py:1175\u001b[0m, in \u001b[0;36mKernel.raw_input\u001b[1;34m(self, prompt)\u001b[0m\n\u001b[0;32m   1171\u001b[0m \u001b[38;5;28;01mif\u001b[39;00m \u001b[38;5;129;01mnot\u001b[39;00m \u001b[38;5;28mself\u001b[39m\u001b[38;5;241m.\u001b[39m_allow_stdin:\n\u001b[0;32m   1172\u001b[0m     \u001b[38;5;28;01mraise\u001b[39;00m StdinNotImplementedError(\n\u001b[0;32m   1173\u001b[0m         \u001b[38;5;124m\"\u001b[39m\u001b[38;5;124mraw_input was called, but this frontend does not support input requests.\u001b[39m\u001b[38;5;124m\"\u001b[39m\n\u001b[0;32m   1174\u001b[0m     )\n\u001b[1;32m-> 1175\u001b[0m \u001b[38;5;28;01mreturn\u001b[39;00m \u001b[38;5;28;43mself\u001b[39;49m\u001b[38;5;241;43m.\u001b[39;49m\u001b[43m_input_request\u001b[49m\u001b[43m(\u001b[49m\n\u001b[0;32m   1176\u001b[0m \u001b[43m    \u001b[49m\u001b[38;5;28;43mstr\u001b[39;49m\u001b[43m(\u001b[49m\u001b[43mprompt\u001b[49m\u001b[43m)\u001b[49m\u001b[43m,\u001b[49m\n\u001b[0;32m   1177\u001b[0m \u001b[43m    \u001b[49m\u001b[38;5;28;43mself\u001b[39;49m\u001b[38;5;241;43m.\u001b[39;49m\u001b[43m_parent_ident\u001b[49m\u001b[43m[\u001b[49m\u001b[38;5;124;43m\"\u001b[39;49m\u001b[38;5;124;43mshell\u001b[39;49m\u001b[38;5;124;43m\"\u001b[39;49m\u001b[43m]\u001b[49m\u001b[43m,\u001b[49m\n\u001b[0;32m   1178\u001b[0m \u001b[43m    \u001b[49m\u001b[38;5;28;43mself\u001b[39;49m\u001b[38;5;241;43m.\u001b[39;49m\u001b[43mget_parent\u001b[49m\u001b[43m(\u001b[49m\u001b[38;5;124;43m\"\u001b[39;49m\u001b[38;5;124;43mshell\u001b[39;49m\u001b[38;5;124;43m\"\u001b[39;49m\u001b[43m)\u001b[49m\u001b[43m,\u001b[49m\n\u001b[0;32m   1179\u001b[0m \u001b[43m    \u001b[49m\u001b[43mpassword\u001b[49m\u001b[38;5;241;43m=\u001b[39;49m\u001b[38;5;28;43;01mFalse\u001b[39;49;00m\u001b[43m,\u001b[49m\n\u001b[0;32m   1180\u001b[0m \u001b[43m\u001b[49m\u001b[43m)\u001b[49m\n",
      "File \u001b[1;32m~\\anaconda3\\New folder\\lib\\site-packages\\ipykernel\\kernelbase.py:1217\u001b[0m, in \u001b[0;36mKernel._input_request\u001b[1;34m(self, prompt, ident, parent, password)\u001b[0m\n\u001b[0;32m   1214\u001b[0m             \u001b[38;5;28;01mbreak\u001b[39;00m\n\u001b[0;32m   1215\u001b[0m \u001b[38;5;28;01mexcept\u001b[39;00m \u001b[38;5;167;01mKeyboardInterrupt\u001b[39;00m:\n\u001b[0;32m   1216\u001b[0m     \u001b[38;5;66;03m# re-raise KeyboardInterrupt, to truncate traceback\u001b[39;00m\n\u001b[1;32m-> 1217\u001b[0m     \u001b[38;5;28;01mraise\u001b[39;00m \u001b[38;5;167;01mKeyboardInterrupt\u001b[39;00m(\u001b[38;5;124m\"\u001b[39m\u001b[38;5;124mInterrupted by user\u001b[39m\u001b[38;5;124m\"\u001b[39m) \u001b[38;5;28;01mfrom\u001b[39;00m \u001b[38;5;28mNone\u001b[39m\n\u001b[0;32m   1218\u001b[0m \u001b[38;5;28;01mexcept\u001b[39;00m \u001b[38;5;167;01mException\u001b[39;00m:\n\u001b[0;32m   1219\u001b[0m     \u001b[38;5;28mself\u001b[39m\u001b[38;5;241m.\u001b[39mlog\u001b[38;5;241m.\u001b[39mwarning(\u001b[38;5;124m\"\u001b[39m\u001b[38;5;124mInvalid Message:\u001b[39m\u001b[38;5;124m\"\u001b[39m, exc_info\u001b[38;5;241m=\u001b[39m\u001b[38;5;28;01mTrue\u001b[39;00m)\n",
      "\u001b[1;31mKeyboardInterrupt\u001b[0m: Interrupted by user"
     ]
    }
   ],
   "source": [
    "m=[]\n",
    "for i in range(1,10):\n",
    "    m.append(input('enter the number '))"
   ]
  },
  {
   "cell_type": "code",
   "execution_count": null,
   "id": "9ac0c254",
   "metadata": {},
   "outputs": [],
   "source": []
  },
  {
   "cell_type": "code",
   "execution_count": null,
   "id": "3a2bda96",
   "metadata": {},
   "outputs": [],
   "source": [
    "j=()\n",
    "for iin range(4):\n",
    "    j.append(input('enter user name'))\n",
    "   "
   ]
  },
  {
   "cell_type": "code",
   "execution_count": 1,
   "id": "b7da5033",
   "metadata": {},
   "outputs": [
    {
     "name": "stdout",
     "output_type": "stream",
     "text": [
      "enter usershahid\n",
      "enter usernazir\n",
      "enter userbhat\n",
      "enter userdanish\n",
      "enter usermohsin\n",
      "enter userabu\n",
      "enter userprincy\n",
      "enter userirtiza\n",
      "enter usershariq\n",
      "enter userimran\n",
      "enter usersameer\n"
     ]
    }
   ],
   "source": [
    "l=[]\n",
    "for i in range(11):\n",
    "    l.append(input(\"enter user\"))\n",
    "        "
   ]
  },
  {
   "cell_type": "code",
   "execution_count": 1,
   "id": "74d4b37b",
   "metadata": {},
   "outputs": [
    {
     "name": "stdout",
     "output_type": "stream",
     "text": [
      "enter the nameshahid \n",
      "enter the namemohsin\n",
      "enter the namesss\n",
      "enter the namess\n",
      "enter the names\n",
      "enter the namea\n",
      "enter the namea\n",
      "enter the nameaa\n",
      "enter the name\n",
      "enter the namew\n",
      "enter the nameer\n"
     ]
    }
   ],
   "source": [
    "l=[]\n",
    "for i in range(11):\n",
    "    l.append(input('enter the name'))"
   ]
  },
  {
   "cell_type": "code",
   "execution_count": 3,
   "id": "41ae4559",
   "metadata": {},
   "outputs": [
    {
     "name": "stdout",
     "output_type": "stream",
     "text": [
      "enter the name    shahid \n",
      "enter the name    nazir\n"
     ]
    }
   ],
   "source": [
    "m=[]\n",
    "for i in range(2):\n",
    "    m.append(input('enter the name    '))"
   ]
  },
  {
   "cell_type": "code",
   "execution_count": 2,
   "id": "39d9e339",
   "metadata": {},
   "outputs": [
    {
     "name": "stdout",
     "output_type": "stream",
     "text": [
      "enyer the nameshahid\n",
      "enyer the nameirtiza\n",
      "enyer the namemohsin\n"
     ]
    }
   ],
   "source": [
    "k=[]\n",
    "for i in range(3):\n",
    "    k.append(input('enyer the name'))"
   ]
  },
  {
   "cell_type": "markdown",
   "id": "19c92344",
   "metadata": {},
   "source": [
    "# task 2"
   ]
  },
  {
   "cell_type": "code",
   "execution_count": 3,
   "id": "a28fe5e6",
   "metadata": {},
   "outputs": [
    {
     "name": "stdout",
     "output_type": "stream",
     "text": [
      "sameer\n",
      "imran\n",
      "shariq\n",
      "irtiza\n",
      "princy\n",
      "abu\n",
      "mohsin\n",
      "danish\n",
      "bhat\n",
      "nazir\n",
      "shahid\n"
     ]
    }
   ],
   "source": [
    "for i in range(len(l)-1,-1,-1):\n",
    "    print(l[i])"
   ]
  },
  {
   "cell_type": "code",
   "execution_count": null,
   "id": "25533de1",
   "metadata": {},
   "outputs": [],
   "source": []
  },
  {
   "cell_type": "code",
   "execution_count": null,
   "id": "da4ddc59",
   "metadata": {},
   "outputs": [],
   "source": []
  },
  {
   "cell_type": "markdown",
   "id": "171decc8",
   "metadata": {},
   "source": [
    "# task 3"
   ]
  },
  {
   "cell_type": "code",
   "execution_count": 5,
   "id": "0fca6283",
   "metadata": {},
   "outputs": [
    {
     "name": "stdout",
     "output_type": "stream",
     "text": [
      "enter the nameshahid \n",
      "enter the nameirtiza\n",
      "enter the namenazir\n",
      "['nazir', 'shahid ', 'irtiza']\n"
     ]
    }
   ],
   "source": [
    "k=[]\n",
    "for i in range (3):\n",
    "    k.append(input('enter the name'))\n",
    "    k.reverse()\n",
    "print(k)    "
   ]
  },
  {
   "cell_type": "code",
   "execution_count": null,
   "id": "3d896669",
   "metadata": {},
   "outputs": [],
   "source": []
  },
  {
   "cell_type": "code",
   "execution_count": 7,
   "id": "8ebcaecb",
   "metadata": {},
   "outputs": [
    {
     "name": "stdout",
     "output_type": "stream",
     "text": [
      "eter the nameshhaid \n",
      "eter the namenazir \n",
      "eter the namebhat\n",
      "['bhat', 'shhaid ', 'nazir ']\n"
     ]
    }
   ],
   "source": [
    "s=[]\n",
    "for i in range (3):\n",
    "    s.append(input('eter the name'))\n",
    "    s.reverse()\n",
    "print(s)    \n",
    "    "
   ]
  },
  {
   "cell_type": "code",
   "execution_count": null,
   "id": "22b31436",
   "metadata": {},
   "outputs": [],
   "source": []
  },
  {
   "cell_type": "code",
   "execution_count": null,
   "id": "2eab91a4",
   "metadata": {},
   "outputs": [],
   "source": [
    "l=[]\n",
    "for iin range (10):\n",
    "    l.append(input('enter the number'))\n",
    "    l.reverse()\n",
    "print(l)    "
   ]
  },
  {
   "cell_type": "code",
   "execution_count": 4,
   "id": "90ad153d",
   "metadata": {},
   "outputs": [
    {
     "name": "stdout",
     "output_type": "stream",
     "text": [
      "enter usershahid\n",
      "enter usermohsin\n",
      "enter userjunaid\n",
      "enter userirtiza\n",
      "enter usernazir\n",
      "enter userprincy\n",
      "enter userabu\n",
      "enter userdanish\n",
      "enter usersameere\n",
      "enter userimran\n",
      "['imran', 'danish', 'princy', 'irtiza', 'mohsin', 'shahid', 'junaid', 'nazir', 'abu', 'sameere']\n"
     ]
    }
   ],
   "source": [
    "\n",
    "l=[]\n",
    "for i in range(10):\n",
    "    l.append(input(\"enter user\"))\n",
    "    l.reverse()\n",
    "print(l)    "
   ]
  },
  {
   "cell_type": "markdown",
   "id": "e3534a02",
   "metadata": {},
   "source": [
    "# task 4"
   ]
  },
  {
   "cell_type": "code",
   "execution_count": 1,
   "id": "71d4fb32",
   "metadata": {},
   "outputs": [
    {
     "name": "stdout",
     "output_type": "stream",
     "text": [
      "enter the nameshaid \n",
      "enter the namenazir \n",
      "enter the namebhat\n",
      "enter the nameirtiza\n",
      "['irtiza', 'nazir ', 'shaid ', 'bhat']\n"
     ]
    }
   ],
   "source": [
    "b=[]\n",
    "for i in range (4):\n",
    "    b.append(input('enter the name'))\n",
    "    b.reverse()\n",
    "print(b)    \n",
    "    \n",
    "    "
   ]
  },
  {
   "cell_type": "code",
   "execution_count": 2,
   "id": "6368ef93",
   "metadata": {},
   "outputs": [],
   "source": [
    "b.remove('irtiza')"
   ]
  },
  {
   "cell_type": "code",
   "execution_count": 5,
   "id": "b3dfabde",
   "metadata": {},
   "outputs": [
    {
     "name": "stdout",
     "output_type": "stream",
     "text": [
      "['bhat', 'nazir ', 'shaid ']\n"
     ]
    }
   ],
   "source": [
    "print(b)"
   ]
  },
  {
   "cell_type": "code",
   "execution_count": 4,
   "id": "075d13b1",
   "metadata": {},
   "outputs": [],
   "source": [
    "b.sort()"
   ]
  },
  {
   "cell_type": "code",
   "execution_count": 5,
   "id": "45db27f3",
   "metadata": {},
   "outputs": [
    {
     "name": "stdout",
     "output_type": "stream",
     "text": [
      "enter usershahid\n",
      "enter userkhayar\n",
      "enter useranantnag\n",
      "enter userpahalgam\n",
      "enter usergulmarg\n",
      "enter userleh\n",
      "enter userkargil\n",
      "enter usershahid\n",
      "enter userleh\n",
      "enter usershahid\n",
      "['shahid', 'khayar', 'anantnag', 'pahalgam', 'gulmarg', 'leh', 'kargil', 'shahid', 'leh', 'shahid']\n"
     ]
    }
   ],
   "source": [
    "alist=[]\n",
    "for i in range(10):\n",
    "    alist.append(input(\"enter user\"))\n",
    "\n",
    "print(alist)    "
   ]
  },
  {
   "cell_type": "markdown",
   "id": "4434b6ac",
   "metadata": {},
   "source": [
    "# task 5"
   ]
  },
  {
   "cell_type": "code",
   "execution_count": 44,
   "id": "cda21676",
   "metadata": {},
   "outputs": [
    {
     "name": "stdout",
     "output_type": "stream",
     "text": [
      "shahid\n",
      "khayar\n",
      "anantnag\n",
      "pahalgam\n",
      "gulmarg\n",
      "leh\n",
      "kargil\n",
      "shahid\n",
      "leh\n",
      "shahid\n",
      "['shahid', 'khayar', 'anantnag', 'pahalgam', 'gulmarg', 'leh', 'kargil']\n"
     ]
    }
   ],
   "source": [
    "blist=[]\n",
    "for i in  alist:\n",
    "    print(i)\n",
    "    if i  not in blist:\n",
    "        blist.append(i)\n",
    "print(blist)        "
   ]
  },
  {
   "cell_type": "markdown",
   "id": "7bfd14a7",
   "metadata": {},
   "source": [
    "# task 6"
   ]
  },
  {
   "cell_type": "code",
   "execution_count": 47,
   "id": "4d8787cf",
   "metadata": {},
   "outputs": [
    {
     "name": "stdout",
     "output_type": "stream",
     "text": [
      "['anantnag', 'gulmarg', 'kargil', 'khayar', 'leh', 'pahalgam', 'shahid']\n"
     ]
    }
   ],
   "source": [
    "\n",
    "blist.sort()\n",
    "print(blist)"
   ]
  },
  {
   "cell_type": "markdown",
   "id": "f626d2dd",
   "metadata": {},
   "source": [
    "# task 7"
   ]
  },
  {
   "cell_type": "code",
   "execution_count": 51,
   "id": "92034ed0",
   "metadata": {},
   "outputs": [
    {
     "name": "stdout",
     "output_type": "stream",
     "text": [
      "['gulmarg', 'kargil', 'khayar', 'leh', 'pahalgam', 'shahid']\n"
     ]
    }
   ],
   "source": [
    "blist.remove('anantnag')\n",
    "print(blist)"
   ]
  },
  {
   "cell_type": "code",
   "execution_count": 52,
   "id": "a4ad8fff",
   "metadata": {},
   "outputs": [
    {
     "name": "stdout",
     "output_type": "stream",
     "text": [
      "['gulmarg', 'khayar', 'leh', 'pahalgam', 'shahid']\n"
     ]
    }
   ],
   "source": [
    "blist.remove('kargil')\n",
    "print(blist)"
   ]
  },
  {
   "cell_type": "code",
   "execution_count": 53,
   "id": "5e4e52ce",
   "metadata": {},
   "outputs": [
    {
     "name": "stdout",
     "output_type": "stream",
     "text": [
      "['khayar', 'leh', 'pahalgam', 'shahid']\n"
     ]
    }
   ],
   "source": [
    "blist.remove('gulmarg')\n",
    "print(blist)"
   ]
  },
  {
   "cell_type": "code",
   "execution_count": 54,
   "id": "96cd9ab5",
   "metadata": {},
   "outputs": [
    {
     "name": "stdout",
     "output_type": "stream",
     "text": [
      "['khayar', 'leh', 'shahid']\n"
     ]
    }
   ],
   "source": [
    "blist.remove('pahalgam')\n",
    "print(blist)"
   ]
  },
  {
   "cell_type": "code",
   "execution_count": 55,
   "id": "db1f7e62",
   "metadata": {},
   "outputs": [
    {
     "name": "stdout",
     "output_type": "stream",
     "text": [
      "['khayar', 'shahid']\n"
     ]
    }
   ],
   "source": [
    "blist.remove('leh')\n",
    "print(blist)"
   ]
  },
  {
   "cell_type": "code",
   "execution_count": 56,
   "id": "236930a5",
   "metadata": {},
   "outputs": [
    {
     "name": "stdout",
     "output_type": "stream",
     "text": [
      "['khayar']\n"
     ]
    }
   ],
   "source": [
    "blist.remove('shahid')\n",
    "print(blist)"
   ]
  },
  {
   "cell_type": "code",
   "execution_count": 57,
   "id": "bf631055",
   "metadata": {},
   "outputs": [
    {
     "name": "stdout",
     "output_type": "stream",
     "text": [
      "[]\n"
     ]
    }
   ],
   "source": [
    "blist.remove('khayar')\n",
    "print(blist)"
   ]
  },
  {
   "cell_type": "markdown",
   "id": "8dda4600",
   "metadata": {},
   "source": [
    "# task 8"
   ]
  },
  {
   "cell_type": "code",
   "execution_count": 12,
   "id": "d0bd5549",
   "metadata": {},
   "outputs": [
    {
     "name": "stdout",
     "output_type": "stream",
     "text": [
      "multiply of = 8\n",
      "1,2,3,4,5,6,7,9,10,11,12,13,14,15,17,18,19,20,21,22,23,25,26,27,28,29,30,31,33,34,"
     ]
    }
   ],
   "source": [
    "total=0\n",
    "n=int(input(\"multiply of = \"))\n",
    "for s in range  (1,100):\n",
    "    if s%n!=0 and total<=29:\n",
    "        print(s,end=\",\")\n",
    "        total=total+1\n",
    "\n"
   ]
  },
  {
   "cell_type": "code",
   "execution_count": 3,
   "id": "7bc34f25",
   "metadata": {},
   "outputs": [
    {
     "name": "stdout",
     "output_type": "stream",
     "text": [
      "multily of =7\n",
      "1,2,3,4,5,6,8,9,10,11,12,13,15,16,17,18,19,20,22,23,24,25,26,27,29,30,31,32,33,34,"
     ]
    }
   ],
   "source": [
    "total=0\n",
    "n=int(input('multily of ='))\n",
    "for s in range(1,100):\n",
    "    if s%n!=0 and total<=29:\n",
    "        print(s,end=',')\n",
    "        total=total+1"
   ]
  },
  {
   "cell_type": "markdown",
   "id": "ce6419e3",
   "metadata": {},
   "source": [
    "# task 9"
   ]
  },
  {
   "cell_type": "code",
   "execution_count": 42,
   "id": "07020ece",
   "metadata": {},
   "outputs": [
    {
     "name": "stdout",
     "output_type": "stream",
     "text": [
      "[[20, 20, 20], [20, 20, 20], [20, 20, 20]]\n"
     ]
    }
   ],
   "source": [
    "firstlist=[[1,2,3],[4,5,6],[7,8,9]]\n",
    "secondlist=[[19,18,17],[16,15,14],[13,12,11]]\n",
    "thirdlist=[]\n",
    "for i in range (3):\n",
    "            thirdlist.append([])\n",
    "            for s in range (3):\n",
    "                thirdlist[i].append(firstlist[i][s]+secondlist[i][s])\n",
    "print(thirdlist)            "
   ]
  },
  {
   "cell_type": "code",
   "execution_count": null,
   "id": "8499a0fb",
   "metadata": {},
   "outputs": [],
   "source": []
  },
  {
   "cell_type": "markdown",
   "id": "282a9b46",
   "metadata": {},
   "source": [
    "# task 10"
   ]
  },
  {
   "cell_type": "code",
   "execution_count": null,
   "id": "22708064",
   "metadata": {},
   "outputs": [],
   "source": []
  },
  {
   "cell_type": "code",
   "execution_count": 7,
   "id": "42a227d4",
   "metadata": {},
   "outputs": [
    {
     "name": "stdout",
     "output_type": "stream",
     "text": [
      "enter the no shahid\n",
      "enter the no nazir \n",
      "enter the no bhat\n",
      "enter the no mhsin\n",
      "enter the no gulshana\n",
      "enter the no khayar\n",
      "enter the no langa\n",
      "enter the no yo honney singh\n",
      "enter the no clock\n"
     ]
    }
   ],
   "source": [
    "x=[]\n",
    "for i in range (3):\n",
    "    x.append([])\n",
    "    for j in range (3):\n",
    "        x[i].append(input('enter the no '))"
   ]
  },
  {
   "cell_type": "code",
   "execution_count": null,
   "id": "c0bef660",
   "metadata": {},
   "outputs": [],
   "source": []
  },
  {
   "cell_type": "code",
   "execution_count": null,
   "id": "a81892be",
   "metadata": {},
   "outputs": [],
   "source": []
  },
  {
   "cell_type": "code",
   "execution_count": null,
   "id": "95efb6f3",
   "metadata": {},
   "outputs": [],
   "source": []
  },
  {
   "cell_type": "code",
   "execution_count": null,
   "id": "5295aa54",
   "metadata": {},
   "outputs": [],
   "source": []
  },
  {
   "cell_type": "code",
   "execution_count": null,
   "id": "f7bbf09c",
   "metadata": {},
   "outputs": [],
   "source": []
  },
  {
   "cell_type": "code",
   "execution_count": null,
   "id": "597cf1d0",
   "metadata": {},
   "outputs": [],
   "source": []
  },
  {
   "cell_type": "code",
   "execution_count": null,
   "id": "e82ab9bd",
   "metadata": {},
   "outputs": [],
   "source": []
  },
  {
   "cell_type": "code",
   "execution_count": null,
   "id": "2c7db0d2",
   "metadata": {},
   "outputs": [],
   "source": []
  },
  {
   "cell_type": "code",
   "execution_count": 11,
   "id": "c4aed7e1",
   "metadata": {},
   "outputs": [
    {
     "name": "stdout",
     "output_type": "stream",
     "text": [
      "enter no1\n",
      "enter no2\n",
      "enter no3\n",
      "enter no4\n",
      "enter no5\n",
      "enter no6\n",
      "enter no7\n",
      "enter no8\n",
      "enter no9\n",
      "[['1', '2', '3'], ['4', '5', '6'], ['7', '8', '9']]\n"
     ]
    }
   ],
   "source": [
    "x=[]\n",
    "for i in range(3):\n",
    "    x.append([])\n",
    "    for j in range(3):\n",
    "        x[i].append(input(\"enter no\"))\n",
    "        \n",
    "print(x)        \n",
    "        "
   ]
  }
 ],
 "metadata": {
  "kernelspec": {
   "display_name": "Python 3 (ipykernel)",
   "language": "python",
   "name": "python3"
  },
  "language_info": {
   "codemirror_mode": {
    "name": "ipython",
    "version": 3
   },
   "file_extension": ".py",
   "mimetype": "text/x-python",
   "name": "python",
   "nbconvert_exporter": "python",
   "pygments_lexer": "ipython3",
   "version": "3.10.9"
  }
 },
 "nbformat": 4,
 "nbformat_minor": 5
}
