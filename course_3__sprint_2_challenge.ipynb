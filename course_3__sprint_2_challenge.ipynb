{
 "cells": [
  {
   "cell_type": "markdown",
   "id": "f8a7d7ab",
   "metadata": {},
   "source": [
    "# task1"
   ]
  },
  {
   "cell_type": "code",
   "execution_count": null,
   "id": "da678c49",
   "metadata": {},
   "outputs": [],
   "source": [
    "start=input('enter yeaf')\n",
    "if start%4==0 and start%100!=0:\n",
    "    "
   ]
  },
  {
   "cell_type": "code",
   "execution_count": null,
   "id": "94fd318f",
   "metadata": {},
   "outputs": [],
   "source": [
    "start=input('enter ')"
   ]
  },
  {
   "cell_type": "code",
   "execution_count": null,
   "id": "850944a7",
   "metadata": {},
   "outputs": [],
   "source": [
    "start=input('enter leap year')\n",
    "if start%4==0 and start%100!=0:\n",
    "    elif "
   ]
  },
  {
   "cell_type": "code",
   "execution_count": 1,
   "id": "0c7280e0",
   "metadata": {},
   "outputs": [
    {
     "name": "stdout",
     "output_type": "stream",
     "text": [
      "enter the leap year367\n"
     ]
    },
    {
     "ename": "TypeError",
     "evalue": "not all arguments converted during string formatting",
     "output_type": "error",
     "traceback": [
      "\u001b[1;31m---------------------------------------------------------------------------\u001b[0m",
      "\u001b[1;31mTypeError\u001b[0m                                 Traceback (most recent call last)",
      "Cell \u001b[1;32mIn[1], line 2\u001b[0m\n\u001b[0;32m      1\u001b[0m n\u001b[38;5;241m=\u001b[39m\u001b[38;5;28minput\u001b[39m(\u001b[38;5;124m'\u001b[39m\u001b[38;5;124menter the leap year\u001b[39m\u001b[38;5;124m'\u001b[39m)\n\u001b[1;32m----> 2\u001b[0m \u001b[38;5;28;01mif\u001b[39;00m \u001b[43mn\u001b[49m\u001b[38;5;241;43m%\u001b[39;49m\u001b[38;5;241;43m4\u001b[39;49m\u001b[38;5;241m==\u001b[39m\u001b[38;5;241m0\u001b[39m \u001b[38;5;129;01mand\u001b[39;00m n\u001b[38;5;241m%\u001b[39m\u001b[38;5;241m100\u001b[39m\u001b[38;5;241m!=\u001b[39m\u001b[38;5;241m0\u001b[39m:\n\u001b[0;32m      3\u001b[0m     \u001b[38;5;28mprint\u001b[39m(\u001b[38;5;124m'\u001b[39m\u001b[38;5;124mleap year\u001b[39m\u001b[38;5;124m'\u001b[39m)\n\u001b[0;32m      4\u001b[0m \u001b[38;5;28;01melif\u001b[39;00m n\u001b[38;5;241m%\u001b[39m\u001b[38;5;241m400\u001b[39m\u001b[38;5;241m==\u001b[39m\u001b[38;5;241m0\u001b[39m:\n",
      "\u001b[1;31mTypeError\u001b[0m: not all arguments converted during string formatting"
     ]
    }
   ],
   "source": [
    "n=input('enter the leap year')\n",
    "if n%4==0 and n%100!=0:\n",
    "    print('leap year')\n",
    "elif n%400==0:\n",
    "    print('leap year')\n",
    "else:\n",
    "    print('not a leap year')\n"
   ]
  },
  {
   "cell_type": "code",
   "execution_count": 2,
   "id": "157235eb",
   "metadata": {},
   "outputs": [
    {
     "name": "stdout",
     "output_type": "stream",
     "text": [
      "enter the days355\n",
      "leap year\n"
     ]
    }
   ],
   "source": [
    "n=int(input('enter the days'))\n",
    "if n%4 and n%100!=0:\n",
    "    print('leap year')\n",
    "elif n%400==0:\n",
    "    print('leap year')\n",
    "else:\n",
    "    print('not a leap year')"
   ]
  },
  {
   "cell_type": "code",
   "execution_count": null,
   "id": "07bcb38a",
   "metadata": {},
   "outputs": [],
   "source": [
    "n=int(input('enter the days'))\n",
    "if n%4==0 and n%100!=0:\n",
    "    print('leap year')\n",
    "elif n%400==0:\n",
    "    print('leap year')\n",
    "else:\n",
    "    print('not a leap year')"
   ]
  },
  {
   "cell_type": "code",
   "execution_count": null,
   "id": "1e45f8d7",
   "metadata": {},
   "outputs": [],
   "source": [
    "m=int(input('enyter the leap year'))\n",
    "if m%4==0 and m%100!=0:\n",
    "    print('leap yeat')\n",
    "elif m%400==0:\n",
    "    print('leap year')\n",
    "else:\n",
    "    print('not a LEAP YEAR')"
   ]
  },
  {
   "cell_type": "code",
   "execution_count": null,
   "id": "4fddeed7",
   "metadata": {},
   "outputs": [],
   "source": []
  },
  {
   "cell_type": "code",
   "execution_count": null,
   "id": "9788d823",
   "metadata": {},
   "outputs": [],
   "source": []
  },
  {
   "cell_type": "code",
   "execution_count": 6,
   "id": "c3230030",
   "metadata": {},
   "outputs": [
    {
     "name": "stdout",
     "output_type": "stream",
     "text": [
      "enter the name765\n",
      "nonleap year\n"
     ]
    }
   ],
   "source": [
    "s=int(input('enter the name'))\n",
    "if s%4==0 and s%100!=0:\n",
    "    prin('leap yeaR')\n",
    "elif s%400==0:\n",
    "    print('leapnyear')\n",
    "else:\n",
    "    print('nonleap year')\n",
    "    "
   ]
  },
  {
   "cell_type": "code",
   "execution_count": 2,
   "id": "4d45a5c0",
   "metadata": {
    "collapsed": true
   },
   "outputs": [
    {
     "name": "stdout",
     "output_type": "stream",
     "text": [
      "enter the day400\n"
     ]
    },
    {
     "ename": "TypeError",
     "evalue": "not all arguments converted during string formatting",
     "output_type": "error",
     "traceback": [
      "\u001b[1;31m---------------------------------------------------------------------------\u001b[0m",
      "\u001b[1;31mTypeError\u001b[0m                                 Traceback (most recent call last)",
      "Cell \u001b[1;32mIn[2], line 2\u001b[0m\n\u001b[0;32m      1\u001b[0m s\u001b[38;5;241m=\u001b[39m\u001b[38;5;28minput\u001b[39m(\u001b[38;5;124m'\u001b[39m\u001b[38;5;124menter the day\u001b[39m\u001b[38;5;124m'\u001b[39m)\n\u001b[1;32m----> 2\u001b[0m \u001b[38;5;28;01mif\u001b[39;00m \u001b[43ms\u001b[49m\u001b[38;5;241;43m%\u001b[39;49m\u001b[38;5;241;43m4\u001b[39;49m\u001b[38;5;241m==\u001b[39m\u001b[38;5;241m0\u001b[39m \u001b[38;5;129;01mand\u001b[39;00m s\u001b[38;5;241m!=\u001b[39m\u001b[38;5;241m0\u001b[39m:\n\u001b[0;32m      3\u001b[0m     \u001b[38;5;28mprint\u001b[39m(\u001b[38;5;124m'\u001b[39m\u001b[38;5;124mleap yeAR\u001b[39m\u001b[38;5;124m'\u001b[39m)\n\u001b[0;32m      4\u001b[0m \u001b[38;5;28;01melif\u001b[39;00m s\u001b[38;5;241m%\u001b[39m\u001b[38;5;241m400\u001b[39m\u001b[38;5;241m==\u001b[39m\u001b[38;5;241m0\u001b[39m:\n",
      "\u001b[1;31mTypeError\u001b[0m: not all arguments converted during string formatting"
     ]
    }
   ],
   "source": [
    "s=input('enter the day')\n",
    "if s%4==0 and s!=0:\n",
    "    print('leap yeAR')\n",
    "elif s%400==0:\n",
    "    prnt('leap year')\n",
    "else:\n",
    "    print('not leap year')"
   ]
  },
  {
   "cell_type": "code",
   "execution_count": 10,
   "id": "f322d53a",
   "metadata": {},
   "outputs": [
    {
     "name": "stdout",
     "output_type": "stream",
     "text": [
      "enter year2000\n",
      "leap year\n"
     ]
    }
   ],
   "source": [
    "start=int(input(\"enter year\"))\n",
    "if start%4==0 and start%100!=0:\n",
    "    print('leap year')\n",
    "elif start%400==0:\n",
    "    print('leap year')\n",
    "else:\n",
    "    print('not a leap year')\n",
    "        \n",
    "\n",
    "\n"
   ]
  },
  {
   "cell_type": "code",
   "execution_count": null,
   "id": "7293f95a",
   "metadata": {},
   "outputs": [],
   "source": [
    "s=int(input('enter the year'))\n",
    "if s%4==0 and s%100!=0:\n",
    "    "
   ]
  },
  {
   "cell_type": "code",
   "execution_count": 7,
   "id": "cd344a17",
   "metadata": {},
   "outputs": [
    {
     "name": "stdout",
     "output_type": "stream",
     "text": [
      "enter year377\n",
      "leap year\n"
     ]
    }
   ],
   "source": [
    "s=int(input('enter year'))\n",
    "if s%4==0 and s%100!=0:\n",
    "    print('leap year')\n",
    "elif s%400==0:\n",
    "    print('lreap')\n",
    "else:\n",
    "    print('leap year')\n",
    "    \n",
    "    "
   ]
  },
  {
   "cell_type": "code",
   "execution_count": 4,
   "id": "6636587e",
   "metadata": {},
   "outputs": [
    {
     "name": "stdout",
     "output_type": "stream",
     "text": [
      "enter the leap year366\n",
      "not leap\n"
     ]
    }
   ],
   "source": [
    "s=int(input('enter the leap year'))\n",
    "if s%400==0 and s%100!=0:\n",
    "    print('leap')\n",
    "elif s%400==0:\n",
    "    print('leap year')\n",
    "else:\n",
    "    print('not leap')"
   ]
  },
  {
   "cell_type": "code",
   "execution_count": null,
   "id": "30f01eb9",
   "metadata": {},
   "outputs": [],
   "source": [
    "start=int(input('enter year'))\n",
    "if start%4==0 and start%100!=0:\n",
    "    print('leap year')\n",
    "elif     "
   ]
  },
  {
   "cell_type": "code",
   "execution_count": 1,
   "id": "f3fa114b",
   "metadata": {},
   "outputs": [
    {
     "name": "stdout",
     "output_type": "stream",
     "text": [
      "enter year366\n",
      "not aleap year\n"
     ]
    }
   ],
   "source": [
    "start=int(input('enter year'))\n",
    "if start%4==0 and start%100!=0:\n",
    "    print('leap year')\n",
    "elif start%400==0:\n",
    "    print('leap year')\n",
    "else:\n",
    "    print('not aleap year')\n",
    "    \n",
    "    \n",
    "    \n",
    "    \n",
    "    \n",
    "    \n",
    "    "
   ]
  },
  {
   "cell_type": "markdown",
   "id": "8a976b4a",
   "metadata": {},
   "source": [
    "# task3"
   ]
  },
  {
   "cell_type": "code",
   "execution_count": null,
   "id": "9481bc3f",
   "metadata": {},
   "outputs": [],
   "source": []
  },
  {
   "cell_type": "code",
   "execution_count": 3,
   "id": "439c05de",
   "metadata": {},
   "outputs": [
    {
     "name": "stdout",
     "output_type": "stream",
     "text": [
      "total amount400\n",
      "total discount is 20%\n"
     ]
    }
   ],
   "source": [
    "tp=int(input('total amount'))\n",
    "if tp<100:\n",
    "    print('5% discount')\n",
    "elif tp>100 and tp<200:\n",
    "    print('total discount is 10%')\n",
    "elif tp>200 and tp<600:\n",
    "    print('total discount is 20%')\n",
    "else:\n",
    "    print('no discount')\n",
    "    "
   ]
  },
  {
   "cell_type": "code",
   "execution_count": 18,
   "id": "0f03e49f",
   "metadata": {},
   "outputs": [
    {
     "name": "stdout",
     "output_type": "stream",
     "text": [
      "total amount300\n",
      "tp\n",
      "discount is 25%\n"
     ]
    }
   ],
   "source": [
    "tp=int(input(\"total amount\"))\n",
    "print(\"tp\")\n",
    "if tp<100:\n",
    "    print(\"no discount\")\n",
    "elif tp>=100 and tp<150:\n",
    "    print(\"discount is 10%\")\n",
    "elif tp>150 and tp<=200:\n",
    "     print(\"discount is 15%\")\n",
    "elif tp>200 and tp<=250:\n",
    "    print(\"discount is 20%\")\n",
    "else:\n",
    "    print(\"discount is 25%\")\n"
   ]
  },
  {
   "cell_type": "code",
   "execution_count": 2,
   "id": "2a4160d3",
   "metadata": {},
   "outputs": [
    {
     "name": "stdout",
     "output_type": "stream",
     "text": [
      "enter the value101\n",
      "discount 20\n"
     ]
    }
   ],
   "source": [
    "b=int(input('enter the value'))\n",
    "if b>100:\n",
    "    print('discount 20')\n",
    "elif b>150 and b<200:\n",
    "    print('35 discount')\n",
    "else:\n",
    "    print('no discount')"
   ]
  },
  {
   "cell_type": "code",
   "execution_count": 4,
   "id": "db65cc48",
   "metadata": {},
   "outputs": [
    {
     "name": "stdout",
     "output_type": "stream",
     "text": [
      "enter the amout250\n",
      "250\n"
     ]
    }
   ],
   "source": [
    "y=int(input('enter the amout'))\n",
    "print(y)\n",
    "if y<100:\n",
    "    print('no discount')\n",
    "elif y>100 and y<150:\n",
    "    print('discountid 10%')\n",
    "elif y>150 and y<200:\n",
    "    print('discount 15%')\n",
    "    "
   ]
  },
  {
   "cell_type": "code",
   "execution_count": null,
   "id": "f9ac7271",
   "metadata": {},
   "outputs": [],
   "source": []
  },
  {
   "cell_type": "code",
   "execution_count": null,
   "id": "d5c749aa",
   "metadata": {},
   "outputs": [],
   "source": []
  },
  {
   "cell_type": "code",
   "execution_count": 5,
   "id": "90af167b",
   "metadata": {},
   "outputs": [
    {
     "name": "stdout",
     "output_type": "stream",
     "text": [
      "enter the name900\n",
      "25 discount\n"
     ]
    }
   ],
   "source": [
    "y=int(input('enter the name'))\n",
    "if y<=100:\n",
    "    print('10 percentdiscout')\n",
    "elif y<=400:\n",
    "    print('20 discount')\n",
    "else:\n",
    "    print('25 discount')\n",
    "    \n",
    "    "
   ]
  },
  {
   "cell_type": "code",
   "execution_count": 5,
   "id": "686d1f0e",
   "metadata": {},
   "outputs": [
    {
     "name": "stdout",
     "output_type": "stream",
     "text": [
      "total amount444\n",
      "20% discount\n"
     ]
    }
   ],
   "source": [
    "n=int(input('total amount'))\n",
    "if n<=100:\n",
    "    print('15% discount')\n",
    "elif n>=330:\n",
    "    print('20% discount')\n",
    "else:\n",
    "    print('no discount')\n",
    "    \n",
    "    \n",
    "    \n",
    "    "
   ]
  },
  {
   "cell_type": "code",
   "execution_count": 2,
   "id": "8735e514",
   "metadata": {},
   "outputs": [
    {
     "name": "stdout",
     "output_type": "stream",
     "text": [
      "total amount340\n",
      "tp\n",
      "discount 50%\n"
     ]
    }
   ],
   "source": [
    "tp=int(input('total amount'))\n",
    "print('tp')\n",
    "if tp<100:\n",
    "    print('no discount')\n",
    "elif tp>150 and tp<200:\n",
    "    print('10% discount')\n",
    "    \n",
    "elif tp>200 and tp<400:\n",
    "    print('discount 50%')\n",
    "else:print('75 discount')    "
   ]
  },
  {
   "cell_type": "code",
   "execution_count": null,
   "id": "a9267a9c",
   "metadata": {},
   "outputs": [],
   "source": []
  },
  {
   "cell_type": "code",
   "execution_count": null,
   "id": "3baf961c",
   "metadata": {},
   "outputs": [],
   "source": [
    "month=input('enter months')\n",
    "if month in ('1'):\n",
    "    print('january =31 days')\n",
    "    \n",
    "elif month in ('2'):\n",
    "    \n",
    "    print('feb =28/29')\n",
    "elif month in ('3'):\n",
    "    \n",
    "    print('march 31')\n",
    "    \n",
    "elif month in ()    \n",
    "    \n",
    "    \n",
    "    \n",
    "    "
   ]
  },
  {
   "cell_type": "markdown",
   "id": "c8c31d7b",
   "metadata": {},
   "source": [
    "# task 2"
   ]
  },
  {
   "cell_type": "code",
   "execution_count": 9,
   "id": "13541200",
   "metadata": {},
   "outputs": [
    {
     "name": "stdout",
     "output_type": "stream",
     "text": [
      "enter months:9\n",
      "sept = 31 days\n"
     ]
    }
   ],
   "source": [
    "month=input('enter months:')\n",
    "if month in ('1'):\n",
    "    print('january = 31 days')\n",
    "elif month in ('2'):\n",
    "    \n",
    "    print('feb = 28/29')\n",
    "elif month in ('3'):\n",
    "    print('march = 31 days')\n",
    "elif month in ('4'):\n",
    "          print('april=30 days')\n",
    "          \n",
    "elif month in ('5'):\n",
    "          print('may=31 days')\n",
    "          \n",
    "elif month in ('6'):\n",
    "          print('june =30 days')\n",
    "          \n",
    "elif month in ('7'):\n",
    "          print('july= 31 days')\n",
    "          \n",
    "elif month in ('8'):\n",
    "          print('aug= 30 days')\n",
    "elif month in ('9'):\n",
    "          print('sept = 31 days')\n",
    "elif month in ('10'):\n",
    "          print('oct = 31 days')\n",
    "elif month in ('11'):\n",
    "          print('nov = 30 days')\n",
    "          \n",
    "elif month in ('12'):\n",
    "          print('dec = 31 days')\n",
    "          \n",
    "else:\n",
    "    print('wrong month name')\n",
    "\n"
   ]
  },
  {
   "cell_type": "code",
   "execution_count": null,
   "id": "c2e912a1",
   "metadata": {},
   "outputs": [],
   "source": []
  },
  {
   "cell_type": "code",
   "execution_count": null,
   "id": "04c6f54a",
   "metadata": {},
   "outputs": [],
   "source": []
  },
  {
   "cell_type": "markdown",
   "id": "b3876401",
   "metadata": {},
   "source": [
    "# task4"
   ]
  },
  {
   "cell_type": "code",
   "execution_count": 19,
   "id": "077b2870",
   "metadata": {},
   "outputs": [
    {
     "name": "stdout",
     "output_type": "stream",
     "text": [
      "what is 5 times 2:10\n",
      "correct\n",
      "what is 56-6:50\n",
      "correct\n",
      "what is8*9+2:72\n",
      "correct\n"
     ]
    }
   ],
   "source": [
    "n= int(input(\"what is 5 times 2:\"))\n",
    "if n==10:\n",
    "    print(\"correct\")\n",
    "else:\n",
    "    print(\"incorrect\")\n",
    "    \n",
    " #2\n",
    "s=int(input(\"what is 56-6:\"))\n",
    "if s==50:\n",
    "    print(\"correct\")\n",
    "else:\n",
    "    print(\"false\")\n",
    "    \n",
    "  #3\n",
    "d=int(input(\"what is8*9+2:\"))\n",
    "if d==72:\n",
    "    print(\"correct\")\n",
    "else:\n",
    "    print(\"incorrect\")\n",
    "\n",
    "\n",
    "\n"
   ]
  },
  {
   "cell_type": "markdown",
   "id": "de106019",
   "metadata": {},
   "source": [
    "# task 5"
   ]
  },
  {
   "cell_type": "code",
   "execution_count": 7,
   "id": "033a5dc5",
   "metadata": {},
   "outputs": [
    {
     "name": "stdout",
     "output_type": "stream",
     "text": [
      "your choice between rock,paper,scissor:paper\n",
      "computerchoice: rock\n",
      "user wins\n"
     ]
    }
   ],
   "source": [
    "import random\n",
    "user=input(\"your choice between rock,paper,scissor:\")\n",
    "poss=['rock','paper','scissor']\n",
    "computer=random.choice(poss)\n",
    "print('computerchoice:',computer)\n",
    "if user=='rock' and computer=='rock':\n",
    "    print('tie')\n",
    "if user=='rock' and computer=='paper':\n",
    "    print('computer wins')\n",
    "if user=='rock' and computer=='scissor':\n",
    "    print('user wins')\n",
    "if user=='paper' and computer=='paper':\n",
    "    print('tie')\n",
    "    \n",
    "if user=='paper' and computer=='rock':\n",
    "    print('user wins')    \n",
    "    \n",
    "if user=='paper' and computer=='scissor':\n",
    "    print('computer wins')    \n",
    "if user=='scissor' and computer=='scissor':\n",
    "    print('tie')    \n",
    "if user=='scissor' and computer=='rock':\n",
    "    print('computer wins')        \n",
    "if user=='scissor' and computer=='paper':\n",
    "    print('user wins')        \n",
    "    "
   ]
  },
  {
   "cell_type": "code",
   "execution_count": null,
   "id": "f48082d5",
   "metadata": {},
   "outputs": [],
   "source": []
  },
  {
   "cell_type": "code",
   "execution_count": null,
   "id": "0f8a580b",
   "metadata": {},
   "outputs": [],
   "source": []
  }
 ],
 "metadata": {
  "kernelspec": {
   "display_name": "Python 3 (ipykernel)",
   "language": "python",
   "name": "python3"
  },
  "language_info": {
   "codemirror_mode": {
    "name": "ipython",
    "version": 3
   },
   "file_extension": ".py",
   "mimetype": "text/x-python",
   "name": "python",
   "nbconvert_exporter": "python",
   "pygments_lexer": "ipython3",
   "version": "3.10.9"
  }
 },
 "nbformat": 4,
 "nbformat_minor": 5
}
